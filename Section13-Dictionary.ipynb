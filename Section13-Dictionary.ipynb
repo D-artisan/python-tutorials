{
 "cells": [
  {
   "cell_type": "markdown",
   "id": "9613cd8c",
   "metadata": {},
   "source": [
    "Dictionary: Associative Data Type / Hashtable\n",
    "Collection of key-value pair, separated by colon\n",
    "\n",
    "\n",
    "Accessing\n",
    "- Read\n",
    "- Write\n",
    "- Update\n",
    "- Traverse"
   ]
  },
  {
   "cell_type": "code",
   "execution_count": 5,
   "id": "de5d5fce",
   "metadata": {},
   "outputs": [
    {
     "name": "stdout",
     "output_type": "stream",
     "text": [
      "{1: 'One', 2: 'Two', 3: 'Three', 4: 'Four'}\n"
     ]
    },
    {
     "data": {
      "text/plain": [
       "'One'"
      ]
     },
     "execution_count": 5,
     "metadata": {},
     "output_type": "execute_result"
    }
   ],
   "source": [
    "emp = {} # Creates empty dictionary\n",
    "\n",
    "# Each key is associated with some value\n",
    "d1 = {\n",
    "    1:'One',\n",
    "    2:'Two',\n",
    "    3:'Three',\n",
    "    4:'Four'\n",
    "}\n",
    "\n",
    "print(d1)\n",
    "\n",
    "# Values are accessed using keys\n",
    "d1[1]"
   ]
  },
  {
   "cell_type": "code",
   "execution_count": 6,
   "id": "980ff1f9",
   "metadata": {},
   "outputs": [
    {
     "name": "stdout",
     "output_type": "stream",
     "text": [
      "{1: 'One', 2: 'Two', 3: 'Three', 4: 'Four'}\n",
      "{1: 'One', 2: 'Two', 3: 'tres', 4: 'Four'}\n"
     ]
    }
   ],
   "source": [
    "d1 = {1:\"One\", 2:'Two', 3:'Three', 4:'Four'}\n",
    "print(d1)\n",
    "d1[3] = \"tres\" # Modify value using key\n",
    "print(d1)\n"
   ]
  },
  {
   "cell_type": "code",
   "execution_count": 7,
   "id": "50c9253d",
   "metadata": {},
   "outputs": [
    {
     "name": "stdout",
     "output_type": "stream",
     "text": [
      "{1: 'One', 2: 'Two', 3: 'Three', 4: 'Four', 5: 'Five'}\n"
     ]
    }
   ],
   "source": [
    "# Writing or adding a new value\n",
    "\n",
    "d1 = {1:\"One\", 2:'Two', 3:'Three', 4:'Four'}\n",
    "\n",
    "d1[5] = 'Five'\n",
    "print(d1)"
   ]
  },
  {
   "cell_type": "code",
   "execution_count": null,
   "id": "9258dc16",
   "metadata": {},
   "outputs": [
    {
     "name": "stdout",
     "output_type": "stream",
     "text": [
      "1\n",
      "2\n",
      "3\n",
      "4\n"
     ]
    }
   ],
   "source": [
    "d1 = {1:\"One\", 2:'Two', 3:'Three', 4:'Four'}\n",
    "\n",
    "for i in d1: # This prints just keys\n",
    "    print(i)"
   ]
  },
  {
   "cell_type": "code",
   "execution_count": 9,
   "id": "db1f8af4",
   "metadata": {},
   "outputs": [
    {
     "name": "stdout",
     "output_type": "stream",
     "text": [
      "1 One\n",
      "2 Two\n",
      "3 Three\n",
      "4 Four\n"
     ]
    }
   ],
   "source": [
    "d1 = {1:\"One\", 2:'Two', 3:'Three', 4:'Four'}\n",
    "\n",
    "for i in d1: # This prints just keys\n",
    "    print(i, d1[i])"
   ]
  },
  {
   "cell_type": "code",
   "execution_count": 10,
   "id": "0cc71e6b",
   "metadata": {},
   "outputs": [
    {
     "name": "stdout",
     "output_type": "stream",
     "text": [
      "{1: 3.5, 2.5: True}\n"
     ]
    }
   ],
   "source": [
    "# Keys and values can be of any type\n",
    "d1 = {1:3.5, 2.5:True}\n",
    "print(d1)"
   ]
  },
  {
   "cell_type": "code",
   "execution_count": 11,
   "id": "31adbb17",
   "metadata": {},
   "outputs": [
    {
     "name": "stdout",
     "output_type": "stream",
     "text": [
      "{1: [10, 111], 2: (4, 5), 4: {1: 1, 2: 1}}\n"
     ]
    }
   ],
   "source": [
    "d1 = {1: [10,111], 2: (4,5), 4:{1:1,2:1}}\n",
    "print(d1)"
   ]
  },
  {
   "cell_type": "code",
   "execution_count": 12,
   "id": "779fcbdc",
   "metadata": {},
   "outputs": [
    {
     "name": "stdout",
     "output_type": "stream",
     "text": [
      "{(1, 2): 'h1'}\n"
     ]
    }
   ],
   "source": [
    "# List cannot be used as keys since it's mutable\n",
    "# Only immutable (hashable) types can be used as keys\n",
    "d1 = {(1,2):'h1'}\n",
    "print(d1)"
   ]
  },
  {
   "cell_type": "markdown",
   "id": "cc8f83f9",
   "metadata": {},
   "source": [
    "# Unhashable Key Error Explanation\n",
    "\n",
    "This code will give an error: **\"TypeError: unhashable type: 'list'\"**\n",
    "\n",
    "```python\n",
    "d1 = {[1,2]:'h1'}\n",
    "print(d1)\n",
    "```\n",
    "\n",
    "## What does \"unhashable\" mean in simple terms?\n",
    "\n",
    "Think of dictionary keys like **labels on filing cabinets**. The label needs to be:\n",
    "- **Permanent** (can't change)\n",
    "- **Unique** (so you can find the right cabinet)\n",
    "\n",
    "## Hashable vs Unhashable Types\n",
    "\n",
    "### Hashable = can be used as a dictionary key ✓\n",
    "- Numbers: `1, 2, 3`\n",
    "- Strings: `\"hello\"`\n",
    "- Tuples: `(1, 2)`\n",
    "\n",
    "### Unhashable = cannot be used as a dictionary key ✗\n",
    "- Lists: `[1, 2]`\n",
    "- Dictionaries: `{\"a\": 1}`\n",
    "- Sets: `{1, 2}`\n",
    "\n",
    "## Why lists are unhashable\n",
    "\n",
    "Lists can be **modified** after creation:\n",
    "```python\n",
    "my_list = [1, 2]\n",
    "my_list.append(3)  # Now it's [1, 2, 3]\n",
    "```\n",
    "\n",
    "If you used `[1, 2]` as a key, then changed it to `[1, 2, 3]`, Python wouldn't know how to find your data anymore!\n",
    "\n",
    "## Fix\n",
    "\n",
    "```python\n",
    "d1 = {(1, 2): 'h1'}  # Use tuple instead of list\n",
    "print(d1)  # Works fine\n",
    "```\n",
    "\n",
    "## Simple Rule\n",
    "\n",
    "Dictionary keys must be **unchangeable** (immutable) types."
   ]
  },
  {
   "cell_type": "code",
   "execution_count": 13,
   "id": "62153090",
   "metadata": {},
   "outputs": [
    {
     "ename": "TypeError",
     "evalue": "unhashable type: 'list'",
     "output_type": "error",
     "traceback": [
      "\u001b[0;31m---------------------------------------------------------------------------\u001b[0m",
      "\u001b[0;31mTypeError\u001b[0m                                 Traceback (most recent call last)",
      "Cell \u001b[0;32mIn[13], line 1\u001b[0m\n\u001b[0;32m----> 1\u001b[0m d1 \u001b[38;5;241m=\u001b[39m {[\u001b[38;5;241m1\u001b[39m,\u001b[38;5;241m2\u001b[39m]:\u001b[38;5;124m'\u001b[39m\u001b[38;5;124mh1\u001b[39m\u001b[38;5;124m'\u001b[39m}\n\u001b[1;32m      2\u001b[0m \u001b[38;5;28mprint\u001b[39m(d1)\n",
      "\u001b[0;31mTypeError\u001b[0m: unhashable type: 'list'"
     ]
    }
   ],
   "source": [
    "d1 = {[1,2]:'h1'}\n",
    "print(d1)"
   ]
  },
  {
   "cell_type": "code",
   "execution_count": 15,
   "id": "4c29e854",
   "metadata": {},
   "outputs": [
    {
     "name": "stdout",
     "output_type": "stream",
     "text": [
      "{'abacus': 'a calculator', 'bachelor': 'unmarried person', 'cable': 'strong rope'}\n",
      "{101: 'John', 102: 'Smith', 103: 'Mark', 104: 'David'}\n"
     ]
    }
   ],
   "source": [
    "d2 = { 'abacus': 'a calculator', 'bachelor': 'unmarried person', 'cable': 'strong rope' }\n",
    "\n",
    "d3 = { 101: 'John', 102: 'Smith', 103: 'Mark', 104: 'David' }\n",
    "\n",
    "print(d2)\n",
    "print(d3)"
   ]
  },
  {
   "cell_type": "markdown",
   "id": "dbb3a13a",
   "metadata": {},
   "source": [
    "Creating a Dictionary\n",
    "- Iterable Pairs\n",
    "- Zip Function\n",
    "- Enumerate Function"
   ]
  },
  {
   "cell_type": "code",
   "execution_count": null,
   "id": "f8c553c3",
   "metadata": {},
   "outputs": [],
   "source": [
    "d1 = {1:\"One\", 2:'Two', 3:'Three', 4:'Four'}\n",
    "\n"
   ]
  },
  {
   "cell_type": "code",
   "execution_count": 16,
   "id": "c4495572",
   "metadata": {},
   "outputs": [
    {
     "name": "stdout",
     "output_type": "stream",
     "text": [
      "{1: 'One', 2: 'Two', 3: 'Three', 4: 'Four'}\n"
     ]
    }
   ],
   "source": [
    "# We can create a dictionary from a list of tuples\n",
    "d1 = dict([(1, 'One'), (2, 'Two'), (3, 'Three'), (4, 'Four')])\n",
    "print(d1)"
   ]
  },
  {
   "cell_type": "code",
   "execution_count": 17,
   "id": "dfbf63eb",
   "metadata": {},
   "outputs": [
    {
     "name": "stdout",
     "output_type": "stream",
     "text": [
      "{1: 'One', 2: 'Two', 3: 'Three', 4: 'Four'}\n"
     ]
    }
   ],
   "source": [
    "L1 = [1, 2, 3, 4]\n",
    "L2 = ['One', 'Two', 'Three', 'Four']\n",
    "\n",
    "d1 = dict(zip(L1,L2))\n",
    "print(d1)"
   ]
  },
  {
   "cell_type": "code",
   "execution_count": 20,
   "id": "8487f5ae",
   "metadata": {},
   "outputs": [
    {
     "name": "stdout",
     "output_type": "stream",
     "text": [
      "{0: 'One', 1: 'Two', 2: 'Three', 3: 'Four'}\n"
     ]
    }
   ],
   "source": [
    "my_list = ['One', 'Two', 'Three', 'Four']\n",
    "d1 = dict(enumerate(my_list))\n",
    "print(d1)"
   ]
  },
  {
   "cell_type": "code",
   "execution_count": 21,
   "id": "e458ccda",
   "metadata": {},
   "outputs": [
    {
     "name": "stdout",
     "output_type": "stream",
     "text": [
      "{1: 'One', 2: 'Two', 3: 'Three', 4: 'Four'}\n"
     ]
    }
   ],
   "source": [
    "my_list = ['One', 'Two', 'Three', 'Four']\n",
    "d1 = dict(enumerate(my_list, start=1))\n",
    "print(d1)"
   ]
  }
 ],
 "metadata": {
  "kernelspec": {
   "display_name": "venv",
   "language": "python",
   "name": "python3"
  },
  "language_info": {
   "codemirror_mode": {
    "name": "ipython",
    "version": 3
   },
   "file_extension": ".py",
   "mimetype": "text/x-python",
   "name": "python",
   "nbconvert_exporter": "python",
   "pygments_lexer": "ipython3",
   "version": "3.10.12"
  }
 },
 "nbformat": 4,
 "nbformat_minor": 5
}
