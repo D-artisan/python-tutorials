{
 "cells": [
  {
   "cell_type": "markdown",
   "id": "9613cd8c",
   "metadata": {},
   "source": [
    "Dictionary: Associative Data Type / Hashtable\n",
    "\n",
    "\n",
    "Accessing\n",
    "- Read\n",
    "- Write\n",
    "- Update\n",
    "- Traverse"
   ]
  },
  {
   "cell_type": "code",
   "execution_count": 1,
   "id": "de5d5fce",
   "metadata": {},
   "outputs": [],
   "source": [
    "d1 = {}"
   ]
  }
 ],
 "metadata": {
  "kernelspec": {
   "display_name": "venv",
   "language": "python",
   "name": "python3"
  },
  "language_info": {
   "codemirror_mode": {
    "name": "ipython",
    "version": 3
   },
   "file_extension": ".py",
   "mimetype": "text/x-python",
   "name": "python",
   "nbconvert_exporter": "python",
   "pygments_lexer": "ipython3",
   "version": "3.10.12"
  }
 },
 "nbformat": 4,
 "nbformat_minor": 5
}
