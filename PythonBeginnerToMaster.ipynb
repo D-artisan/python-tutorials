{
 "cells": [
  {
   "cell_type": "markdown",
   "metadata": {},
   "source": [
    "# COURSE NOTES"
   ]
  },
  {
   "cell_type": "markdown",
   "metadata": {},
   "source": [
    "### PYTHON DATATYPES"
   ]
  },
  {
   "cell_type": "markdown",
   "metadata": {},
   "source": [
    "#### What is a Program?\n",
    "\n",
    "A program is a step-by-step procedure for performing a particular task. In simple terms, it is a set of instructions that can be understood by a computer."
   ]
  },
  {
   "cell_type": "code",
   "execution_count": 10,
   "metadata": {},
   "outputs": [
    {
     "name": "stdout",
     "output_type": "stream",
     "text": [
      "Area is 35\n"
     ]
    }
   ],
   "source": [
    "# Calculate area of rectangle\n",
    "length = 15\n",
    "breadth = 20\n",
    "area = length + breadth\n",
    "print(f\"Area is {area}\")"
   ]
  },
  {
   "cell_type": "code",
   "execution_count": 7,
   "metadata": {},
   "outputs": [
    {
     "name": "stdout",
     "output_type": "stream",
     "text": [
      "Bill Amount 53\n"
     ]
    }
   ],
   "source": [
    "prices = [10,7,5,8,6]\n",
    "quantity = [1,2,3,1,1]\n",
    "\n",
    "total = 0\n",
    "\n",
    "for i in range(len(prices)):\n",
    "    total = total + prices[i] * quantity[i]\n",
    "\n",
    "print(f\"Bill Amount {total}\")"
   ]
  },
  {
   "cell_type": "markdown",
   "metadata": {},
   "source": [
    "#### VARIABLES\n",
    "\n",
    "Variables simply given to the names given to the data operations are to be performed on in our program.\n",
    "\n",
    "- Declaration\n",
    "- Initialisation\n",
    "\n",
    "![Variables](/home/dnti/dartisan/tutorials/python/images/variables.png)\n",
    "\n",
    "- Memory Allocation\n",
    "Variable name is the name given to the memory location which holds the data we store.\n",
    "The variable name is a reference to the data.\n",
    "\n",
    "![Variables](/home/dnti/dartisan/tutorials/python/images/variables2.png)\n",
    "\n",
    "- Types of Data\n",
    "\n",
    "![Variables](/home/dnti/dartisan/tutorials/python/images/variables3.png)\n",
    "\n",
    "- Multiple Declarations\n",
    "name, price, qty = 'Soap', 12.75, 5\n",
    "\n",
    "![Variables](/home/dnti/dartisan/tutorials/python/images/variables4.png)\n",
    "\n",
    "\n",
    "![Variables](/home/dnti/dartisan/tutorials/python/images/variables5.png)\n",
    "\n",
    "This can also be written as a = b = c = 1"
   ]
  },
  {
   "cell_type": "code",
   "execution_count": null,
   "metadata": {},
   "outputs": [],
   "source": []
  },
  {
   "cell_type": "code",
   "execution_count": 11,
   "metadata": {},
   "outputs": [
    {
     "name": "stdout",
     "output_type": "stream",
     "text": [
      "15\n"
     ]
    }
   ],
   "source": [
    "length = 15\n",
    "print(length)"
   ]
  },
  {
   "cell_type": "code",
   "execution_count": 12,
   "metadata": {},
   "outputs": [
    {
     "name": "stdout",
     "output_type": "stream",
     "text": [
      "[10, 7, 5, 8, 6]\n"
     ]
    }
   ],
   "source": [
    "prices = [10,7,5,8,6]\n",
    "print(prices)"
   ]
  },
  {
   "cell_type": "code",
   "execution_count": 13,
   "metadata": {},
   "outputs": [
    {
     "name": "stdout",
     "output_type": "stream",
     "text": [
      "Soap 12.75 5\n"
     ]
    }
   ],
   "source": [
    "name, price, qty = 'Soap', 12.75, 5\n",
    "print(name, price, qty)"
   ]
  },
  {
   "cell_type": "code",
   "execution_count": 15,
   "metadata": {},
   "outputs": [
    {
     "name": "stdout",
     "output_type": "stream",
     "text": [
      "140351598477552 140351598477552 140351598477552\n"
     ]
    }
   ],
   "source": [
    "a, b, c= 1, 1, 1\n",
    "print(id(a), id(b), id(c)) # This demonstrates the values of all three variables refer to the same memory location."
   ]
  },
  {
   "cell_type": "code",
   "execution_count": 17,
   "metadata": {},
   "outputs": [
    {
     "name": "stdout",
     "output_type": "stream",
     "text": [
      "1 1 1\n"
     ]
    }
   ],
   "source": [
    "a = b = c = 1 \n",
    "print(a, b, c)"
   ]
  },
  {
   "cell_type": "markdown",
   "metadata": {},
   "source": [
    "#### Dynamic Typing"
   ]
  },
  {
   "cell_type": "code",
   "execution_count": 18,
   "metadata": {},
   "outputs": [
    {
     "name": "stdout",
     "output_type": "stream",
     "text": [
      "<class 'int'>\n"
     ]
    }
   ],
   "source": [
    "a = 15\n",
    "print(type(a))"
   ]
  },
  {
   "cell_type": "code",
   "execution_count": 19,
   "metadata": {},
   "outputs": [
    {
     "name": "stdout",
     "output_type": "stream",
     "text": [
      "<class 'float'>\n"
     ]
    }
   ],
   "source": [
    "a = 12.75\n",
    "print(type(a))"
   ]
  },
  {
   "cell_type": "code",
   "execution_count": 21,
   "metadata": {},
   "outputs": [
    {
     "name": "stdout",
     "output_type": "stream",
     "text": [
      "<class 'str'>\n"
     ]
    }
   ],
   "source": [
    "a = 'John'\n",
    "print(type(a))"
   ]
  },
  {
   "cell_type": "code",
   "execution_count": 22,
   "metadata": {},
   "outputs": [
    {
     "name": "stdout",
     "output_type": "stream",
     "text": [
      "<class 'list'>\n"
     ]
    }
   ],
   "source": [
    "a = [10, 15, 28, 4]\n",
    "print(type(a))"
   ]
  },
  {
   "cell_type": "markdown",
   "metadata": {},
   "source": [
    "#### Rules for Variable Names"
   ]
  },
  {
   "cell_type": "code",
   "execution_count": 24,
   "metadata": {},
   "outputs": [
    {
     "name": "stdout",
     "output_type": "stream",
     "text": [
      "153\n"
     ]
    }
   ],
   "source": [
    "prod_id = 153\n",
    "print(prod_id)"
   ]
  },
  {
   "cell_type": "code",
   "execution_count": 25,
   "metadata": {},
   "outputs": [],
   "source": [
    "a1 = 10\n",
    "abc123mnp = 10\n",
    "abc_def = 15"
   ]
  },
  {
   "cell_type": "code",
   "execution_count": 26,
   "metadata": {},
   "outputs": [
    {
     "ename": "SyntaxError",
     "evalue": "cannot assign to False (2938207615.py, line 1)",
     "output_type": "error",
     "traceback": [
      "\u001b[0;36m  Cell \u001b[0;32mIn[26], line 1\u001b[0;36m\u001b[0m\n\u001b[0;31m    False = 'No'\u001b[0m\n\u001b[0m    ^\u001b[0m\n\u001b[0;31mSyntaxError\u001b[0m\u001b[0;31m:\u001b[0m cannot assign to False\n"
     ]
    }
   ],
   "source": [
    "False = 'No'"
   ]
  },
  {
   "cell_type": "code",
   "execution_count": 28,
   "metadata": {},
   "outputs": [],
   "source": [
    "#  Python is case sensitive. Something like this is allowed, but not recommended.\n",
    "false = 'No'"
   ]
  },
  {
   "cell_type": "markdown",
   "metadata": {},
   "source": [
    "#### Data Types\n",
    "\n",
    "- Numberic\n",
    "- Sequence \n",
    "    - List\n",
    "    - Tuple\n",
    "    - String\n",
    "- Set\n",
    "- Dictionary"
   ]
  },
  {
   "cell_type": "code",
   "execution_count": 29,
   "metadata": {},
   "outputs": [],
   "source": [
    "x = 101\n",
    "y = 1234567890123456"
   ]
  },
  {
   "cell_type": "code",
   "execution_count": 40,
   "metadata": {},
   "outputs": [
    {
     "data": {
      "text/plain": [
       "28"
      ]
     },
     "execution_count": 40,
     "metadata": {},
     "output_type": "execute_result"
    }
   ],
   "source": [
    "import sys\n",
    "sys.getsizeof(x) #bytes"
   ]
  },
  {
   "cell_type": "code",
   "execution_count": 41,
   "metadata": {},
   "outputs": [
    {
     "data": {
      "text/plain": [
       "32"
      ]
     },
     "execution_count": 41,
     "metadata": {},
     "output_type": "execute_result"
    }
   ],
   "source": [
    "import sys\n",
    "sys.getsizeof(y) #bytes"
   ]
  },
  {
   "cell_type": "markdown",
   "metadata": {},
   "source": [
    "##### Integers"
   ]
  },
  {
   "cell_type": "code",
   "execution_count": 48,
   "metadata": {},
   "outputs": [
    {
     "data": {
      "text/plain": [
       "140351598480752"
      ]
     },
     "execution_count": 48,
     "metadata": {},
     "output_type": "execute_result"
    }
   ],
   "source": [
    "# Integers are immutable. When you store an integer in a variable and later assign a different interger, python \n",
    "# simply points to the variable to the new memory location of the new integer and garbage collects the old.\n",
    "num1 = 101\n",
    "id(num1)"
   ]
  },
  {
   "cell_type": "code",
   "execution_count": null,
   "metadata": {},
   "outputs": [
    {
     "data": {
      "text/plain": [
       "140351598484080"
      ]
     },
     "execution_count": 50,
     "metadata": {},
     "output_type": "execute_result"
    }
   ],
   "source": [
    "# you cannot modify the same thing. you can only create a new one.\n",
    "num1 = 205\n",
    "id(num1)"
   ]
  },
  {
   "cell_type": "markdown",
   "metadata": {},
   "source": [
    "##### Floating Point Representation"
   ]
  },
  {
   "cell_type": "code",
   "execution_count": 51,
   "metadata": {},
   "outputs": [
    {
     "name": "stdout",
     "output_type": "stream",
     "text": [
      "29.75 -1.75 -250.0 -0.031\n"
     ]
    }
   ],
   "source": [
    "a = 29.75\n",
    "b = -1.75\n",
    "c = -2.5E2\n",
    "d = -3.1e-2\n",
    "\n",
    "print(a, b, c , d)"
   ]
  },
  {
   "cell_type": "markdown",
   "metadata": {},
   "source": [
    "##### Boolean\n",
    "\n",
    "- Used for writing conditional statements"
   ]
  },
  {
   "cell_type": "code",
   "execution_count": 58,
   "metadata": {},
   "outputs": [
    {
     "name": "stdout",
     "output_type": "stream",
     "text": [
      "True False\n"
     ]
    }
   ],
   "source": [
    "x = True\n",
    "y = False\n",
    "print(x,y)"
   ]
  },
  {
   "cell_type": "code",
   "execution_count": 62,
   "metadata": {},
   "outputs": [
    {
     "data": {
      "text/plain": [
       "bool"
      ]
     },
     "execution_count": 62,
     "metadata": {},
     "output_type": "execute_result"
    }
   ],
   "source": [
    "int(x)\n",
    "type(x)"
   ]
  },
  {
   "cell_type": "code",
   "execution_count": 61,
   "metadata": {},
   "outputs": [
    {
     "data": {
      "text/plain": [
       "0"
      ]
     },
     "execution_count": 61,
     "metadata": {},
     "output_type": "execute_result"
    }
   ],
   "source": [
    "int(y)"
   ]
  },
  {
   "cell_type": "code",
   "execution_count": 63,
   "metadata": {},
   "outputs": [
    {
     "data": {
      "text/plain": [
       "True"
      ]
     },
     "execution_count": 63,
     "metadata": {},
     "output_type": "execute_result"
    }
   ],
   "source": [
    "a = 10\n",
    "b = 5\n",
    "\n",
    "a > b "
   ]
  },
  {
   "cell_type": "markdown",
   "metadata": {},
   "source": [
    "##### Complex "
   ]
  },
  {
   "cell_type": "code",
   "execution_count": 65,
   "metadata": {},
   "outputs": [
    {
     "name": "stdout",
     "output_type": "stream",
     "text": [
      "(10+5j)\n"
     ]
    }
   ],
   "source": [
    "c = 10 + 5j\n",
    "print(c)"
   ]
  },
  {
   "cell_type": "code",
   "execution_count": 66,
   "metadata": {},
   "outputs": [
    {
     "name": "stdout",
     "output_type": "stream",
     "text": [
      "(5+3.1j)\n"
     ]
    }
   ],
   "source": [
    "c = complex(5, 3.1)\n",
    "print(c)"
   ]
  },
  {
   "cell_type": "code",
   "execution_count": 68,
   "metadata": {},
   "outputs": [
    {
     "name": "stdout",
     "output_type": "stream",
     "text": [
      "(10+0j)\n"
     ]
    }
   ],
   "source": [
    "c = complex(10)\n",
    "print(c)"
   ]
  },
  {
   "cell_type": "markdown",
   "metadata": {},
   "source": [
    "Literals are also known as constants. These are the direct values used or declared in your program"
   ]
  },
  {
   "cell_type": "code",
   "execution_count": 1,
   "metadata": {},
   "outputs": [
    {
     "name": "stdout",
     "output_type": "stream",
     "text": [
      "201 135246198\n"
     ]
    }
   ],
   "source": [
    "a = 201\n",
    "b = 13_52_46_198\n",
    "\n",
    "print(a, b)"
   ]
  },
  {
   "cell_type": "code",
   "execution_count": 2,
   "metadata": {},
   "outputs": [
    {
     "ename": "SyntaxError",
     "evalue": "invalid decimal literal (1940292144.py, line 1)",
     "output_type": "error",
     "traceback": [
      "\u001b[0;36m  Cell \u001b[0;32mIn[2], line 1\u001b[0;36m\u001b[0m\n\u001b[0;31m    c = 358_\u001b[0m\n\u001b[0m           ^\u001b[0m\n\u001b[0;31mSyntaxError\u001b[0m\u001b[0;31m:\u001b[0m invalid decimal literal\n"
     ]
    }
   ],
   "source": [
    "c = 358_"
   ]
  },
  {
   "cell_type": "code",
   "execution_count": null,
   "metadata": {},
   "outputs": [
    {
     "ename": "NameError",
     "evalue": "name '_125' is not defined",
     "output_type": "error",
     "traceback": [
      "\u001b[0;31m---------------------------------------------------------------------------\u001b[0m",
      "\u001b[0;31mNameError\u001b[0m                                 Traceback (most recent call last)",
      "Cell \u001b[0;32mIn[3], line 1\u001b[0m\n\u001b[0;32m----> 1\u001b[0m d \u001b[38;5;241m=\u001b[39m \u001b[43m_125\u001b[49m\n",
      "\u001b[0;31mNameError\u001b[0m: name '_125' is not defined"
     ]
    }
   ],
   "source": [
    "# d = _125"
   ]
  },
  {
   "cell_type": "code",
   "execution_count": 5,
   "metadata": {},
   "outputs": [],
   "source": [
    "a = 9.75\n",
    "b = 15.0"
   ]
  },
  {
   "cell_type": "code",
   "execution_count": 6,
   "metadata": {},
   "outputs": [
    {
     "name": "stdout",
     "output_type": "stream",
     "text": [
      "1200.0 0.125\n"
     ]
    }
   ],
   "source": [
    "c = 12E2\n",
    "d = 12.5e-2\n",
    "print(c, d)"
   ]
  },
  {
   "cell_type": "code",
   "execution_count": 7,
   "metadata": {},
   "outputs": [],
   "source": [
    "e = 12_5.6_7"
   ]
  },
  {
   "cell_type": "code",
   "execution_count": 36,
   "metadata": {},
   "outputs": [
    {
     "ename": "SyntaxError",
     "evalue": "invalid decimal literal (1522077941.py, line 1)",
     "output_type": "error",
     "traceback": [
      "\u001b[0;36m  Cell \u001b[0;32mIn[36], line 1\u001b[0;36m\u001b[0m\n\u001b[0;31m    f = 5_._9\u001b[0m\n\u001b[0m         ^\u001b[0m\n\u001b[0;31mSyntaxError\u001b[0m\u001b[0;31m:\u001b[0m invalid decimal literal\n"
     ]
    }
   ],
   "source": [
    "f = 5_._9"
   ]
  },
  {
   "cell_type": "markdown",
   "metadata": {},
   "source": [
    "Boolean Literals"
   ]
  },
  {
   "cell_type": "code",
   "execution_count": 9,
   "metadata": {},
   "outputs": [],
   "source": [
    "a = True\n",
    "b = False"
   ]
  },
  {
   "cell_type": "markdown",
   "metadata": {},
   "source": [
    "Complex Literals"
   ]
  },
  {
   "cell_type": "code",
   "execution_count": 11,
   "metadata": {},
   "outputs": [
    {
     "name": "stdout",
     "output_type": "stream",
     "text": [
      "(4+5j) (12+13j) (1.52+1.3j)\n"
     ]
    }
   ],
   "source": [
    "a = 4 + 5j\n",
    "b = 1_2 + 1_3j\n",
    "c = 1.5_2 + 1.3j\n",
    "print(a, b, c)"
   ]
  },
  {
   "cell_type": "markdown",
   "metadata": {},
   "source": [
    "String Literals"
   ]
  },
  {
   "cell_type": "code",
   "execution_count": 15,
   "metadata": {},
   "outputs": [
    {
     "name": "stdout",
     "output_type": "stream",
     "text": [
      "John John \"John\" John John \"John\"\n"
     ]
    }
   ],
   "source": [
    "name = 'John'\n",
    "name1 = \"John\"\n",
    "name2 = '\"John\"'\n",
    "name3 = '''John'''\n",
    "name4 = \"\"\"John\"\"\"\n",
    "name5 = '''\"John\"'''\n",
    "print(name, name1, name2, name3, name4, name5)"
   ]
  },
  {
   "cell_type": "markdown",
   "metadata": {},
   "source": [
    "Integer Literals\n",
    "\n",
    "Number Systems\n",
    "1. Decimal\n",
    "2. Binary\n",
    "3. Octal\n",
    "4. HexaDecimals"
   ]
  },
  {
   "cell_type": "code",
   "execution_count": 17,
   "metadata": {},
   "outputs": [
    {
     "name": "stdout",
     "output_type": "stream",
     "text": [
      "255 255 255 255\n"
     ]
    }
   ],
   "source": [
    "decimal_num = 255       # Decimal literal\n",
    "binary_num = 0b11111111 # Binary literal\n",
    "octal_num = 0o377       # Octal literal\n",
    "hex_num = 0xFF          # Hexadecimal literal\n",
    "\n",
    "print(decimal_num, binary_num, octal_num, hex_num)"
   ]
  },
  {
   "cell_type": "markdown",
   "metadata": {},
   "source": [
    "![Variables](/home/dnti/dartisan/tutorials/python/images/base_conversion.png)"
   ]
  },
  {
   "cell_type": "code",
   "execution_count": 19,
   "metadata": {},
   "outputs": [
    {
     "name": "stdout",
     "output_type": "stream",
     "text": [
      "0b1010\n",
      "0o12\n",
      "0xa\n"
     ]
    }
   ],
   "source": [
    "print(bin(10))  # Convert decimal to binary\n",
    "print(oct(10))  # Convert decimal to octal\n",
    "print(hex(10))  # Convert decimal to hexadecimal"
   ]
  },
  {
   "cell_type": "code",
   "execution_count": 24,
   "metadata": {},
   "outputs": [
    {
     "name": "stdout",
     "output_type": "stream",
     "text": [
      "0b10100 0o24 0x14\n",
      "<class 'str'>\n"
     ]
    },
    {
     "data": {
      "text/plain": [
       "True"
      ]
     },
     "execution_count": 24,
     "metadata": {},
     "output_type": "execute_result"
    }
   ],
   "source": [
    "s1 = bin(20)  # Convert decimal to binary\n",
    "s2 = oct(20)  # Convert decimal to octal\n",
    "s3 = hex(20)  # Convert decimal to hexadecimal\n",
    "print(s1, s2, s3)\n",
    "\n",
    "print(type(s1))\n",
    "\n",
    "# Base conversion functions (bin, oct, hex) return strings\n",
    "isinstance(s1, str) and isinstance(s2, str) and isinstance(s3, str)"
   ]
  },
  {
   "cell_type": "code",
   "execution_count": 25,
   "metadata": {},
   "outputs": [
    {
     "name": "stdout",
     "output_type": "stream",
     "text": [
      "0b1\n",
      "0o0\n",
      "0x1\n",
      "Error: 'float' object cannot be interpreted as an integer\n"
     ]
    }
   ],
   "source": [
    "# Base conversion functions (bin, oct, hex) can convert boolean values (True, False) to their integer equivalents\n",
    "# True is treated as 1 and False is treated as 0\n",
    "print(bin(True))  # Output: '0b1'\n",
    "print(oct(False)) # Output: '0o0'\n",
    "print(hex(True))  # Output: '0x1'\n",
    "\n",
    "# However, base conversion functions cannot convert float values and will raise a TypeError\n",
    "try:\n",
    "    print(bin(3.14))  # This will raise a TypeError\n",
    "except TypeError as e:\n",
    "    print(f\"Error: {e}\")"
   ]
  },
  {
   "cell_type": "markdown",
   "metadata": {},
   "source": [
    "TYPE CONVERSION"
   ]
  },
  {
   "cell_type": "code",
   "execution_count": 2,
   "metadata": {},
   "outputs": [
    {
     "name": "stdout",
     "output_type": "stream",
     "text": [
      "88\n"
     ]
    }
   ],
   "source": [
    "num = 88.54\n",
    "print(int(num))  # Convert float to int"
   ]
  },
  {
   "cell_type": "code",
   "execution_count": 1,
   "metadata": {},
   "outputs": [
    {
     "name": "stdout",
     "output_type": "stream",
     "text": [
      "1\n"
     ]
    }
   ],
   "source": [
    "b = True\n",
    "print(int(b))  # Output: 1"
   ]
  },
  {
   "cell_type": "code",
   "execution_count": 3,
   "metadata": {},
   "outputs": [
    {
     "name": "stdout",
     "output_type": "stream",
     "text": [
      "125\n",
      "15\n",
      "127\n",
      "255\n"
     ]
    }
   ],
   "source": [
    "print(int('125'))\n",
    "print(int('0b1111', 2))  # Binary to decimal    \n",
    "print(int('0o177', 8))  # Octal to decimal\n",
    "print(int('0xFF', 16))  # Hexadecimal to decimal"
   ]
  },
  {
   "cell_type": "code",
   "execution_count": 4,
   "metadata": {},
   "outputs": [
    {
     "ename": "ValueError",
     "evalue": "invalid literal for int() with base 10: 'Alexa'",
     "output_type": "error",
     "traceback": [
      "\u001b[0;31m---------------------------------------------------------------------------\u001b[0m",
      "\u001b[0;31mValueError\u001b[0m                                Traceback (most recent call last)",
      "Cell \u001b[0;32mIn[4], line 1\u001b[0m\n\u001b[0;32m----> 1\u001b[0m \u001b[38;5;28mprint\u001b[39m(\u001b[38;5;28;43mint\u001b[39;49m\u001b[43m(\u001b[49m\u001b[38;5;124;43m'\u001b[39;49m\u001b[38;5;124;43mAlexa\u001b[39;49m\u001b[38;5;124;43m'\u001b[39;49m\u001b[43m)\u001b[49m)\n",
      "\u001b[0;31mValueError\u001b[0m: invalid literal for int() with base 10: 'Alexa'"
     ]
    }
   ],
   "source": [
    "print(int('Alexa'))"
   ]
  },
  {
   "cell_type": "code",
   "execution_count": 5,
   "metadata": {},
   "outputs": [
    {
     "ename": "TypeError",
     "evalue": "int() argument must be a string, a bytes-like object or a real number, not 'complex'",
     "output_type": "error",
     "traceback": [
      "\u001b[0;31m---------------------------------------------------------------------------\u001b[0m",
      "\u001b[0;31mTypeError\u001b[0m                                 Traceback (most recent call last)",
      "Cell \u001b[0;32mIn[5], line 1\u001b[0m\n\u001b[0;32m----> 1\u001b[0m \u001b[38;5;28mprint\u001b[39m(\u001b[38;5;28;43mint\u001b[39;49m\u001b[43m(\u001b[49m\u001b[38;5;241;43m2\u001b[39;49m\u001b[38;5;241;43m+\u001b[39;49m\u001b[38;5;241;43m4\u001b[39;49m\u001b[43mj\u001b[49m\u001b[43m)\u001b[49m)\n",
      "\u001b[0;31mTypeError\u001b[0m: int() argument must be a string, a bytes-like object or a real number, not 'complex'"
     ]
    }
   ],
   "source": [
    "print(int(2+4j))"
   ]
  },
  {
   "cell_type": "code",
   "execution_count": 6,
   "metadata": {},
   "outputs": [
    {
     "name": "stdout",
     "output_type": "stream",
     "text": [
      "125.0\n",
      "1.0\n",
      "12.75\n"
     ]
    }
   ],
   "source": [
    "i = 125\n",
    "b = True\n",
    "s = '12.75'\n",
    "print(float(i))  # Convert int to float\n",
    "print(float(b))  # Convert bool to float\n",
    "print(float(s))  # Convert string to float"
   ]
  },
  {
   "cell_type": "code",
   "execution_count": 8,
   "metadata": {},
   "outputs": [
    {
     "name": "stdout",
     "output_type": "stream",
     "text": [
      "False\n",
      "True\n",
      "True\n",
      "False\n",
      "False\n"
     ]
    }
   ],
   "source": [
    "print(bool(0))  # Output: False\n",
    "print(bool(1))  # Output: True\n",
    "print(bool(-1.2E-3))  # Output: True\n",
    "print(bool(''))  # Output: False\n",
    "print(bool())  # Output: False"
   ]
  },
  {
   "cell_type": "code",
   "execution_count": 9,
   "metadata": {},
   "outputs": [
    {
     "name": "stdout",
     "output_type": "stream",
     "text": [
      "(10+0j)\n",
      "(10+5j)\n"
     ]
    }
   ],
   "source": [
    "print(complex(10))  # Output: (10+0j)\n",
    "print(complex(10, 5))  # Output: (10+5j)"
   ]
  },
  {
   "cell_type": "markdown",
   "metadata": {},
   "source": [
    "Type Conversion"
   ]
  },
  {
   "cell_type": "code",
   "execution_count": 2,
   "metadata": {},
   "outputs": [
    {
     "name": "stdout",
     "output_type": "stream",
     "text": [
      "10\n",
      "-12\n"
     ]
    },
    {
     "data": {
      "text/plain": [
       "'-12'"
      ]
     },
     "execution_count": 2,
     "metadata": {},
     "output_type": "execute_result"
    }
   ],
   "source": [
    "print(str(10))  # Convert int to string\n",
    "print(str(-12))\n",
    "str(-12)"
   ]
  },
  {
   "cell_type": "code",
   "execution_count": 3,
   "metadata": {},
   "outputs": [
    {
     "name": "stdout",
     "output_type": "stream",
     "text": [
      "0o24\n"
     ]
    }
   ],
   "source": [
    "a = 20\n",
    "x = oct(a)\n",
    "print(x)"
   ]
  },
  {
   "cell_type": "markdown",
   "metadata": {},
   "source": [
    "Operators"
   ]
  },
  {
   "cell_type": "code",
   "execution_count": 6,
   "metadata": {},
   "outputs": [],
   "source": [
    "a = 14\n",
    "b = 4"
   ]
  },
  {
   "cell_type": "markdown",
   "metadata": {},
   "source": [
    "Expressions"
   ]
  },
  {
   "cell_type": "code",
   "execution_count": 8,
   "metadata": {},
   "outputs": [
    {
     "name": "stdout",
     "output_type": "stream",
     "text": [
      "The area of the rectangle is 1000\n"
     ]
    }
   ],
   "source": [
    "# Find the area of a rectange\n",
    "\n",
    "length = int(input(\"Enter the length: \"))\n",
    "breadth = int(input(\"Enter the breadth: \"))\n",
    "area = length * breadth\n",
    "\n",
    "print(f\"The area of the rectangle is {area}\")"
   ]
  },
  {
   "cell_type": "code",
   "execution_count": 11,
   "metadata": {},
   "outputs": [
    {
     "name": "stdout",
     "output_type": "stream",
     "text": [
      "The area of the circle is 246.74011002723395\n"
     ]
    }
   ],
   "source": [
    "import math\n",
    "# Area of circle\n",
    "radius = int(input(\"Enter the radius of the circle: \"))\n",
    "area = (math.pi * radius) ** 2\n",
    "\n",
    "print(f\"The area of the circle is {area}\")"
   ]
  },
  {
   "cell_type": "code",
   "execution_count": 14,
   "metadata": {},
   "outputs": [
    {
     "name": "stdout",
     "output_type": "stream",
     "text": [
      "The area of the triangle is 25.0\n"
     ]
    }
   ],
   "source": [
    "# Area of Triangle\n",
    "\n",
    "base = int(input(\"Enter the base of the triangle: \"))\n",
    "height = int(input(\"Enter the height of the triangle: \"))\n",
    "\n",
    "area = 0.5 * base * height\n",
    "print(f\"The area of the triangle is {area}\")"
   ]
  },
  {
   "cell_type": "code",
   "execution_count": 15,
   "metadata": {},
   "outputs": [
    {
     "name": "stdout",
     "output_type": "stream",
     "text": [
      "The area of the trapezium is 35.0\n"
     ]
    }
   ],
   "source": [
    "# Area of Trapezium\n",
    "\n",
    "base_1 = int(input(\"Enter the 1st base: \"))\n",
    "base_2 = int(input(\"Enter the 2nd base: \"))\n",
    "height = int(input(\"Enter the height: \"))\n",
    "\n",
    "area = 0.5 * (base_1 + base_2) * height\n",
    "print(f\"The area of the trapezium is {area}\")"
   ]
  },
  {
   "cell_type": "code",
   "execution_count": 13,
   "metadata": {},
   "outputs": [
    {
     "name": "stdout",
     "output_type": "stream",
     "text": [
      "50 kilometres is equal to 31.068550000000002 miles\n"
     ]
    }
   ],
   "source": [
    "# Convert Km to Miles\n",
    "\n",
    "num_in_km = int(input(\"Enter the number in kilometres: \"))\n",
    "\n",
    "num_in_miles = num_in_km * 0.621371\n",
    "print(f\"{num_in_km} kilometres is equal to {num_in_miles} miles\")"
   ]
  },
  {
   "cell_type": "code",
   "execution_count": 23,
   "metadata": {},
   "outputs": [
    {
     "name": "stdout",
     "output_type": "stream",
     "text": [
      "Displacement =  100.0\n"
     ]
    }
   ],
   "source": [
    "# Convert Displacement\n",
    "\n",
    "initial_velocity = float(input(\"Enter the initial velocity: \"))\n",
    "time = float(input(\"Enter the time: \"))\n",
    "acceleration = float(input(\"Enter the acceleration of the object: \"))\n",
    "\n",
    "\n",
    "displacement = ((initial_velocity * time) + (0.5 * (acceleration * (time ** 2))))\n",
    "\n",
    "print(\"Displacement = \", displacement)"
   ]
  },
  {
   "cell_type": "code",
   "execution_count": null,
   "metadata": {},
   "outputs": [],
   "source": [
    "u = 4 # Inital velocity\n",
    "v = 6 # final velocity\n",
    "a = 3 # acceleration\n",
    "\n",
    "d = (v**2 - u**2) / (2 * a)\n",
    "\n",
    "print(\"Displacement is:\", d)"
   ]
  },
  {
   "cell_type": "code",
   "execution_count": 27,
   "metadata": {},
   "outputs": [
    {
     "name": "stdout",
     "output_type": "stream",
     "text": [
      "310\n"
     ]
    }
   ],
   "source": [
    "# Surface Area of a Cuboid\n",
    "\n",
    "l = 10\n",
    "h = 7\n",
    "b = 5\n",
    "\n",
    "# area = (2 * (l*h)) + (2 * (l*b)) + (2 * (b*h))\n",
    "area = 2 * ((l*h) + (l*b) + (b*h))\n",
    "\n",
    "print(area)"
   ]
  },
  {
   "cell_type": "markdown",
   "metadata": {},
   "source": [
    "Finding Roots of Quadratic Equation"
   ]
  },
  {
   "cell_type": "code",
   "execution_count": 7,
   "metadata": {},
   "outputs": [
    {
     "name": "stdout",
     "output_type": "stream",
     "text": [
      "Roots: (3.0, 2.0)\n"
     ]
    }
   ],
   "source": [
    "import math\n",
    "\n",
    "a = 1\n",
    "b = -5\n",
    "c = 6\n",
    "\n",
    "x1 = (-b + math.sqrt(b**2 - 4*a*c))/(2*a)\n",
    "x2 = (-b - math.sqrt(b**2 - 4*a*c))/(2*a) \n",
    "\n",
    "print(f\"Roots: {x1, x2}\")"
   ]
  },
  {
   "cell_type": "markdown",
   "metadata": {},
   "source": [
    "Arithmetic Assignment"
   ]
  },
  {
   "cell_type": "code",
   "execution_count": 1,
   "metadata": {},
   "outputs": [
    {
     "name": "stdout",
     "output_type": "stream",
     "text": [
      "9\n"
     ]
    }
   ],
   "source": [
    "a = 6 \n",
    "b = 3\n",
    "\n",
    "a += b # a = a + b\n",
    "print(a)"
   ]
  },
  {
   "cell_type": "code",
   "execution_count": 2,
   "metadata": {},
   "outputs": [
    {
     "name": "stdout",
     "output_type": "stream",
     "text": [
      "3\n"
     ]
    }
   ],
   "source": [
    "a = 6 \n",
    "b = 3\n",
    "\n",
    "a -= b\n",
    "print(a)"
   ]
  },
  {
   "cell_type": "code",
   "execution_count": 3,
   "metadata": {},
   "outputs": [
    {
     "name": "stdout",
     "output_type": "stream",
     "text": [
      "18\n"
     ]
    }
   ],
   "source": [
    "a = 6 \n",
    "b = 3\n",
    "\n",
    "a *= b\n",
    "print(a)"
   ]
  },
  {
   "cell_type": "code",
   "execution_count": 4,
   "metadata": {},
   "outputs": [
    {
     "name": "stdout",
     "output_type": "stream",
     "text": [
      "2.0\n"
     ]
    }
   ],
   "source": [
    "a = 6 \n",
    "b = 3\n",
    "\n",
    "a /= b\n",
    "print(a)"
   ]
  },
  {
   "cell_type": "code",
   "execution_count": 5,
   "metadata": {},
   "outputs": [
    {
     "name": "stdout",
     "output_type": "stream",
     "text": [
      "0\n"
     ]
    }
   ],
   "source": [
    "a = 6 \n",
    "b = 3\n",
    "\n",
    "a %= b\n",
    "print(a)"
   ]
  },
  {
   "cell_type": "code",
   "execution_count": 7,
   "metadata": {},
   "outputs": [
    {
     "name": "stdout",
     "output_type": "stream",
     "text": [
      "12\n"
     ]
    }
   ],
   "source": [
    "a = 2 \n",
    "b = 3\n",
    "c = 4\n",
    "\n",
    "x = 10\n",
    "\n",
    "x += (a * b - c)\n",
    "print(x)"
   ]
  },
  {
   "cell_type": "markdown",
   "metadata": {},
   "source": [
    "String Concatenation & Repetition"
   ]
  },
  {
   "cell_type": "code",
   "execution_count": 11,
   "metadata": {},
   "outputs": [
    {
     "data": {
      "text/plain": [
       "'abc10'"
      ]
     },
     "execution_count": 11,
     "metadata": {},
     "output_type": "execute_result"
    }
   ],
   "source": [
    "s = 'abc'\n",
    "s + '10'"
   ]
  },
  {
   "cell_type": "code",
   "execution_count": 13,
   "metadata": {},
   "outputs": [
    {
     "name": "stdout",
     "output_type": "stream",
     "text": [
      "3.0\n"
     ]
    }
   ],
   "source": [
    "a  = 10.5 // 3.1\n",
    "print(a)"
   ]
  },
  {
   "cell_type": "code",
   "execution_count": 19,
   "metadata": {},
   "outputs": [
    {
     "name": "stdout",
     "output_type": "stream",
     "text": [
      "256\n",
      "256\n"
     ]
    }
   ],
   "source": [
    "a = 2 \n",
    "b =2\n",
    "c = 3\n",
    "\n",
    "d = a**b**c\n",
    "print(d)\n",
    "\n",
    "d = a**(b**c)\n",
    "print(d)"
   ]
  },
  {
   "cell_type": "markdown",
   "metadata": {},
   "source": [
    "Conditional Statements \n",
    "- Compound Conditional Statements"
   ]
  },
  {
   "cell_type": "code",
   "execution_count": 21,
   "metadata": {},
   "outputs": [
    {
     "data": {
      "text/plain": [
       "False"
      ]
     },
     "execution_count": 21,
     "metadata": {},
     "output_type": "execute_result"
    }
   ],
   "source": [
    "a = 5\n",
    "b = 7\n",
    "c  = 3\n",
    "\n",
    "a > b and a > c"
   ]
  },
  {
   "cell_type": "code",
   "execution_count": 22,
   "metadata": {},
   "outputs": [
    {
     "data": {
      "text/plain": [
       "True"
      ]
     },
     "execution_count": 22,
     "metadata": {},
     "output_type": "execute_result"
    }
   ],
   "source": [
    "a > b or a > c"
   ]
  },
  {
   "cell_type": "code",
   "execution_count": 23,
   "metadata": {},
   "outputs": [
    {
     "data": {
      "text/plain": [
       "True"
      ]
     },
     "execution_count": 23,
     "metadata": {},
     "output_type": "execute_result"
    }
   ],
   "source": [
    "a = 8\n",
    "a > 0 and a < 10"
   ]
  },
  {
   "cell_type": "code",
   "execution_count": 24,
   "metadata": {},
   "outputs": [
    {
     "data": {
      "text/plain": [
       "False"
      ]
     },
     "execution_count": 24,
     "metadata": {},
     "output_type": "execute_result"
    }
   ],
   "source": [
    "not a == 8"
   ]
  },
  {
   "cell_type": "code",
   "execution_count": 26,
   "metadata": {},
   "outputs": [
    {
     "name": "stdout",
     "output_type": "stream",
     "text": [
      "True\n"
     ]
    }
   ],
   "source": [
    "x = 9\n",
    "\n",
    "if not x == 10:\n",
    "    print(\"True\")\n",
    "else:\n",
    "    print(\"False\")"
   ]
  },
  {
   "cell_type": "markdown",
   "metadata": {},
   "source": [
    "Even or Odd"
   ]
  },
  {
   "cell_type": "code",
   "execution_count": 27,
   "metadata": {},
   "outputs": [
    {
     "name": "stdout",
     "output_type": "stream",
     "text": [
      "5 is odd\n"
     ]
    }
   ],
   "source": [
    "num = int(input(\"Enter the number: \"))\n",
    "\n",
    "if num % 2 == 0:\n",
    "    print(f\"{num} is even\")\n",
    "else: \n",
    "    print(f\"{num} is odd\")"
   ]
  },
  {
   "cell_type": "markdown",
   "metadata": {},
   "source": [
    "Eligible to vote"
   ]
  },
  {
   "cell_type": "code",
   "execution_count": 28,
   "metadata": {},
   "outputs": [
    {
     "name": "stdout",
     "output_type": "stream",
     "text": [
      "You are ineligible to vote\n"
     ]
    }
   ],
   "source": [
    "age = int(input(\"Enter your age: \"))\n",
    "\n",
    "if age >=18:\n",
    "    print(\"You are eligible to vote\")\n",
    "else:\n",
    "    print(\"You are ineligible to vote\")"
   ]
  },
  {
   "cell_type": "markdown",
   "metadata": {},
   "source": [
    "Age Check for Work"
   ]
  },
  {
   "cell_type": "code",
   "execution_count": 36,
   "metadata": {},
   "outputs": [
    {
     "name": "stdout",
     "output_type": "stream",
     "text": [
      "You are too old for this\n"
     ]
    }
   ],
   "source": [
    "age = int(input(\"Enter your age: \"))\n",
    "\n",
    "if age < 18:\n",
    "    print(\"You are too young to work here\")\n",
    "elif age >= 18 and age <=60:\n",
    "    print(\"You are the perfect candidate\")\n",
    "else:\n",
    "    print(\"You are too old for this\")"
   ]
  },
  {
   "cell_type": "markdown",
   "metadata": {},
   "source": [
    "Valid Marks"
   ]
  },
  {
   "cell_type": "code",
   "execution_count": 42,
   "metadata": {},
   "outputs": [
    {
     "name": "stdout",
     "output_type": "stream",
     "text": [
      "Valid\n"
     ]
    }
   ],
   "source": [
    "grade = int(input(\"Enter your score: \"))\n",
    "\n",
    "if grade>=0 and grade<=100:\n",
    "    print(\"Valid\")\n",
    "else:\n",
    "    print(\"Invalid\")"
   ]
  },
  {
   "cell_type": "markdown",
   "metadata": {},
   "source": [
    "Gender Check"
   ]
  },
  {
   "cell_type": "code",
   "execution_count": 45,
   "metadata": {},
   "outputs": [
    {
     "name": "stdout",
     "output_type": "stream",
     "text": [
      "female\n",
      "Welcome to the ladies club\n"
     ]
    }
   ],
   "source": [
    "first_name = input(\"Enter your first name: \")\n",
    "last_name = input(\"Enter your last name: \")\n",
    "gender = input(\"Enter your gender (male/female): \")\n",
    "\n",
    "gender = gender.lower()\n",
    "print(gender)\n",
    "\n",
    "if gender == \"female\":\n",
    "    print(\"Welcome to the ladies club\")\n",
    "else:\n",
    "    print(f\"Sorry, {first_name}. Only ladies are allowed in here.\")\n",
    "\n"
   ]
  },
  {
   "cell_type": "markdown",
   "metadata": {},
   "source": [
    "Vowerl or Consonant"
   ]
  },
  {
   "cell_type": "code",
   "execution_count": 60,
   "metadata": {},
   "outputs": [
    {
     "name": "stdout",
     "output_type": "stream",
     "text": [
      "Vowel\n"
     ]
    }
   ],
   "source": [
    "letter = input(\"Enter a character: \")\n",
    "letter = letter.lower()\n",
    "\n",
    "if letter=='a' or letter=='e' or letter=='i' or letter=='o' or letter=='u':\n",
    "    print(\"Vowel\")\n",
    "else:\n",
    "    print(\"Consonant\") "
   ]
  },
  {
   "cell_type": "code",
   "execution_count": 52,
   "metadata": {},
   "outputs": [
    {
     "name": "stdout",
     "output_type": "stream",
     "text": [
      "v is a consonant\n"
     ]
    }
   ],
   "source": [
    "vowels = ['a', 'e', 'i', 'o', 'u']\n",
    "\n",
    "letter = input(\"Enter a character: \")\n",
    "\n",
    "if letter in vowels:\n",
    "    print(f\"{letter} is a vowel\")\n",
    "else:\n",
    "    print(f\"{letter} is a consonant\")"
   ]
  },
  {
   "cell_type": "markdown",
   "metadata": {},
   "source": [
    "Exam Result"
   ]
  },
  {
   "cell_type": "code",
   "execution_count": 69,
   "metadata": {},
   "outputs": [
    {
     "name": "stdout",
     "output_type": "stream",
     "text": [
      "Fail\n"
     ]
    }
   ],
   "source": [
    "# Subjects: maths, physics, chemistry\n",
    "# Pass mark is 45\n",
    "\n",
    "maths = int(input(\"Enter your score of Mathematics: \"))\n",
    "physics = int(input(\"Enter your score of Physics: \"))\n",
    "chemistry = int(input(\"Enter your score of Chemistry: \"))\n",
    "\n",
    "if (maths >= 45 and maths <=100) and (physics >= 45 and physics <=100) and (chemistry >=45 and chemistry <=100):\n",
    "    print(\"Pass\")\n",
    "else:\n",
    "    print(\"Fail\")"
   ]
  },
  {
   "cell_type": "markdown",
   "metadata": {},
   "source": [
    "Nested if and elif"
   ]
  },
  {
   "cell_type": "code",
   "execution_count": 73,
   "metadata": {},
   "outputs": [
    {
     "name": "stdout",
     "output_type": "stream",
     "text": [
      "Cold\n"
     ]
    }
   ],
   "source": [
    "temp = float(input(\"Enter Temperature: \"))\n",
    "\n",
    "if temp == 25:\n",
    "    print(\"Normal\")\n",
    "elif temp < 25:\n",
    "    print(\"Cold\")\n",
    "else: \n",
    "    print(\"Warm\")"
   ]
  },
  {
   "cell_type": "markdown",
   "metadata": {},
   "source": [
    "Challenge: Generate Discounted Bill"
   ]
  },
  {
   "cell_type": "code",
   "execution_count": 99,
   "metadata": {},
   "outputs": [
    {
     "name": "stdout",
     "output_type": "stream",
     "text": [
      "Original Amount: 999\n",
      "You qualify for a 10% discount: \n",
      "You get £99.90 off!\n",
      "Pay 899.1\n"
     ]
    }
   ],
   "source": [
    "amount = int(input(\"What is the total amount: \"))\n",
    "print(\"Original Amount:\",amount)\n",
    "\n",
    "if amount < 1000:\n",
    "    print(\"You qualify for a 10% discount: \")\n",
    "    print(f\"You get £{amount * 0.1:.2f} off!\")\n",
    "    total = amount - amount*0.1 \n",
    "elif amount>=1000 and amount <5000:\n",
    "    print(\"You qualify for a 15% discount: \")\n",
    "    print(f\"You get £{amount * 0.15:.2f} off!\")\n",
    "    total = amount - amount*0.15\n",
    "elif amount>=5000 and amount <10000:\n",
    "    print(\"You qualify for a 20% discount: \")\n",
    "    print(f\"You get £{amount * 0.20:.2f} off!\")\n",
    "    total = amount - amount*0.20    \n",
    "else:\n",
    "    print(\"You qualify for a 25% discount: \")\n",
    "    print(f\"You get £{amount * 0.25:.2f} off!\")  \n",
    "    total = amount - amount*0.25\n",
    "print(\"Pay\", total)"
   ]
  },
  {
   "cell_type": "markdown",
   "metadata": {},
   "source": [
    "Challengs: Nested if and elif"
   ]
  },
  {
   "cell_type": "markdown",
   "metadata": {},
   "source": [
    "Challenge: Day Number to Name"
   ]
  },
  {
   "cell_type": "code",
   "execution_count": 110,
   "metadata": {},
   "outputs": [
    {
     "name": "stdout",
     "output_type": "stream",
     "text": [
      "0: Monday\n",
      "1: Tuesday\n",
      "2: Wednesday\n",
      "3: Thursday\n",
      "4: Friday\n",
      "5: Saturday\n",
      "6: Sunday\n"
     ]
    }
   ],
   "source": [
    "days_of_the_week = [\"Monday\", \"Tuesday\", \"Wednesday\", \"Thursday\", \"Friday\", \"Saturday\", \"Sunday\"]\n",
    "for i in range(0, 7):\n",
    "    print(f\"{i}: {days_of_the_week[i]}\")\n"
   ]
  },
  {
   "cell_type": "code",
   "execution_count": 119,
   "metadata": {},
   "outputs": [
    {
     "name": "stdout",
     "output_type": "stream",
     "text": [
      "Error: Please enter a valid integer.\n"
     ]
    }
   ],
   "source": [
    "days_of_the_week = [\"Monday\", \"Tuesday\", \"Wednesday\", \"Thursday\", \"Friday\", \"Saturday\", \"Sunday\"]\n",
    "\n",
    "try:\n",
    "    user_input = int(input(\"Enter a number (0-6) to get the day of the week: \"))\n",
    "    if 0 <= user_input <= 6:\n",
    "        print(f\"{user_input}: {days_of_the_week[user_input]}\")\n",
    "    else:\n",
    "        print(\"Error: Please enter a number between 0 and 6.\")\n",
    "except ValueError:\n",
    "    print(\"Error: Please enter a valid integer.\")"
   ]
  },
  {
   "cell_type": "markdown",
   "metadata": {},
   "source": [
    "Challenge: Month Number to Name"
   ]
  },
  {
   "cell_type": "code",
   "execution_count": 128,
   "metadata": {},
   "outputs": [
    {
     "name": "stdout",
     "output_type": "stream",
     "text": [
      "12: December\n"
     ]
    }
   ],
   "source": [
    "months = [\"January\", \"February\", \"March\", \"April\", \"May\", \"June\", \"July\", \"August\", \"September\", \"October\", \"November\", \"December\"]\n",
    "\n",
    "try:\n",
    "    user_input = int(input(\"Enter a number (1-12) to get the month: \"))\n",
    "    if 0 <= user_input <= 12:\n",
    "        print(f\"{user_input}: {months[user_input-1]}\")\n",
    "    else: \n",
    "        print(\"Provide a valid number\")\n",
    "except ValueError:\n",
    "    print(\"Provide a valid integer\")"
   ]
  },
  {
   "cell_type": "markdown",
   "metadata": {},
   "source": [
    "Challenge: Digit in Words"
   ]
  },
  {
   "cell_type": "code",
   "execution_count": 139,
   "metadata": {},
   "outputs": [
    {
     "name": "stdout",
     "output_type": "stream",
     "text": [
      "4: four\n"
     ]
    }
   ],
   "source": [
    "words = [\"zero\", \"one\", \"two\", \"three\", \"four\", \"five\", \"six\", \"seven\", \"eight\", \"nine\"]\n",
    "\n",
    "try:\n",
    "    user_input = int(input(\"Enter a number (0-9) to get it in words: \"))\n",
    "    if 0 <= user_input <= 9:\n",
    "        print(f\"{user_input}: {words[user_input]}\")\n",
    "    else:\n",
    "        print(\"Provide a number between 0-9\")\n",
    "except ValueError:\n",
    "    print(\"Ente a valid integer\")"
   ]
  }
 ],
 "metadata": {
  "kernelspec": {
   "display_name": "venv",
   "language": "python",
   "name": "python3"
  },
  "language_info": {
   "codemirror_mode": {
    "name": "ipython",
    "version": 3
   },
   "file_extension": ".py",
   "mimetype": "text/x-python",
   "name": "python",
   "nbconvert_exporter": "python",
   "pygments_lexer": "ipython3",
   "version": "3.10.12"
  }
 },
 "nbformat": 4,
 "nbformat_minor": 2
}
