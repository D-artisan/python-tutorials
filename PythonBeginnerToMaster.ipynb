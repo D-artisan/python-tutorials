{
 "cells": [
  {
   "cell_type": "markdown",
   "metadata": {},
   "source": [
    "# COURSE NOTES"
   ]
  },
  {
   "cell_type": "markdown",
   "metadata": {},
   "source": [
    "### PYTHON DATATYPES"
   ]
  },
  {
   "cell_type": "markdown",
   "metadata": {},
   "source": [
    "#### What is a Program?\n",
    "\n",
    "A program is a step-by-step procedure for performing a particular task. In simple terms, it is a set of instructions that can be understood by a computer."
   ]
  },
  {
   "cell_type": "code",
   "execution_count": 10,
   "metadata": {},
   "outputs": [
    {
     "name": "stdout",
     "output_type": "stream",
     "text": [
      "Area is 35\n"
     ]
    }
   ],
   "source": [
    "# Calculate area of rectangle\n",
    "length = 15\n",
    "breadth = 20\n",
    "area = length + breadth\n",
    "print(f\"Area is {area}\")"
   ]
  },
  {
   "cell_type": "code",
   "execution_count": 7,
   "metadata": {},
   "outputs": [
    {
     "name": "stdout",
     "output_type": "stream",
     "text": [
      "Bill Amount 53\n"
     ]
    }
   ],
   "source": [
    "prices = [10,7,5,8,6]\n",
    "quantity = [1,2,3,1,1]\n",
    "\n",
    "total = 0\n",
    "\n",
    "for i in range(len(prices)):\n",
    "    total = total + prices[i] * quantity[i]\n",
    "\n",
    "print(f\"Bill Amount {total}\")"
   ]
  },
  {
   "cell_type": "markdown",
   "metadata": {},
   "source": [
    "#### VARIABLES\n",
    "\n",
    "Variables simply given to the names given to the data operations are to be performed on in our program.\n",
    "\n",
    "- Declaration\n",
    "- Initialisation\n",
    "\n",
    "![Variables](/home/dnti/dartisan/tutorials/python/images/variables.png)\n",
    "\n",
    "- Memory Allocation\n",
    "Variable name is the name given to the memory location which holds the data we store.\n",
    "The variable name is a reference to the data.\n",
    "\n",
    "![Variables](/home/dnti/dartisan/tutorials/python/images/variables2.png)\n",
    "\n",
    "- Types of Data\n",
    "\n",
    "![Variables](/home/dnti/dartisan/tutorials/python/images/variables3.png)\n",
    "\n",
    "- Multiple Declarations\n",
    "name, price, qty = 'Soap', 12.75, 5\n",
    "\n",
    "![Variables](/home/dnti/dartisan/tutorials/python/images/variables4.png)\n",
    "\n",
    "\n",
    "![Variables](/home/dnti/dartisan/tutorials/python/images/variables5.png)\n",
    "\n",
    "This can also be written as a = b = c = 1\n",
    "\n",
    "\n",
    "\n",
    "\n",
    "\n",
    "\n"
   ]
  }
 ],
 "metadata": {
  "kernelspec": {
   "display_name": "venv",
   "language": "python",
   "name": "python3"
  },
  "language_info": {
   "codemirror_mode": {
    "name": "ipython",
    "version": 3
   },
   "file_extension": ".py",
   "mimetype": "text/x-python",
   "name": "python",
   "nbconvert_exporter": "python",
   "pygments_lexer": "ipython3",
   "version": "3.10.16"
  }
 },
 "nbformat": 4,
 "nbformat_minor": 2
}
