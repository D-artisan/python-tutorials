{
 "cells": [
  {
   "cell_type": "markdown",
   "metadata": {},
   "source": [
    "# PRACTICE SPACE"
   ]
  },
  {
   "cell_type": "code",
   "execution_count": 5,
   "metadata": {},
   "outputs": [
    {
     "name": "stdout",
     "output_type": "stream",
     "text": [
      "120\n"
     ]
    }
   ],
   "source": [
    "def factorialFunction(num):\n",
    "    if (num <= 1):\n",
    "        return 1\n",
    "    else:\n",
    "        return num * factorialFunction(num-1)\n",
    "    \n",
    "\n",
    "print(factorialFunction(5))\n"
   ]
  },
  {
   "cell_type": "code",
   "execution_count": 14,
   "metadata": {},
   "outputs": [
    {
     "name": "stdout",
     "output_type": "stream",
     "text": [
      "120\n"
     ]
    }
   ],
   "source": [
    "# The function can be written more concisely as\n",
    "\n",
    "def factorialFunction(number): return 1 if (number<=1) else number * factorialFunction(number-1)\n",
    "\n",
    "print(factorialFunction(5))"
   ]
  },
  {
   "cell_type": "code",
   "execution_count": 11,
   "metadata": {},
   "outputs": [
    {
     "name": "stdout",
     "output_type": "stream",
     "text": [
      "9933\n"
     ]
    }
   ],
   "source": [
    "# Reverse a number\n",
    "num = int(input(\"Provide a number to obtain its reverse: \"))\n",
    "\n",
    "rev = 0\n",
    "\n",
    "while num:\n",
    "    r = num % 10\n",
    "    rev = rev * 10 + r\n",
    "    num //= 10\n",
    "print(rev)"
   ]
  },
  {
   "cell_type": "code",
   "execution_count": null,
   "metadata": {},
   "outputs": [
    {
     "name": "stdout",
     "output_type": "stream",
     "text": [
      "We go on to sum of 3 numbers for you ...\n",
      "5\n"
     ]
    }
   ],
   "source": [
    "# Find the sum of n numbers\n",
    "\n",
    "n = int(input(\"How many numbers do you want to add up?: \"))\n",
    "\n",
    "i = 0\n",
    "sum = 0\n",
    "\n",
    "print(f\"We go on to sum of {n} numbers for you ...\")\n",
    "\n",
    "while i < n:\n",
    "    i += 1\n",
    "    num = int(input(\"Enter a number: \"))\n",
    "    sum += num\n",
    "print(sum)"
   ]
  },
  {
   "cell_type": "code",
   "execution_count": 27,
   "metadata": {},
   "outputs": [
    {
     "name": "stdout",
     "output_type": "stream",
     "text": [
      "Ok. We'll go on to compare 5 numbers and display the maximum and minimum ...\n",
      "Max: 22\n",
      "Min: -55\n"
     ]
    }
   ],
   "source": [
    "# Find the maximum and minimum element\n",
    "\n",
    "n = int(input(\"How many numbers would you like to compare: \"))\n",
    "\n",
    "i = 0\n",
    "max = float(\"-inf\")\n",
    "min = float(\"inf\")\n",
    "\n",
    "print(f\"Ok. We'll go on to compare {n} numbers and display the maximum and minimum ...\")\n",
    "\n",
    "while i < n:\n",
    "    i += 1\n",
    "    num = int(input(\"Enter a number: \"))\n",
    "\n",
    "    if num > max :\n",
    "        max = num\n",
    "    if num < min:\n",
    "        min = num\n",
    "print(f\"Max: {max}\")\n",
    "print(f\"Min: {min}\")\n",
    "\n"
   ]
  },
  {
   "cell_type": "code",
   "execution_count": null,
   "metadata": {},
   "outputs": [
    {
     "name": "stdout",
     "output_type": "stream",
     "text": [
      "Ok. We'll go on to compare 5 numbers and display the maximum and minimum ...\n",
      "Original List: [2548, 33, 2, 4, 6]\n",
      "Sorted List: [2548, 33, 6, 4, 2]\n",
      "Maximum: 2548\n",
      "Minimum: 2\n"
     ]
    }
   ],
   "source": [
    "# Find the maximum and minimum element\n",
    "\n",
    "n = int(input(\"How many numbers would you like to compare: \"))\n",
    "\n",
    "num_list = []\n",
    "\n",
    "i = 0\n",
    "\n",
    "print(f\"Ok. We'll go on to compare {n} numbers and display the maximum and minimum ...\")\n",
    "while i < n:\n",
    "    i += 1\n",
    "    num = int(input(\"Enter a number: \"))\n",
    "    num_list.append(num)\n",
    "\n",
    "print(f\"Original List: {num_list}\")\n",
    "num_list.sort(reverse=True)\n",
    "print(f\"Sorted List: {num_list}\")\n",
    "\n",
    "print(f\"Maximum: {num_list[0]}\")\n",
    "\n",
    "print(f\"Minimum: {num_list[-1]}\")\n",
    "\n",
    "\n"
   ]
  }
 ],
 "metadata": {
  "kernelspec": {
   "display_name": "venv",
   "language": "python",
   "name": "python3"
  },
  "language_info": {
   "codemirror_mode": {
    "name": "ipython",
    "version": 3
   },
   "file_extension": ".py",
   "mimetype": "text/x-python",
   "name": "python",
   "nbconvert_exporter": "python",
   "pygments_lexer": "ipython3",
   "version": "3.10.12"
  }
 },
 "nbformat": 4,
 "nbformat_minor": 2
}
