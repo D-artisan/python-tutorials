{
 "cells": [
  {
   "cell_type": "markdown",
   "id": "2f8a8355",
   "metadata": {},
   "source": [
    "# Loops"
   ]
  },
  {
   "cell_type": "markdown",
   "id": "eddb5570",
   "metadata": {},
   "source": [
    "# while loops"
   ]
  },
  {
   "cell_type": "code",
   "execution_count": null,
   "id": "5e0abb86",
   "metadata": {},
   "outputs": [
    {
     "name": "stdout",
     "output_type": "stream",
     "text": [
      "6\n",
      "4\n",
      "5\n",
      "2\n"
     ]
    }
   ],
   "source": [
    "# While Loop\n",
    "\n",
    "# digit of a number\n",
    "n = 2546\n",
    "\n",
    "while n > 0:  # Stops when n becomes 0\n",
    "    r = n % 10 # Get the last digit: gives the remainder when dividing by 10, which is always the last digit.\n",
    "    print(r)\n",
    "    n = n // 10 # Remove the last digit"
   ]
  },
  {
   "cell_type": "code",
   "execution_count": null,
   "id": "6c7c0392",
   "metadata": {},
   "outputs": [
    {
     "name": "stdout",
     "output_type": "stream",
     "text": [
      "4\n"
     ]
    }
   ],
   "source": [
    "n = 2546\n",
    "count = 0\n",
    "\n",
    "while n>0:\n",
    "    # r = n % 10\n",
    "    n = n // 10\n",
    "    count += 1\n",
    "print(count)"
   ]
  },
  {
   "cell_type": "code",
   "execution_count": null,
   "id": "e9962102",
   "metadata": {},
   "outputs": [
    {
     "name": "stdout",
     "output_type": "stream",
     "text": [
      "4\n"
     ]
    }
   ],
   "source": [
    "n = \"2546\"\n",
    "count = 0\n",
    "\n",
    "for i in n:\n",
    "    count+=1\n",
    "print(count)"
   ]
  },
  {
   "cell_type": "code",
   "execution_count": null,
   "id": "6c9e33ea",
   "metadata": {},
   "outputs": [
    {
     "name": "stdout",
     "output_type": "stream",
     "text": [
      "14\n"
     ]
    }
   ],
   "source": [
    "# Find Sum of Digits of a Number\n",
    "\n",
    "num = 1346\n",
    "\n",
    "sum = 0\n",
    "\n",
    "while num:\n",
    "    r = num % 10\n",
    "    sum +=r\n",
    "    num = num // 10\n",
    "    \n",
    "print(sum)"
   ]
  },
  {
   "cell_type": "code",
   "execution_count": null,
   "id": "ff1b7aad",
   "metadata": {},
   "outputs": [
    {
     "name": "stdout",
     "output_type": "stream",
     "text": [
      "7521\n"
     ]
    }
   ],
   "source": [
    "# Reversing a number\n",
    "\n",
    "n = 1257\n",
    "rev = 0 # Will store the reversed number\n",
    "\n",
    "while n > 0: # Continue while n is not 0\n",
    "    r = n % 10 # Extract last digit\n",
    "    rev = rev * 10 + r\n",
    "    n = n // 10\n",
    "print(rev)"
   ]
  },
  {
   "cell_type": "code",
   "execution_count": null,
   "id": "477d25eb",
   "metadata": {},
   "outputs": [
    {
     "name": "stdout",
     "output_type": "stream",
     "text": [
      "4952\n"
     ]
    }
   ],
   "source": [
    "# Alternatively\n",
    "\n",
    "n = 2594\n",
    "reverse = ''\n",
    "while n > 0:\n",
    "    r = n % 10\n",
    "    reverse += str(r)\n",
    "    n //= 10\n",
    "\n",
    "reverse = int(reverse) # If we need it as an integer\n",
    "print(reverse) "
   ]
  },
  {
   "cell_type": "code",
   "execution_count": null,
   "id": "770bb4d4",
   "metadata": {},
   "outputs": [
    {
     "name": "stdout",
     "output_type": "stream",
     "text": [
      "1331 is a palindrome as it's reverse is 1331\n"
     ]
    }
   ],
   "source": [
    "# Check if a number is Palindrome \n",
    "\n",
    "number = int(input(\"Enter a number to check if it's a palindrome: \"))\n",
    "original_number = number\n",
    "rev = 0\n",
    "\n",
    "while number:\n",
    "    r = number % 10\n",
    "    rev = rev * 10 + r\n",
    "    number //= 10\n",
    "\n",
    "if (original_number == rev):\n",
    "    print(f\"{original_number} is a palindrome as it's reverse is {rev}\")\n",
    "else:\n",
    "    print(f\"{original_number} is not a palindrome as it's reverse is {rev}\")"
   ]
  },
  {
   "cell_type": "code",
   "execution_count": null,
   "id": "9529d2e7",
   "metadata": {},
   "outputs": [
    {
     "name": "stdout",
     "output_type": "stream",
     "text": [
      "2552 is a palindrome as it's reversed is 2552\n"
     ]
    }
   ],
   "source": [
    "number = int(input(\"Enter a number to check it it's a palindrome: \"))\n",
    "user_input = number\n",
    "\n",
    "reverse = 0\n",
    "\n",
    "while number:\n",
    "    remainder = number % 10\n",
    "    reverse = reverse * 10 + remainder\n",
    "    number //= 10\n",
    "\n",
    "if (user_input == reverse):\n",
    "    print(f\"{user_input} is a palindrome as it's reverse is {reverse}\")\n",
    "else:\n",
    "    print(f\"{user_input} isn't a palindrome as it's reverse is {reverse}\")"
   ]
  },
  {
   "cell_type": "code",
   "execution_count": null,
   "id": "38b2103d",
   "metadata": {},
   "outputs": [
    {
     "name": "stdout",
     "output_type": "stream",
     "text": [
      "Let's proceed to add 6 numbers for you: \n",
      "36\n"
     ]
    }
   ],
   "source": [
    "# Summation Logic\n",
    "user_request = int(input(\"How many numbers do you want to add: \"))\n",
    "\n",
    "n = user_request \n",
    "i = 0\n",
    "sum = 0\n",
    "\n",
    "print(f\"Let's proceed to add {user_request} numbers for you: \")\n",
    "while i < n:\n",
    "    i += 1\n",
    "    numbers = int(input(\"Enter number and press enter: \"))\n",
    "    sum += numbers\n",
    "print(sum) \n",
    "\n",
    "\n"
   ]
  },
  {
   "cell_type": "code",
   "execution_count": null,
   "id": "5a17c7e7",
   "metadata": {},
   "outputs": [
    {
     "name": "stdout",
     "output_type": "stream",
     "text": [
      "Enter five numbers and I'll tell you the maximum: \n",
      "545455 is the maxium number\n",
      "-55 is the minimum number\n"
     ]
    }
   ],
   "source": [
    "# Find Max Element\n",
    "\n",
    "n = 5\n",
    "i = 0\n",
    "\n",
    "# max = 0\n",
    "# To ensure max can handle - numbers, we can use negative infinity\n",
    "max = float(\"-inf\")\n",
    "\n",
    "# min = 0\n",
    "# Min can also be initialised with the largest value possible, postive infinity\n",
    "min = float(\"inf\")\n",
    "\n",
    "print(f\"Enter five numbers and I'll tell you the maximum: \")\n",
    "while i < n:\n",
    "    i += 1\n",
    "    num = int(input(\"Enter number and press enter: \"))\n",
    "\n",
    "    if num > max:\n",
    "        max = num\n",
    "    if num < min:\n",
    "        min = num\n",
    "print(f\"{max} is the maxium number\")\n",
    "print(f\"{min} is the minimum number\")    \n"
   ]
  },
  {
   "cell_type": "code",
   "execution_count": null,
   "id": "36b91f9f",
   "metadata": {},
   "outputs": [
    {
     "name": "stdout",
     "output_type": "stream",
     "text": [
      "1\n",
      "2\n",
      "3\n",
      "4\n",
      "5\n",
      "6\n",
      "7\n",
      "8\n",
      "9\n",
      "10\n"
     ]
    }
   ],
   "source": [
    "# break statement\n",
    "i = 0\n",
    "\n",
    "while True:\n",
    "    i += 1\n",
    "    if i > 10:\n",
    "        break\n",
    "    print(i)"
   ]
  },
  {
   "cell_type": "code",
   "execution_count": null,
   "id": "bc890573",
   "metadata": {},
   "outputs": [
    {
     "name": "stdout",
     "output_type": "stream",
     "text": [
      "1\n",
      "3\n",
      "5\n",
      "7\n",
      "9\n"
     ]
    }
   ],
   "source": [
    "# continue statement\n",
    "\n",
    "i = 0\n",
    "\n",
    "while i < 10:\n",
    "    i += 1\n",
    "    if i % 2 == 0: # Check if i is even\n",
    "        continue # Skip to next iteration\n",
    "    print(i)"
   ]
  },
  {
   "cell_type": "markdown",
   "id": "c606cf0e",
   "metadata": {},
   "source": [
    "## Detailed walkthrough:\n",
    "\n",
    "- **i = 1:** Not even → prints 1\n",
    "- **i = 2:** Even → `continue` skips `print(i)`\n",
    "- **i = 3:** Not even → prints 3\n",
    "- **i = 4:** Even → `continue` skips `print(i)`\n",
    "- **i = 5:** Not even → prints 5\n",
    "- **i = 6:** Even → `continue` skips `print(i)`\n",
    "- **i = 7:** Not even → prints 7\n",
    "- **i = 8:** Even → `continue` skips `print(i)`\n",
    "- **i = 9:** Not even → prints 9\n",
    "- **i = 10:** Loop ends (i is not < 10)"
   ]
  },
  {
   "cell_type": "markdown",
   "id": "725ad102",
   "metadata": {},
   "source": [
    "# else suite"
   ]
  },
  {
   "cell_type": "code",
   "execution_count": null,
   "id": "bc87482d",
   "metadata": {},
   "outputs": [
    {
     "name": "stdout",
     "output_type": "stream",
     "text": [
      "1\n",
      "2\n",
      "end of Program\n"
     ]
    }
   ],
   "source": [
    "# The else part will not be executed if loop terminates unsuccessfully or wasn't completed\n",
    "\n",
    "i = 0\n",
    "\n",
    "while i<5:\n",
    "    i += 1\n",
    "    if i==3:\n",
    "        break\n",
    "    print(i)\n",
    "\n",
    "else:\n",
    "    print(\"end of loop\")\n",
    "\n",
    "print(\"end of Program\")"
   ]
  },
  {
   "cell_type": "markdown",
   "id": "a8a52ee5",
   "metadata": {},
   "source": [
    "# For Loop"
   ]
  },
  {
   "cell_type": "markdown",
   "id": "8ef2ada4",
   "metadata": {},
   "source": [
    "## range function"
   ]
  },
  {
   "cell_type": "code",
   "execution_count": null,
   "id": "586911b6",
   "metadata": {},
   "outputs": [
    {
     "data": {
      "text/plain": [
       "range(0, 10, 2)"
      ]
     },
     "metadata": {},
     "output_type": "display_data"
    }
   ],
   "source": [
    "range(5)\n",
    "range(1, 5)\n",
    "range(6, 11)\n",
    "range(0, 10, 2)\n",
    "\n",
    "range(-5, -1)\n",
    "range(-2, 3)\n",
    "range(10, 5, -1)"
   ]
  },
  {
   "cell_type": "code",
   "execution_count": null,
   "id": "6c5d43b9",
   "metadata": {},
   "outputs": [
    {
     "name": "stdout",
     "output_type": "stream",
     "text": [
      "0\n",
      "1\n",
      "2\n",
      "3\n",
      "4\n"
     ]
    }
   ],
   "source": [
    "for i in range(5):\n",
    "    print(i)"
   ]
  },
  {
   "cell_type": "code",
   "execution_count": null,
   "id": "6bf822b9",
   "metadata": {},
   "outputs": [
    {
     "name": "stdout",
     "output_type": "stream",
     "text": [
      "p y t h o n "
     ]
    }
   ],
   "source": [
    "s1 = \"python\"\n",
    "\n",
    "for x in s1:\n",
    "    print(x, end = \" \")"
   ]
  },
  {
   "cell_type": "markdown",
   "id": "93b1c3db",
   "metadata": {},
   "source": [
    "## Challenges: for loops"
   ]
  },
  {
   "cell_type": "code",
   "execution_count": null,
   "id": "99c72d6a",
   "metadata": {},
   "outputs": [
    {
     "name": "stdout",
     "output_type": "stream",
     "text": [
      "Sum of n: 15\n"
     ]
    }
   ],
   "source": [
    "# Sum of n Natural Numbers\n",
    "\n",
    "n = 5\n",
    "sum = 0\n",
    "\n",
    "for i in range(1, n+1):\n",
    "    sum += i\n",
    "\n",
    "print(f\"Sum of n: {sum}\")"
   ]
  },
  {
   "cell_type": "code",
   "execution_count": null,
   "id": "281fc902",
   "metadata": {},
   "outputs": [
    {
     "name": "stdout",
     "output_type": "stream",
     "text": [
      "Factorial of n: 120\n"
     ]
    }
   ],
   "source": [
    "# Factorial of n numbers\n",
    "'''\n",
    "The factorial of a number n (written as n!) is the product of all positive integers from 1 to n.\n",
    "Example:\n",
    "5! = 5 × 4 × 3 × 2 × 1 = 120\n",
    "'''\n",
    "\n",
    "n = 5\n",
    "factorial = 1\n",
    "\n",
    "for i in range(1, n+1):\n",
    "    factorial *= i\n",
    "\n",
    "print(f\"Factorial of n: {factorial}\")"
   ]
  },
  {
   "cell_type": "code",
   "execution_count": null,
   "id": "e23c5595",
   "metadata": {},
   "outputs": [
    {
     "name": "stdout",
     "output_type": "stream",
     "text": [
      ", 1, 2, 3, 5, 8, 13, 21, 34\n"
     ]
    }
   ],
   "source": [
    "# Fibonacci Series\n",
    "'''\n",
    "A sequence where each number is the sum of the two preceding numbers.\n",
    "'''\n",
    "\n",
    "n = 10\n",
    "\n",
    "# Handle edge cases\n",
    "if n <= 0:\n",
    "    print(\"Please enter a positive number\")\n",
    "elif n == 1:\n",
    "    print(\"0\")\n",
    "elif n == 2:\n",
    "    print(\"0, 1\")\n",
    "else:\n",
    "    # Initialize first two numbers\n",
    "    a, b = 0, 1\n",
    "    \n",
    "    # Print first two numbers\n",
    "    print(\"0, 1\", end=\"\")\n",
    "    \n",
    "    # Generate and print remaining numbers\n",
    "    for i in range(2, n):\n",
    "        c = a + b  # Next Fibonacci number\n",
    "        print(f\", {c}\", end=\"\")\n",
    "        a, b = b, c  # Update for next iteration\n",
    "    \n",
    "    print()  # New line at the end"
   ]
  },
  {
   "cell_type": "markdown",
   "id": "e29c58b4",
   "metadata": {},
   "source": [
    "![Variables](./images/fibonacci_series.png)"
   ]
  },
  {
   "cell_type": "code",
   "execution_count": null,
   "id": "6352514c",
   "metadata": {},
   "outputs": [
    {
     "name": "stdout",
     "output_type": "stream",
     "text": [
      "[1, 2, 3, 4, 6, 12]\n"
     ]
    }
   ],
   "source": [
    "# Factors of a number\n",
    "# A factor is a number that divides another number completely without leaving a remainder.\n",
    "\n",
    "n = int(input(\"Enter a number to determine it's factors: \"))\n",
    "factors = []\n",
    "\n",
    "for i in range(1, n+1):\n",
    "    if n % i == 0:\n",
    "        factors.append(i)\n",
    "print(factors)\n"
   ]
  },
  {
   "cell_type": "code",
   "execution_count": null,
   "id": "63c89483",
   "metadata": {},
   "outputs": [
    {
     "name": "stdout",
     "output_type": "stream",
     "text": [
      "2\n",
      "7 is a prime number, it's factors are [1, 7]\n"
     ]
    }
   ],
   "source": [
    "# Check if Prime Number\n",
    "# A prime number is a natural number greater than 1 that has no positive divisors other than 1 and itself.\n",
    "\n",
    "n = int(input(\"£nter a number to determine if it's prime or not: \"))\n",
    "factors = []\n",
    "\n",
    "for i in range(1, n+1):\n",
    "    if n % i == 0:\n",
    "        factors.append(i)\n",
    "if len(factors) == 2:\n",
    "    print(f\"{n} is a prime number, it's factors are {factors}\")\n",
    "else: \n",
    "    print(f\"{n} is a not a prime number, it's factors are {factors}\")"
   ]
  },
  {
   "cell_type": "code",
   "execution_count": null,
   "id": "418fa8f6",
   "metadata": {},
   "outputs": [
    {
     "name": "stdout",
     "output_type": "stream",
     "text": [
      "12 is not a prime number\n"
     ]
    }
   ],
   "source": [
    "# Alternative Approach\n",
    "n = int(input(\"£nter a number to determine if it's prime or not: \"))\n",
    "\n",
    "count = 0\n",
    "\n",
    "for i in range(1, n+1):\n",
    "    if n % i == 0:\n",
    "        count += 1\n",
    "if count == 2:\n",
    "    print(f\"{n} is a prime number\")\n",
    "else:\n",
    "    print(f\"{n} is not a prime number\")\n"
   ]
  },
  {
   "cell_type": "markdown",
   "id": "a08c42bd",
   "metadata": {},
   "source": [
    "More about for Loop\n",
    "- Break\n",
    "- Continue\n",
    "- pass"
   ]
  },
  {
   "cell_type": "code",
   "execution_count": null,
   "id": "82d879a0",
   "metadata": {},
   "outputs": [
    {
     "name": "stdout",
     "output_type": "stream",
     "text": [
      "1 - 1\n",
      "1 - 2\n",
      "1 - 3\n",
      "2 - 1\n",
      "2 - 2\n",
      "2 - 3\n",
      "3 - 1\n",
      "3 - 2\n",
      "3 - 3\n"
     ]
    }
   ],
   "source": [
    "# Nested for Loop\n",
    "\n",
    "for i in range(1,4):\n",
    "    for j in range(1,4):\n",
    "        print(i, '-', j)\n"
   ]
  },
  {
   "cell_type": "code",
   "execution_count": null,
   "id": "3108a74d",
   "metadata": {},
   "outputs": [
    {
     "name": "stdout",
     "output_type": "stream",
     "text": [
      "1 , 11 , 21 , 3\n",
      "2 , 12 , 22 , 3\n",
      "3 , 13 , 23 , 3\n"
     ]
    }
   ],
   "source": [
    "# Nested for loops used are primarily used for matrices or 2D data\n",
    "\n",
    "for i in range(1,4):\n",
    "    for j in range(1,4):\n",
    "        print(i, ',', j, end=\"\")\n",
    "    print('')"
   ]
  },
  {
   "cell_type": "markdown",
   "id": "93bcf546",
   "metadata": {},
   "source": [
    "Challenges.\n",
    "- Prime 1-100"
   ]
  },
  {
   "cell_type": "code",
   "execution_count": null,
   "id": "5ae2b1a9",
   "metadata": {},
   "outputs": [
    {
     "name": "stdout",
     "output_type": "stream",
     "text": [
      "15 is not a prime number\n"
     ]
    }
   ],
   "source": [
    "n = int(input(\"Enter a number to determine if it's prime or not: \"))\n",
    "\n",
    "count = 0\n",
    "\n",
    "for i in range(1, n+1):\n",
    "    if n  % i == 0:\n",
    "        count += 1\n",
    "if count == 2:\n",
    "    print(f\"{n} is a prime number\")\n",
    "else:\n",
    "    print(f\"{n} is not a prime number\")"
   ]
  },
  {
   "cell_type": "code",
   "execution_count": 1,
   "id": "50dff217",
   "metadata": {},
   "outputs": [
    {
     "name": "stdout",
     "output_type": "stream",
     "text": [
      "2 3 5 7 11 13 17 19 23 29 31 37 41 43 47 53 59 61 67 71 73 79 83 89 97 "
     ]
    }
   ],
   "source": [
    "# Prime numbers from 1 to 100\n",
    "\n",
    "for n in range(1, 101):\n",
    "    count = 0\n",
    "    for i in range(1, n+1):\n",
    "        if n % i == 0:\n",
    "            count += 1\n",
    "\n",
    "    if count == 2:\n",
    "        print(n, end = \" \")\n",
    "        "
   ]
  }
 ],
 "metadata": {
  "kernelspec": {
   "display_name": "conda_env",
   "language": "python",
   "name": "conda_env"
  },
  "language_info": {
   "codemirror_mode": {
    "name": "ipython",
    "version": 3
   },
   "file_extension": ".py",
   "mimetype": "text/x-python",
   "name": "python",
   "nbconvert_exporter": "python",
   "pygments_lexer": "ipython3",
   "version": "3.10.16"
  }
 },
 "nbformat": 4,
 "nbformat_minor": 5
}
