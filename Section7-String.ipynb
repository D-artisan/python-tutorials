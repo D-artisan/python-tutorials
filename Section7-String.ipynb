{
 "cells": [
  {
   "cell_type": "markdown",
   "id": "47de872c",
   "metadata": {},
   "source": [
    "String:\n",
    "A string is a sequence (array) of characters enclosed in quotes.\n",
    "\n",
    "![Variables](./images/string_intro.png)"
   ]
  },
  {
   "cell_type": "code",
   "execution_count": 2,
   "id": "bda12b01",
   "metadata": {},
   "outputs": [
    {
     "name": "stdout",
     "output_type": "stream",
     "text": [
      "H\n",
      "o\n",
      "5\n"
     ]
    }
   ],
   "source": [
    "s1 = 'Hello'\n",
    "print(s1[0])\n",
    "print(s1[-1])\n",
    "\n",
    "print(len(s1))"
   ]
  },
  {
   "cell_type": "markdown",
   "id": "e516fb2d",
   "metadata": {},
   "source": [
    "Traversing a String: Visiting all the characters of a string or sequence"
   ]
  },
  {
   "cell_type": "code",
   "execution_count": 1,
   "id": "2f5da83a",
   "metadata": {},
   "outputs": [
    {
     "name": "stdout",
     "output_type": "stream",
     "text": [
      "H\n",
      "e\n",
      "l\n",
      "l\n",
      "o\n"
     ]
    }
   ],
   "source": [
    "s1 = 'Hello'\n",
    "\n",
    "for x in s1:\n",
    "    print(x)"
   ]
  },
  {
   "cell_type": "code",
   "execution_count": 2,
   "id": "27263a0f",
   "metadata": {},
   "outputs": [
    {
     "name": "stdout",
     "output_type": "stream",
     "text": [
      "H\n",
      "e\n",
      "l\n",
      "l\n",
      "o\n"
     ]
    }
   ],
   "source": [
    "s1 = 'Hello'\n",
    "\n",
    "for i in range(len(s1)):\n",
    "    print(s1[i])"
   ]
  },
  {
   "cell_type": "markdown",
   "id": "a085064f",
   "metadata": {},
   "source": [
    "String Literals: how strings can be defined"
   ]
  },
  {
   "cell_type": "code",
   "execution_count": 3,
   "id": "56e0f3fb",
   "metadata": {},
   "outputs": [
    {
     "name": "stdout",
     "output_type": "stream",
     "text": [
      "\n",
      "    Hello.\n",
      "    How are you?\n",
      "    \n"
     ]
    }
   ],
   "source": [
    "s1 = 'Hello'\n",
    "s2 = \"Hello\"\n",
    "s3 = '''Hello'''\n",
    "# Multi-line String\n",
    "s4 = \"\"\"\n",
    "    Hello.\n",
    "    How are you?\n",
    "    \"\"\"\n",
    "    \n",
    "print(s4)"
   ]
  },
  {
   "cell_type": "code",
   "execution_count": 4,
   "id": "a456a85a",
   "metadata": {},
   "outputs": [
    {
     "name": "stdout",
     "output_type": "stream",
     "text": [
      "Clark's\n"
     ]
    }
   ],
   "source": [
    "s5 = \"Clark's\" #If you need the apostrophe as part of the string\n",
    "\n",
    "print(s5)"
   ]
  },
  {
   "cell_type": "markdown",
   "id": "83c66d62",
   "metadata": {},
   "source": [
    "Strings are Immutable\n",
    "\n",
    "- Any changes you make creates a new string in a different memory location"
   ]
  },
  {
   "cell_type": "code",
   "execution_count": 5,
   "id": "37984f57",
   "metadata": {},
   "outputs": [
    {
     "ename": "TypeError",
     "evalue": "'str' object does not support item assignment",
     "output_type": "error",
     "traceback": [
      "\u001b[1;31m---------------------------------------------------------------------------\u001b[0m",
      "\u001b[1;31mTypeError\u001b[0m                                 Traceback (most recent call last)",
      "Cell \u001b[1;32mIn[5], line 2\u001b[0m\n\u001b[0;32m      1\u001b[0m s1 \u001b[38;5;241m=\u001b[39m \u001b[38;5;124m\"\u001b[39m\u001b[38;5;124mHello\u001b[39m\u001b[38;5;124m\"\u001b[39m\n\u001b[1;32m----> 2\u001b[0m s1[\u001b[38;5;241m0\u001b[39m] \u001b[38;5;241m=\u001b[39m \u001b[38;5;124m'\u001b[39m\u001b[38;5;124mM\u001b[39m\u001b[38;5;124m'\u001b[39m\n",
      "\u001b[1;31mTypeError\u001b[0m: 'str' object does not support item assignment"
     ]
    }
   ],
   "source": [
    "s1 = \"Hello\"\n",
    "s1[0] = 'M'"
   ]
  },
  {
   "cell_type": "markdown",
   "id": "4a5e2158",
   "metadata": {},
   "source": [
    "String Slicing\n",
    "\n",
    "String[start:stop:step]"
   ]
  },
  {
   "cell_type": "code",
   "execution_count": null,
   "id": "105be974",
   "metadata": {},
   "outputs": [
    {
     "name": "stdout",
     "output_type": "stream",
     "text": [
      "ello\n",
      "Hello Wor\n"
     ]
    }
   ],
   "source": [
    "s1 = \"Hello World\"\n",
    "\n",
    "print(s1[1:5])\n",
    "print(s1[-11:-2]) #you can only move in the forward direction"
   ]
  },
  {
   "cell_type": "markdown",
   "id": "880943bd",
   "metadata": {},
   "source": [
    "Using step"
   ]
  },
  {
   "cell_type": "code",
   "execution_count": null,
   "id": "56230cb7",
   "metadata": {},
   "outputs": [
    {
     "name": "stdout",
     "output_type": "stream",
     "text": [
      "Hello World\n",
      "HloWrd\n",
      "HloWrd\n",
      "dlroW o\n"
     ]
    }
   ],
   "source": [
    "s1 = \"Hello World\"\n",
    "\n",
    "print(s1[0: len(s1)]) # Without step\n",
    "print(s1[0: len(s1): 2]) # With step\n",
    "print(s1[0: : 2]) # This will stil give you th entire length of the string as stop"
   ]
  },
  {
   "cell_type": "code",
   "execution_count": 19,
   "id": "df1e7259",
   "metadata": {},
   "outputs": [
    {
     "name": "stdout",
     "output_type": "stream",
     "text": [
      "dlroW olleH\n",
      "dlroW o\n"
     ]
    }
   ],
   "source": [
    "s1 = \"Hello World\"\n",
    "\n",
    "s2 = s1[ : :-1 ] # This traverses the string in reverse order\n",
    "print(s2)\n",
    "\n",
    "print(s1[-1:3:-1])"
   ]
  }
 ],
 "metadata": {
  "kernelspec": {
   "display_name": "base",
   "language": "python",
   "name": "python3"
  },
  "language_info": {
   "codemirror_mode": {
    "name": "ipython",
    "version": 3
   },
   "file_extension": ".py",
   "mimetype": "text/x-python",
   "name": "python",
   "nbconvert_exporter": "python",
   "pygments_lexer": "ipython3",
   "version": "3.11.5"
  }
 },
 "nbformat": 4,
 "nbformat_minor": 5
}
