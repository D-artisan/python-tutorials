{
 "cells": [
  {
   "cell_type": "markdown",
   "id": "47de872c",
   "metadata": {},
   "source": [
    "String:\n",
    "A string is a sequence (array) of characters enclosed in quotes.\n",
    "\n",
    "![Variables](./images/string_intro.png)"
   ]
  },
  {
   "cell_type": "code",
   "execution_count": 2,
   "id": "bda12b01",
   "metadata": {},
   "outputs": [
    {
     "name": "stdout",
     "output_type": "stream",
     "text": [
      "H\n",
      "o\n",
      "5\n"
     ]
    }
   ],
   "source": [
    "s1 = 'Hello'\n",
    "print(s1[0])\n",
    "print(s1[-1])\n",
    "\n",
    "print(len(s1))"
   ]
  },
  {
   "cell_type": "markdown",
   "id": "e516fb2d",
   "metadata": {},
   "source": [
    "Traversing a String: Visiting all the characters of a string or sequence"
   ]
  },
  {
   "cell_type": "code",
   "execution_count": 1,
   "id": "2f5da83a",
   "metadata": {},
   "outputs": [
    {
     "name": "stdout",
     "output_type": "stream",
     "text": [
      "H\n",
      "e\n",
      "l\n",
      "l\n",
      "o\n"
     ]
    }
   ],
   "source": [
    "s1 = 'Hello'\n",
    "\n",
    "for x in s1:\n",
    "    print(x)"
   ]
  },
  {
   "cell_type": "code",
   "execution_count": 2,
   "id": "27263a0f",
   "metadata": {},
   "outputs": [
    {
     "name": "stdout",
     "output_type": "stream",
     "text": [
      "H\n",
      "e\n",
      "l\n",
      "l\n",
      "o\n"
     ]
    }
   ],
   "source": [
    "s1 = 'Hello'\n",
    "\n",
    "for i in range(len(s1)):\n",
    "    print(s1[i])"
   ]
  },
  {
   "cell_type": "markdown",
   "id": "a085064f",
   "metadata": {},
   "source": [
    "String Literals: how strings can be defined"
   ]
  },
  {
   "cell_type": "code",
   "execution_count": 3,
   "id": "56e0f3fb",
   "metadata": {},
   "outputs": [
    {
     "name": "stdout",
     "output_type": "stream",
     "text": [
      "\n",
      "    Hello.\n",
      "    How are you?\n",
      "    \n"
     ]
    }
   ],
   "source": [
    "s1 = 'Hello'\n",
    "s2 = \"Hello\"\n",
    "s3 = '''Hello'''\n",
    "# Multi-line String\n",
    "s4 = \"\"\"\n",
    "    Hello.\n",
    "    How are you?\n",
    "    \"\"\"\n",
    "    \n",
    "print(s4)"
   ]
  },
  {
   "cell_type": "code",
   "execution_count": 4,
   "id": "a456a85a",
   "metadata": {},
   "outputs": [
    {
     "name": "stdout",
     "output_type": "stream",
     "text": [
      "Clark's\n"
     ]
    }
   ],
   "source": [
    "s5 = \"Clark's\" #If you need the apostrophe as part of the string\n",
    "\n",
    "print(s5)"
   ]
  },
  {
   "cell_type": "markdown",
   "id": "83c66d62",
   "metadata": {},
   "source": [
    "Strings are Immutable\n",
    "\n",
    "- Any changes you make creates a new string in a different memory location"
   ]
  },
  {
   "cell_type": "code",
   "execution_count": 5,
   "id": "37984f57",
   "metadata": {},
   "outputs": [
    {
     "ename": "TypeError",
     "evalue": "'str' object does not support item assignment",
     "output_type": "error",
     "traceback": [
      "\u001b[1;31m---------------------------------------------------------------------------\u001b[0m",
      "\u001b[1;31mTypeError\u001b[0m                                 Traceback (most recent call last)",
      "Cell \u001b[1;32mIn[5], line 2\u001b[0m\n\u001b[0;32m      1\u001b[0m s1 \u001b[38;5;241m=\u001b[39m \u001b[38;5;124m\"\u001b[39m\u001b[38;5;124mHello\u001b[39m\u001b[38;5;124m\"\u001b[39m\n\u001b[1;32m----> 2\u001b[0m s1[\u001b[38;5;241m0\u001b[39m] \u001b[38;5;241m=\u001b[39m \u001b[38;5;124m'\u001b[39m\u001b[38;5;124mM\u001b[39m\u001b[38;5;124m'\u001b[39m\n",
      "\u001b[1;31mTypeError\u001b[0m: 'str' object does not support item assignment"
     ]
    }
   ],
   "source": [
    "s1 = \"Hello\"\n",
    "s1[0] = 'M'"
   ]
  },
  {
   "cell_type": "markdown",
   "id": "4a5e2158",
   "metadata": {},
   "source": [
    "String Slicing\n",
    "\n",
    "String[start:stop:step]"
   ]
  },
  {
   "cell_type": "code",
   "execution_count": null,
   "id": "105be974",
   "metadata": {},
   "outputs": [
    {
     "name": "stdout",
     "output_type": "stream",
     "text": [
      "ello\n",
      "Hello Wor\n"
     ]
    }
   ],
   "source": [
    "s1 = \"Hello World\"\n",
    "\n",
    "print(s1[1:5])\n",
    "print(s1[-11:-2]) #you can only move in the forward direction"
   ]
  },
  {
   "cell_type": "markdown",
   "id": "880943bd",
   "metadata": {},
   "source": [
    "Using step"
   ]
  },
  {
   "cell_type": "code",
   "execution_count": null,
   "id": "56230cb7",
   "metadata": {},
   "outputs": [
    {
     "name": "stdout",
     "output_type": "stream",
     "text": [
      "Hello World\n",
      "HloWrd\n",
      "HloWrd\n",
      "dlroW o\n"
     ]
    }
   ],
   "source": [
    "s1 = \"Hello World\"\n",
    "\n",
    "print(s1[0: len(s1)]) # Without step\n",
    "print(s1[0: len(s1): 2]) # With step\n",
    "print(s1[0: : 2]) # This will stil give you th entire length of the string as stop"
   ]
  },
  {
   "cell_type": "code",
   "execution_count": 19,
   "id": "df1e7259",
   "metadata": {},
   "outputs": [
    {
     "name": "stdout",
     "output_type": "stream",
     "text": [
      "dlroW olleH\n",
      "dlroW o\n"
     ]
    }
   ],
   "source": [
    "s1 = \"Hello World\"\n",
    "\n",
    "s2 = s1[ : :-1 ] # This traverses the string in reverse order\n",
    "print(s2)\n",
    "\n",
    "print(s1[-1:3:-1])"
   ]
  },
  {
   "cell_type": "markdown",
   "id": "f81ada5b",
   "metadata": {},
   "source": [
    "Operations on String\n",
    "- Concatenation\n",
    "- Repitition\n",
    "- Membership"
   ]
  },
  {
   "cell_type": "markdown",
   "id": "b133a619",
   "metadata": {},
   "source": [
    "Class String\n"
   ]
  },
  {
   "cell_type": "code",
   "execution_count": 20,
   "id": "d89958c8",
   "metadata": {},
   "outputs": [
    {
     "name": "stdout",
     "output_type": "stream",
     "text": [
      "<class 'str'>\n"
     ]
    }
   ],
   "source": [
    "s1 = \"Hello\"\n",
    "\n",
    "print(type(s1))"
   ]
  },
  {
   "cell_type": "markdown",
   "id": "15b4f337",
   "metadata": {},
   "source": [
    "Class & Object\n",
    "\n",
    "Class refers to a group of related data and the method or operations that can perforned on them."
   ]
  },
  {
   "cell_type": "code",
   "execution_count": 26,
   "id": "375ae864",
   "metadata": {},
   "outputs": [
    {
     "name": "stdout",
     "output_type": "stream",
     "text": [
      "hello\n"
     ]
    }
   ],
   "source": [
    "s1 = \"Hello\"\n",
    "print(s1.lower())"
   ]
  },
  {
   "cell_type": "code",
   "execution_count": null,
   "id": "90e57e92",
   "metadata": {},
   "outputs": [],
   "source": [
    "dir(str)"
   ]
  },
  {
   "cell_type": "markdown",
   "id": "159126bb",
   "metadata": {},
   "source": [
    "Find: Searches for a given substring and returns its index\n",
    "\n",
    "\n",
    "rfind: Searches for a given substring from the right hand side of a string (opposite direction)\n",
    "\n",
    "index: Similar to find\n",
    "\n",
    "![Variables](./images/find.png)"
   ]
  },
  {
   "cell_type": "code",
   "execution_count": 29,
   "id": "ea64e72a",
   "metadata": {},
   "outputs": [
    {
     "name": "stdout",
     "output_type": "stream",
     "text": [
      "4\n",
      "6\n"
     ]
    }
   ],
   "source": [
    "S = \"Hello How are you\"\n",
    "\n",
    "x = S.find('o')\n",
    "print(x)\n",
    "\n",
    "x = S.find('How')\n",
    "print(x)"
   ]
  },
  {
   "cell_type": "code",
   "execution_count": null,
   "id": "400eafc9",
   "metadata": {},
   "outputs": [
    {
     "name": "stdout",
     "output_type": "stream",
     "text": [
      "-1\n"
     ]
    }
   ],
   "source": [
    "# If any substring is not found, it returns index -1\n",
    "\n",
    "S = \"Hello How are you\"\n",
    "\n",
    "x = S.find('K')\n",
    "print(x)"
   ]
  },
  {
   "cell_type": "code",
   "execution_count": 31,
   "id": "80399524",
   "metadata": {},
   "outputs": [
    {
     "name": "stdout",
     "output_type": "stream",
     "text": [
      "4\n"
     ]
    }
   ],
   "source": [
    "# We can specify the range within which we want to perform the search\n",
    "S = \"Hello How are you\"\n",
    "\n",
    "x = S.find('o', 3, 7)\n",
    "print(x)"
   ]
  },
  {
   "cell_type": "markdown",
   "id": "16f1f676",
   "metadata": {},
   "source": [
    "rfind"
   ]
  },
  {
   "cell_type": "code",
   "execution_count": 38,
   "id": "11d58265",
   "metadata": {},
   "outputs": [
    {
     "name": "stdout",
     "output_type": "stream",
     "text": [
      "16\n"
     ]
    }
   ],
   "source": [
    "S = \"Hello How are you\"\n",
    "\n",
    "x = S.rfind('u',-1)\n",
    "print(x)\n",
    "\n",
    "x = S.rfind('you',0,-1)"
   ]
  },
  {
   "cell_type": "code",
   "execution_count": 40,
   "id": "7f350867",
   "metadata": {},
   "outputs": [
    {
     "name": "stdout",
     "output_type": "stream",
     "text": [
      "16\n"
     ]
    }
   ],
   "source": [
    "S = \"Hello How are you\"\n",
    "\n",
    "x = S.index('u')\n",
    "print(x)"
   ]
  },
  {
   "cell_type": "markdown",
   "id": "e48dc831",
   "metadata": {},
   "source": [
    "index"
   ]
  },
  {
   "cell_type": "code",
   "execution_count": 41,
   "id": "ebb779aa",
   "metadata": {},
   "outputs": [
    {
     "ename": "ValueError",
     "evalue": "substring not found",
     "output_type": "error",
     "traceback": [
      "\u001b[1;31m---------------------------------------------------------------------------\u001b[0m",
      "\u001b[1;31mValueError\u001b[0m                                Traceback (most recent call last)",
      "Cell \u001b[1;32mIn[41], line 5\u001b[0m\n\u001b[0;32m      1\u001b[0m \u001b[38;5;66;03m# index throws error when substring isn't found\u001b[39;00m\n\u001b[0;32m      3\u001b[0m S \u001b[38;5;241m=\u001b[39m \u001b[38;5;124m\"\u001b[39m\u001b[38;5;124mHello How are you\u001b[39m\u001b[38;5;124m\"\u001b[39m\n\u001b[1;32m----> 5\u001b[0m x \u001b[38;5;241m=\u001b[39m S\u001b[38;5;241m.\u001b[39mindex(\u001b[38;5;124m'\u001b[39m\u001b[38;5;124mp\u001b[39m\u001b[38;5;124m'\u001b[39m)\n\u001b[0;32m      6\u001b[0m \u001b[38;5;28mprint\u001b[39m(x)\n",
      "\u001b[1;31mValueError\u001b[0m: substring not found"
     ]
    }
   ],
   "source": [
    "# index throws error when substring isn't found\n",
    "\n",
    "S = \"Hello How are you\"\n",
    "\n",
    "x = S.index('p')\n",
    "print(x)"
   ]
  },
  {
   "cell_type": "markdown",
   "id": "30714c11",
   "metadata": {},
   "source": [
    "rindex"
   ]
  },
  {
   "cell_type": "code",
   "execution_count": 42,
   "id": "681b29bc",
   "metadata": {},
   "outputs": [
    {
     "name": "stdout",
     "output_type": "stream",
     "text": [
      "4\n"
     ]
    }
   ],
   "source": [
    "S = \"Hello How are you\"\n",
    "\n",
    "x = S.index('o')\n",
    "print(x)"
   ]
  },
  {
   "cell_type": "markdown",
   "id": "00ca24ec",
   "metadata": {},
   "source": [
    "count"
   ]
  },
  {
   "cell_type": "code",
   "execution_count": null,
   "id": "eb44d225",
   "metadata": {},
   "outputs": [
    {
     "name": "stdout",
     "output_type": "stream",
     "text": [
      "3\n"
     ]
    }
   ],
   "source": [
    "# Returns to total number of occurrences of a substring\n",
    "\n",
    "S = \"Hello How are you\"\n",
    "\n",
    "x = S.count('o')\n",
    "print(x)"
   ]
  },
  {
   "cell_type": "markdown",
   "id": "7b2c4aa8",
   "metadata": {},
   "source": [
    "Alignment & Padding"
   ]
  },
  {
   "cell_type": "markdown",
   "id": "f8917e2e",
   "metadata": {},
   "source": [
    "lstrip: removes leading left spaces\n",
    "rstrip: removes right spaces\n",
    "strip: removes left and right spaces\n",
    "\n",
    "- Useful for data cleaning"
   ]
  },
  {
   "cell_type": "code",
   "execution_count": 53,
   "id": "e29ed86c",
   "metadata": {},
   "outputs": [
    {
     "name": "stdout",
     "output_type": "stream",
     "text": [
      "  Hello\n",
      "Hello\n"
     ]
    }
   ],
   "source": [
    "s = \"  Hello\"\n",
    "print(s)\n",
    "print(s.lstrip())"
   ]
  },
  {
   "cell_type": "code",
   "execution_count": 61,
   "id": "1d9d1f15",
   "metadata": {},
   "outputs": [
    {
     "name": "stdout",
     "output_type": "stream",
     "text": [
      "   $$Hello\n",
      "   $$Hello\n",
      "Hello\n"
     ]
    }
   ],
   "source": [
    "# You can remove leading characters as well: remember to strip leading spaces before stripping leading characters\n",
    "s = \"   $$Hello\"\n",
    "print(s)\n",
    "print(s.lstrip(\"$\"))\n",
    "s1 = s.lstrip()\n",
    "print(s1.lstrip(\"$\"))"
   ]
  },
  {
   "cell_type": "code",
   "execution_count": 50,
   "id": "23dccb40",
   "metadata": {},
   "outputs": [
    {
     "name": "stdout",
     "output_type": "stream",
     "text": [
      "Hello   \n",
      "Hello\n"
     ]
    }
   ],
   "source": [
    "s = \"Hello   \"\n",
    "print(s)\n",
    "print(s.rstrip())"
   ]
  },
  {
   "cell_type": "code",
   "execution_count": 51,
   "id": "dc022409",
   "metadata": {},
   "outputs": [
    {
     "name": "stdout",
     "output_type": "stream",
     "text": [
      "   Hello  \n",
      "Hello\n"
     ]
    }
   ],
   "source": [
    "s = \"   Hello  \"\n",
    "print(s)\n",
    "print(s.strip())"
   ]
  },
  {
   "cell_type": "code",
   "execution_count": null,
   "id": "92524303",
   "metadata": {},
   "outputs": [
    {
     "name": "stdout",
     "output_type": "stream",
     "text": [
      "  £## #Hello###$££££££\n",
      "  £## #Hello###$££££££\n",
      "Hello\n"
     ]
    }
   ],
   "source": [
    "# You can use strip() to remove characters from both sides of a string\n",
    "\n",
    "s = \"  £## #Hello###$££££££\"\n",
    "print(s)\n",
    "print(s.strip(\"#\"))\n",
    "print(s.strip(\" #$£\")) # You must add space as a character in order to strip it"
   ]
  }
 ],
 "metadata": {
  "kernelspec": {
   "display_name": "base",
   "language": "python",
   "name": "python3"
  },
  "language_info": {
   "codemirror_mode": {
    "name": "ipython",
    "version": 3
   },
   "file_extension": ".py",
   "mimetype": "text/x-python",
   "name": "python",
   "nbconvert_exporter": "python",
   "pygments_lexer": "ipython3",
   "version": "3.11.5"
  }
 },
 "nbformat": 4,
 "nbformat_minor": 5
}
