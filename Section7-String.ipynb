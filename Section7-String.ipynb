{
 "cells": [
  {
   "cell_type": "markdown",
   "id": "47de872c",
   "metadata": {},
   "source": [
    "String:\n",
    "A string is a sequence (array) of characters enclosed in quotes.\n",
    "\n",
    "![Variables](./images/string_intro.png)"
   ]
  },
  {
   "cell_type": "code",
   "execution_count": 2,
   "id": "bda12b01",
   "metadata": {},
   "outputs": [
    {
     "name": "stdout",
     "output_type": "stream",
     "text": [
      "H\n",
      "o\n",
      "5\n"
     ]
    }
   ],
   "source": [
    "s1 = 'Hello'\n",
    "print(s1[0])\n",
    "print(s1[-1])\n",
    "\n",
    "print(len(s1))"
   ]
  },
  {
   "cell_type": "markdown",
   "id": "e516fb2d",
   "metadata": {},
   "source": [
    "Traversing a String: Visiting all the characters of a string or sequence"
   ]
  },
  {
   "cell_type": "code",
   "execution_count": 1,
   "id": "2f5da83a",
   "metadata": {},
   "outputs": [
    {
     "name": "stdout",
     "output_type": "stream",
     "text": [
      "H\n",
      "e\n",
      "l\n",
      "l\n",
      "o\n"
     ]
    }
   ],
   "source": [
    "s1 = 'Hello'\n",
    "\n",
    "for x in s1:\n",
    "    print(x)"
   ]
  },
  {
   "cell_type": "code",
   "execution_count": 2,
   "id": "27263a0f",
   "metadata": {},
   "outputs": [
    {
     "name": "stdout",
     "output_type": "stream",
     "text": [
      "H\n",
      "e\n",
      "l\n",
      "l\n",
      "o\n"
     ]
    }
   ],
   "source": [
    "s1 = 'Hello'\n",
    "\n",
    "for i in range(len(s1)):\n",
    "    print(s1[i])"
   ]
  },
  {
   "cell_type": "markdown",
   "id": "a085064f",
   "metadata": {},
   "source": [
    "String Literals: how strings can be defined"
   ]
  },
  {
   "cell_type": "code",
   "execution_count": 3,
   "id": "56e0f3fb",
   "metadata": {},
   "outputs": [
    {
     "name": "stdout",
     "output_type": "stream",
     "text": [
      "\n",
      "    Hello.\n",
      "    How are you?\n",
      "    \n"
     ]
    }
   ],
   "source": [
    "s1 = 'Hello'\n",
    "s2 = \"Hello\"\n",
    "s3 = '''Hello'''\n",
    "# Multi-line String\n",
    "s4 = \"\"\"\n",
    "    Hello.\n",
    "    How are you?\n",
    "    \"\"\"\n",
    "    \n",
    "print(s4)"
   ]
  },
  {
   "cell_type": "code",
   "execution_count": 4,
   "id": "a456a85a",
   "metadata": {},
   "outputs": [
    {
     "name": "stdout",
     "output_type": "stream",
     "text": [
      "Clark's\n"
     ]
    }
   ],
   "source": [
    "s5 = \"Clark's\" #If you need the apostrophe as part of the string\n",
    "\n",
    "print(s5)"
   ]
  },
  {
   "cell_type": "markdown",
   "id": "83c66d62",
   "metadata": {},
   "source": [
    "Strings are Immutable\n",
    "\n",
    "- Any changes you make creates a new string in a different memory location"
   ]
  },
  {
   "cell_type": "code",
   "execution_count": 5,
   "id": "37984f57",
   "metadata": {},
   "outputs": [
    {
     "ename": "TypeError",
     "evalue": "'str' object does not support item assignment",
     "output_type": "error",
     "traceback": [
      "\u001b[1;31m---------------------------------------------------------------------------\u001b[0m",
      "\u001b[1;31mTypeError\u001b[0m                                 Traceback (most recent call last)",
      "Cell \u001b[1;32mIn[5], line 2\u001b[0m\n\u001b[0;32m      1\u001b[0m s1 \u001b[38;5;241m=\u001b[39m \u001b[38;5;124m\"\u001b[39m\u001b[38;5;124mHello\u001b[39m\u001b[38;5;124m\"\u001b[39m\n\u001b[1;32m----> 2\u001b[0m s1[\u001b[38;5;241m0\u001b[39m] \u001b[38;5;241m=\u001b[39m \u001b[38;5;124m'\u001b[39m\u001b[38;5;124mM\u001b[39m\u001b[38;5;124m'\u001b[39m\n",
      "\u001b[1;31mTypeError\u001b[0m: 'str' object does not support item assignment"
     ]
    }
   ],
   "source": [
    "s1 = \"Hello\"\n",
    "s1[0] = 'M'"
   ]
  },
  {
   "cell_type": "markdown",
   "id": "4a5e2158",
   "metadata": {},
   "source": [
    "String Slicing\n",
    "\n",
    "String[start:stop:step]"
   ]
  },
  {
   "cell_type": "code",
   "execution_count": null,
   "id": "105be974",
   "metadata": {},
   "outputs": [
    {
     "name": "stdout",
     "output_type": "stream",
     "text": [
      "ello\n",
      "Hello Wor\n"
     ]
    }
   ],
   "source": [
    "s1 = \"Hello World\"\n",
    "\n",
    "print(s1[1:5])\n",
    "print(s1[-11:-2]) #you can only move in the forward direction"
   ]
  },
  {
   "cell_type": "markdown",
   "id": "880943bd",
   "metadata": {},
   "source": [
    "Using step"
   ]
  },
  {
   "cell_type": "code",
   "execution_count": null,
   "id": "56230cb7",
   "metadata": {},
   "outputs": [
    {
     "name": "stdout",
     "output_type": "stream",
     "text": [
      "Hello World\n",
      "HloWrd\n",
      "HloWrd\n",
      "dlroW o\n"
     ]
    }
   ],
   "source": [
    "s1 = \"Hello World\"\n",
    "\n",
    "print(s1[0: len(s1)]) # Without step\n",
    "print(s1[0: len(s1): 2]) # With step\n",
    "print(s1[0: : 2]) # This will stil give you th entire length of the string as stop"
   ]
  },
  {
   "cell_type": "code",
   "execution_count": 19,
   "id": "df1e7259",
   "metadata": {},
   "outputs": [
    {
     "name": "stdout",
     "output_type": "stream",
     "text": [
      "dlroW olleH\n",
      "dlroW o\n"
     ]
    }
   ],
   "source": [
    "s1 = \"Hello World\"\n",
    "\n",
    "s2 = s1[ : :-1 ] # This traverses the string in reverse order\n",
    "print(s2)\n",
    "\n",
    "print(s1[-1:3:-1])"
   ]
  },
  {
   "cell_type": "markdown",
   "id": "f81ada5b",
   "metadata": {},
   "source": [
    "Operations on String\n",
    "- Concatenation\n",
    "- Repitition\n",
    "- Membership"
   ]
  },
  {
   "cell_type": "markdown",
   "id": "b133a619",
   "metadata": {},
   "source": [
    "Class String\n"
   ]
  },
  {
   "cell_type": "code",
   "execution_count": 20,
   "id": "d89958c8",
   "metadata": {},
   "outputs": [
    {
     "name": "stdout",
     "output_type": "stream",
     "text": [
      "<class 'str'>\n"
     ]
    }
   ],
   "source": [
    "s1 = \"Hello\"\n",
    "\n",
    "print(type(s1))"
   ]
  },
  {
   "cell_type": "markdown",
   "id": "15b4f337",
   "metadata": {},
   "source": [
    "Class & Object\n",
    "\n",
    "Class refers to a group of related data and the method or operations that can perforned on them."
   ]
  },
  {
   "cell_type": "code",
   "execution_count": 26,
   "id": "375ae864",
   "metadata": {},
   "outputs": [
    {
     "name": "stdout",
     "output_type": "stream",
     "text": [
      "hello\n"
     ]
    }
   ],
   "source": [
    "s1 = \"Hello\"\n",
    "print(s1.lower())"
   ]
  },
  {
   "cell_type": "code",
   "execution_count": null,
   "id": "90e57e92",
   "metadata": {},
   "outputs": [],
   "source": [
    "dir(str)"
   ]
  },
  {
   "cell_type": "markdown",
   "id": "159126bb",
   "metadata": {},
   "source": [
    "Find: Searches for a given substring and returns its index\n",
    "\n",
    "\n",
    "rfind: Searches for a given substring from the right hand side of a string (opposite direction)\n",
    "\n",
    "index: Similar to find\n",
    "\n",
    "![Variables](./images/find.png)"
   ]
  },
  {
   "cell_type": "code",
   "execution_count": 29,
   "id": "ea64e72a",
   "metadata": {},
   "outputs": [
    {
     "name": "stdout",
     "output_type": "stream",
     "text": [
      "4\n",
      "6\n"
     ]
    }
   ],
   "source": [
    "S = \"Hello How are you\"\n",
    "\n",
    "x = S.find('o')\n",
    "print(x)\n",
    "\n",
    "x = S.find('How')\n",
    "print(x)"
   ]
  },
  {
   "cell_type": "code",
   "execution_count": null,
   "id": "400eafc9",
   "metadata": {},
   "outputs": [
    {
     "name": "stdout",
     "output_type": "stream",
     "text": [
      "-1\n"
     ]
    }
   ],
   "source": [
    "# If any substring is not found, it returns index -1\n",
    "\n",
    "S = \"Hello How are you\"\n",
    "\n",
    "x = S.find('K')\n",
    "print(x)"
   ]
  },
  {
   "cell_type": "code",
   "execution_count": 31,
   "id": "80399524",
   "metadata": {},
   "outputs": [
    {
     "name": "stdout",
     "output_type": "stream",
     "text": [
      "4\n"
     ]
    }
   ],
   "source": [
    "# We can specify the range within which we want to perform the search\n",
    "S = \"Hello How are you\"\n",
    "\n",
    "x = S.find('o', 3, 7)\n",
    "print(x)"
   ]
  },
  {
   "cell_type": "markdown",
   "id": "16f1f676",
   "metadata": {},
   "source": [
    "rfind"
   ]
  },
  {
   "cell_type": "code",
   "execution_count": 38,
   "id": "11d58265",
   "metadata": {},
   "outputs": [
    {
     "name": "stdout",
     "output_type": "stream",
     "text": [
      "16\n"
     ]
    }
   ],
   "source": [
    "S = \"Hello How are you\"\n",
    "\n",
    "x = S.rfind('u',-1)\n",
    "print(x)\n",
    "\n",
    "x = S.rfind('you',0,-1)"
   ]
  },
  {
   "cell_type": "code",
   "execution_count": 40,
   "id": "7f350867",
   "metadata": {},
   "outputs": [
    {
     "name": "stdout",
     "output_type": "stream",
     "text": [
      "16\n"
     ]
    }
   ],
   "source": [
    "S = \"Hello How are you\"\n",
    "\n",
    "x = S.index('u')\n",
    "print(x)"
   ]
  },
  {
   "cell_type": "markdown",
   "id": "e48dc831",
   "metadata": {},
   "source": [
    "index"
   ]
  },
  {
   "cell_type": "code",
   "execution_count": 41,
   "id": "ebb779aa",
   "metadata": {},
   "outputs": [
    {
     "ename": "ValueError",
     "evalue": "substring not found",
     "output_type": "error",
     "traceback": [
      "\u001b[1;31m---------------------------------------------------------------------------\u001b[0m",
      "\u001b[1;31mValueError\u001b[0m                                Traceback (most recent call last)",
      "Cell \u001b[1;32mIn[41], line 5\u001b[0m\n\u001b[0;32m      1\u001b[0m \u001b[38;5;66;03m# index throws error when substring isn't found\u001b[39;00m\n\u001b[0;32m      3\u001b[0m S \u001b[38;5;241m=\u001b[39m \u001b[38;5;124m\"\u001b[39m\u001b[38;5;124mHello How are you\u001b[39m\u001b[38;5;124m\"\u001b[39m\n\u001b[1;32m----> 5\u001b[0m x \u001b[38;5;241m=\u001b[39m S\u001b[38;5;241m.\u001b[39mindex(\u001b[38;5;124m'\u001b[39m\u001b[38;5;124mp\u001b[39m\u001b[38;5;124m'\u001b[39m)\n\u001b[0;32m      6\u001b[0m \u001b[38;5;28mprint\u001b[39m(x)\n",
      "\u001b[1;31mValueError\u001b[0m: substring not found"
     ]
    }
   ],
   "source": [
    "# index throws error when substring isn't found\n",
    "\n",
    "S = \"Hello How are you\"\n",
    "\n",
    "x = S.index('p')\n",
    "print(x)"
   ]
  },
  {
   "cell_type": "markdown",
   "id": "30714c11",
   "metadata": {},
   "source": [
    "rindex"
   ]
  },
  {
   "cell_type": "code",
   "execution_count": 42,
   "id": "681b29bc",
   "metadata": {},
   "outputs": [
    {
     "name": "stdout",
     "output_type": "stream",
     "text": [
      "4\n"
     ]
    }
   ],
   "source": [
    "S = \"Hello How are you\"\n",
    "\n",
    "x = S.index('o')\n",
    "print(x)"
   ]
  },
  {
   "cell_type": "markdown",
   "id": "00ca24ec",
   "metadata": {},
   "source": [
    "count"
   ]
  },
  {
   "cell_type": "code",
   "execution_count": null,
   "id": "eb44d225",
   "metadata": {},
   "outputs": [
    {
     "name": "stdout",
     "output_type": "stream",
     "text": [
      "3\n"
     ]
    }
   ],
   "source": [
    "# Returns to total number of occurrences of a substring\n",
    "\n",
    "S = \"Hello How are you\"\n",
    "\n",
    "x = S.count('o')\n",
    "print(x)"
   ]
  },
  {
   "cell_type": "markdown",
   "id": "7b2c4aa8",
   "metadata": {},
   "source": [
    "Alignment & Padding"
   ]
  },
  {
   "cell_type": "markdown",
   "id": "f8917e2e",
   "metadata": {},
   "source": [
    "lstrip: removes leading left spaces\n",
    "rstrip: removes right spaces\n",
    "strip: removes left and right spaces\n",
    "\n",
    "- Useful for data cleaning"
   ]
  },
  {
   "cell_type": "code",
   "execution_count": 53,
   "id": "e29ed86c",
   "metadata": {},
   "outputs": [
    {
     "name": "stdout",
     "output_type": "stream",
     "text": [
      "  Hello\n",
      "Hello\n"
     ]
    }
   ],
   "source": [
    "s = \"  Hello\"\n",
    "print(s)\n",
    "print(s.lstrip())"
   ]
  },
  {
   "cell_type": "code",
   "execution_count": 61,
   "id": "1d9d1f15",
   "metadata": {},
   "outputs": [
    {
     "name": "stdout",
     "output_type": "stream",
     "text": [
      "   $$Hello\n",
      "   $$Hello\n",
      "Hello\n"
     ]
    }
   ],
   "source": [
    "# You can remove leading characters as well: remember to strip leading spaces before stripping leading characters\n",
    "s = \"   $$Hello\"\n",
    "print(s)\n",
    "print(s.lstrip(\"$\"))\n",
    "s1 = s.lstrip()\n",
    "print(s1.lstrip(\"$\"))"
   ]
  },
  {
   "cell_type": "code",
   "execution_count": 50,
   "id": "23dccb40",
   "metadata": {},
   "outputs": [
    {
     "name": "stdout",
     "output_type": "stream",
     "text": [
      "Hello   \n",
      "Hello\n"
     ]
    }
   ],
   "source": [
    "s = \"Hello   \"\n",
    "print(s)\n",
    "print(s.rstrip())"
   ]
  },
  {
   "cell_type": "code",
   "execution_count": 51,
   "id": "dc022409",
   "metadata": {},
   "outputs": [
    {
     "name": "stdout",
     "output_type": "stream",
     "text": [
      "   Hello  \n",
      "Hello\n"
     ]
    }
   ],
   "source": [
    "s = \"   Hello  \"\n",
    "print(s)\n",
    "print(s.strip())"
   ]
  },
  {
   "cell_type": "code",
   "execution_count": null,
   "id": "92524303",
   "metadata": {},
   "outputs": [
    {
     "name": "stdout",
     "output_type": "stream",
     "text": [
      "  £## #Hello###$££££££\n",
      "  £## #Hello###$££££££\n",
      "Hello\n"
     ]
    }
   ],
   "source": [
    "# You can use strip() to remove characters from both sides of a string\n",
    "\n",
    "s = \"  £## #Hello###$££££££\"\n",
    "print(s)\n",
    "print(s.strip(\"#\"))\n",
    "print(s.strip(\" #$£\")) # You must add space as a character in order to strip it"
   ]
  },
  {
   "cell_type": "markdown",
   "id": "c516bdd1",
   "metadata": {},
   "source": [
    "Join & Split"
   ]
  },
  {
   "cell_type": "markdown",
   "id": "07d60e9d",
   "metadata": {},
   "source": [
    "Replace Method: Replacing a substring with a new substring"
   ]
  },
  {
   "cell_type": "code",
   "execution_count": null,
   "id": "8e25a780",
   "metadata": {},
   "outputs": [
    {
     "name": "stdout",
     "output_type": "stream",
     "text": [
      "a,b,c,d,e\n"
     ]
    }
   ],
   "source": [
    "s1 = 'a-b-c-d-e'\n",
    "# Aytime you perform any action on an existing string, a new string is created\n",
    "s2 = s1.replace('-',',') \n",
    "print(s2)"
   ]
  },
  {
   "cell_type": "code",
   "execution_count": 2,
   "id": "d7aac884",
   "metadata": {},
   "outputs": [
    {
     "name": "stdout",
     "output_type": "stream",
     "text": [
      "a,b,c,d-e\n"
     ]
    }
   ],
   "source": [
    "s1 = 'a-b-c-d-e'\n",
    "s2 = s1.replace('-',',',3) # replacing hyphen with commas forjust three occurrences of hyphen\n",
    "print(s2)"
   ]
  },
  {
   "cell_type": "code",
   "execution_count": 4,
   "id": "51159d9a",
   "metadata": {},
   "outputs": [
    {
     "name": "stdout",
     "output_type": "stream",
     "text": [
      "a-b-c-d-e\n"
     ]
    }
   ],
   "source": [
    "s1 = 'a-b-c-d-e'\n",
    "s2 = s1.replace('k', 'm') # If you attempt replacing a non-existent substring, it returns with a copy of the original string\n",
    "print(s2)"
   ]
  },
  {
   "cell_type": "code",
   "execution_count": 7,
   "id": "678ad199",
   "metadata": {},
   "outputs": [
    {
     "name": "stdout",
     "output_type": "stream",
     "text": [
      "abcd@yahoo.com\n"
     ]
    }
   ],
   "source": [
    "s1 = 'abcd@gmail.com'\n",
    "s2 = s1.replace('gmail', 'yahoo') # Practical appllication example\n",
    "print(s2)"
   ]
  },
  {
   "cell_type": "markdown",
   "id": "03588ac3",
   "metadata": {},
   "source": [
    "join(iterable)\n"
   ]
  },
  {
   "cell_type": "code",
   "execution_count": 9,
   "id": "346eca26",
   "metadata": {},
   "outputs": [
    {
     "name": "stdout",
     "output_type": "stream",
     "text": [
      "axyzbxyzc\n"
     ]
    }
   ],
   "source": [
    "s1 = 'xyz'\n",
    "s2 = 'abc'\n",
    "s3 = s1.join(s2) # s1 is inserted between all the characterss of s2\n",
    "print(s3)"
   ]
  },
  {
   "cell_type": "code",
   "execution_count": 10,
   "id": "38e6ad76",
   "metadata": {},
   "outputs": [
    {
     "name": "stdout",
     "output_type": "stream",
     "text": [
      "a/b/c\n"
     ]
    }
   ],
   "source": [
    "s1 = '/'\n",
    "s2 = 'abc'\n",
    "s3 = s1.join(s2)\n",
    "print(s3)"
   ]
  },
  {
   "cell_type": "markdown",
   "id": "5d0ac1a4",
   "metadata": {},
   "source": [
    "split(sep, maxsplit)"
   ]
  },
  {
   "cell_type": "code",
   "execution_count": null,
   "id": "0d790984",
   "metadata": {},
   "outputs": [
    {
     "name": "stdout",
     "output_type": "stream",
     "text": [
      "['John', 'Smith', 'Ajay']\n"
     ]
    }
   ],
   "source": [
    "s1 = 'John Smith Ajay'\n",
    "s2 = s1.split() # This splits on spaces: splits the strings into list of multiple strings\n",
    "print(s2)"
   ]
  },
  {
   "cell_type": "code",
   "execution_count": 12,
   "id": "72cbd562",
   "metadata": {},
   "outputs": [
    {
     "name": "stdout",
     "output_type": "stream",
     "text": [
      "['Jo', 'n Smit', ' Ajay']\n"
     ]
    }
   ],
   "source": [
    "s1 = 'John Smith Ajay'\n",
    "s2 = s1.split('h')\n",
    "print(s2)"
   ]
  },
  {
   "cell_type": "code",
   "execution_count": 13,
   "id": "1e4af65e",
   "metadata": {},
   "outputs": [
    {
     "name": "stdout",
     "output_type": "stream",
     "text": [
      "['John', 'Smith', 'Ajay']\n"
     ]
    }
   ],
   "source": [
    "s1 = 'John,Smith,Ajay'\n",
    "s2 = s1.split(',')\n",
    "print(s2)"
   ]
  },
  {
   "cell_type": "code",
   "execution_count": 14,
   "id": "52c25b70",
   "metadata": {},
   "outputs": [
    {
     "name": "stdout",
     "output_type": "stream",
     "text": [
      "['John', 'Smith', 'Ajay', 'Khan', 'James']\n"
     ]
    }
   ],
   "source": [
    "s1 = 'John-Smith-Ajay-Khan-James'\n",
    "s2 = s1.split('-')\n",
    "print(s2)"
   ]
  },
  {
   "cell_type": "code",
   "execution_count": 15,
   "id": "60fb3ba6",
   "metadata": {},
   "outputs": [
    {
     "name": "stdout",
     "output_type": "stream",
     "text": [
      "['John', 'Smith', 'Ajay', 'Khan-James']\n"
     ]
    }
   ],
   "source": [
    "s1 = 'John-Smith-Ajay-Khan-James'\n",
    "s2 = s1.split('-', 3) # Split for only three occurrences\n",
    "print(s2)"
   ]
  },
  {
   "cell_type": "markdown",
   "id": "e8f6852d",
   "metadata": {},
   "source": [
    "Prefix & Suffix\n",
    "\n",
    "- Checks whether a string starts or end with some defined substring or not. Returns a boolean"
   ]
  },
  {
   "cell_type": "code",
   "execution_count": 27,
   "id": "27b0bbb3",
   "metadata": {},
   "outputs": [
    {
     "name": "stdout",
     "output_type": "stream",
     "text": [
      "True\n"
     ]
    }
   ],
   "source": [
    "s1 = 'abcd@gmail.com'\n",
    "print(s1.startswith('ab'))"
   ]
  },
  {
   "cell_type": "code",
   "execution_count": null,
   "id": "68de01ae",
   "metadata": {},
   "outputs": [
    {
     "name": "stdout",
     "output_type": "stream",
     "text": [
      "True\n",
      "True\n"
     ]
    }
   ],
   "source": [
    "s1 = \"Python is very easy!\"\n",
    "substring1 = \"Python\"\n",
    "substring2 = \"easy!\"\n",
    "print(s1.startswith(substring1))\n",
    "print(s1.endswith(substring2))"
   ]
  },
  {
   "cell_type": "code",
   "execution_count": 31,
   "id": "e2864a3a",
   "metadata": {},
   "outputs": [
    {
     "name": "stdout",
     "output_type": "stream",
     "text": [
      "True\n",
      "True\n",
      "@gmail.com\n",
      "abcd@gmail.\n"
     ]
    }
   ],
   "source": [
    "s1 = \"abcd@gmail.com\"\n",
    "substring1 = \"abcd\"\n",
    "substring2 = \"com\"\n",
    "print(s1.startswith(substring1))\n",
    "print(s1.endswith(substring2))\n",
    "print(s1.removeprefix(substring1))\n",
    "print(s1.removesuffix(substring2))"
   ]
  },
  {
   "cell_type": "markdown",
   "id": "36d231f6",
   "metadata": {},
   "source": [
    "Partition"
   ]
  },
  {
   "cell_type": "code",
   "execution_count": null,
   "id": "15c331f0",
   "metadata": {},
   "outputs": [
    {
     "name": "stdout",
     "output_type": "stream",
     "text": [
      "('Python ', 'is', ' very easy!')\n",
      "('John', '-', 'Smith-Ajay-Khan-James')\n"
     ]
    }
   ],
   "source": [
    "s1 = \"Python is very easy!\"\n",
    "sentence = 'John-Smith-Ajay-Khan-James'\n",
    "substring = 'is'\n",
    "print(s1.partition(substring)) # returns a tuple\n",
    "print(sentence.partition('-'))"
   ]
  },
  {
   "cell_type": "code",
   "execution_count": null,
   "id": "db34529a",
   "metadata": {},
   "outputs": [
    {
     "name": "stdout",
     "output_type": "stream",
     "text": [
      "('Python is very ea', 's', 'y!')\n"
     ]
    }
   ],
   "source": [
    "s1 = \"Python is very easy!\"\n",
    "substring = 's'\n",
    "print(s1.rpartition(substring)) # partitions on the first occurrence from the right hand side"
   ]
  },
  {
   "cell_type": "markdown",
   "id": "5cd77e63",
   "metadata": {},
   "source": [
    "Case Conversion\n",
    "- captitalize(): Keeps only the first letter as capital, the rest are made lower\n",
    "- upper()\n",
    "- lower(): works for only English alphabets\n",
    "- title(): Every word's first letter becomes capital\n",
    "- swapcase(): Interchanges cases\n",
    "- casefold(): works like lower() but for all natural languages supported by unicode"
   ]
  },
  {
   "cell_type": "code",
   "execution_count": 42,
   "id": "2ae452fd",
   "metadata": {},
   "outputs": [
    {
     "name": "stdout",
     "output_type": "stream",
     "text": [
      "Username already exists!\n"
     ]
    }
   ],
   "source": [
    "s1 = \"daniel\"\n",
    "s2 = \"DANIEL\"\n",
    "s1 = s1.casefold()\n",
    "s2 = s2.casefold()\n",
    "if s1 == s2:\n",
    "    print(\"Username already exists!\")\n",
    "else:\n",
    "    print(\"Username available\")"
   ]
  },
  {
   "cell_type": "markdown",
   "id": "f81bfa7c",
   "metadata": {},
   "source": [
    "Inquiry Methods\n",
    "- isalpha(): returns a boolean to check if characters are alphabets or not\n",
    "- islower()\n",
    "- isupper()\n",
    "- islower()\n",
    "- isspace() # Checks for string containing just space: useful for identifying white spaces\n",
    "- isprintable()\n",
    "- isidentifier: variable names. This method checks if it's a valid variable name or not\n",
    "- isdigit(): checks if characters are digits or not\n",
    "- isdecimal()\n",
    "- isnumeric()\n",
    "- isascii(): English language characters (0 - 127)\n",
    "- isalnum()"
   ]
  },
  {
   "cell_type": "markdown",
   "id": "bd93001f",
   "metadata": {},
   "source": [
    "Restaurant Menu Project"
   ]
  },
  {
   "cell_type": "code",
   "execution_count": 52,
   "id": "2efd82b5",
   "metadata": {},
   "outputs": [
    {
     "name": "stdout",
     "output_type": "stream",
     "text": [
      "['Milk', 'Mango', 'Wheat', 'Guava']\n",
      "['2000', '25', '3000', '2']\n",
      "\n",
      "--- MENU ---\n",
      "Milk --------- $2000\n",
      "Mango ---------- $25\n",
      "Wheat -------- $3000\n",
      "Guava ----------- $2\n"
     ]
    }
   ],
   "source": [
    "\n",
    "n = 0\n",
    "\n",
    "items = []\n",
    "prices = []\n",
    "\n",
    "while n < 4:\n",
    "    item = input(\"Enter first Menu Item: \")\n",
    "    price = input(\"Enter price: $\")\n",
    "    n += 1\n",
    "\n",
    "    items.append(item)\n",
    "    prices.append(price)\n",
    "\n",
    "print(items)\n",
    "print(prices)\n",
    "\n",
    "print(\"\\n--- MENU ---\")\n",
    "\n",
    "for i in range(len(items)):\n",
    "    item = items[i]\n",
    "    price = prices[i]\n",
    "\n",
    "    item_part = item + \" \"\n",
    "    price_part = \" $\" + price\n",
    "    dashes_needed = 20 - len(item_part) - len(price_part)\n",
    "        \n",
    "    if dashes_needed < 1:\n",
    "        dashes_needed = 1\n",
    "\n",
    "    dashes = \"-\" * dashes_needed\n",
    "    print(f\"{item_part}{dashes}{price_part}\")"
   ]
  },
  {
   "cell_type": "markdown",
   "id": "52260d65",
   "metadata": {},
   "source": [
    "Card Payment Project\n",
    "- Total credit card num length = 16\n",
    "- First 12 digits are hidden\n",
    "- Remaining are displayed"
   ]
  },
  {
   "cell_type": "code",
   "execution_count": 68,
   "id": "31139dd8",
   "metadata": {},
   "outputs": [
    {
     "name": "stdout",
     "output_type": "stream",
     "text": [
      "***************5566\n"
     ]
    }
   ],
   "source": [
    "card_num = \"4455 1122 3344 5566\"\n",
    "preceding_part = card_num[:-4]\n",
    "asterisks = \"*\" * len(preceding_part)\n",
    "masked_card =card_num.replace(preceding_part, asterisks)\n",
    "print(masked_card)"
   ]
  },
  {
   "cell_type": "code",
   "execution_count": 73,
   "id": "dac4d894",
   "metadata": {},
   "outputs": [
    {
     "name": "stdout",
     "output_type": "stream",
     "text": [
      "XXXX XXXX XXXX 5566\n"
     ]
    }
   ],
   "source": [
    "card_num = \"4455 1122 3344 5566\"\n",
    "\n",
    "get_last_four_digits = card_num[-4:]\n",
    "display_preceding_digits = \"XXXX \" * 3\n",
    "masked_card = display_preceding_digits + get_last_four_digits\n",
    "print(masked_card)"
   ]
  },
  {
   "cell_type": "code",
   "execution_count": 65,
   "id": "6842f206",
   "metadata": {},
   "outputs": [
    {
     "name": "stdout",
     "output_type": "stream",
     "text": [
      "4455 1122 3344 ****\n",
      "4455 1122 3344 ****\n",
      "4455 1122 3344 ****\n"
     ]
    }
   ],
   "source": [
    "card_num = \"4455 1122 3344 5566\"\n",
    "\n",
    "# Method 1: Using correct slice notation\n",
    "print(card_num.replace(card_num[-4:], \"****\"))\n",
    "\n",
    "# Method 2: Using string slicing (alternative approach)\n",
    "masked_card = card_num[:-4] + \"****\"\n",
    "print(masked_card)\n",
    "\n",
    "# Method 3: More explicit approach\n",
    "last_four = card_num[-4:]  # Gets \"5566\"\n",
    "masked_card = card_num.replace(last_four, \"****\")\n",
    "print(masked_card)"
   ]
  },
  {
   "cell_type": "markdown",
   "id": "d976c244",
   "metadata": {},
   "source": [
    "URL Parsing Project\n",
    "- Take url as input and pass it"
   ]
  },
  {
   "cell_type": "code",
   "execution_count": 82,
   "id": "ab86d2f6",
   "metadata": {},
   "outputs": [
    {
     "name": "stdout",
     "output_type": "stream",
     "text": [
      "['https://www', 'kaggle', 'com/datasets']\n",
      "\n",
      "      HTTPS: True\n",
      "      Protol: https\n",
      "      domain: kaggle\n",
      "      page: com/datasets\n",
      "      \n"
     ]
    }
   ],
   "source": [
    "url = \"https://www.kaggle.com/datasets\"\n",
    "\n",
    "url_parsed = url.split(\".\",)\n",
    "print(url_parsed)\n",
    "\n",
    "protocol = url.startswith(\"https\")\n",
    "protocol_parse = url.split(':')\n",
    "protocol_string = protocol_parse[0]\n",
    "domain = url_parsed[1]\n",
    "page = url_parsed[2]\n",
    "\n",
    "print(f'''\n",
    "      HTTPS: {protocol}\n",
    "      Protol: {protocol_string}\n",
    "      domain: {domain}\n",
    "      page: {page}\n",
    "      ''')"
   ]
  },
  {
   "cell_type": "code",
   "execution_count": 91,
   "id": "35627000",
   "metadata": {},
   "outputs": [
    {
     "name": "stdout",
     "output_type": "stream",
     "text": [
      "https\n",
      "kaggle\n",
      "/datasets\n"
     ]
    }
   ],
   "source": [
    "url = \"https://www.kaggle.com/datasets\"\n",
    "\n",
    "protocol = url[0: url.find(':')]\n",
    "dot1 = url.find('.')\n",
    "dot2 = url.find('.', dot1+1)\n",
    "\n",
    "domain = url [dot1+1: dot2]\n",
    "\n",
    "page = url[url.find('/',dot2):]\n",
    "\n",
    "print(protocol)\n",
    "print(domain)\n",
    "print(page)\n"
   ]
  },
  {
   "cell_type": "markdown",
   "id": "17ee39f5",
   "metadata": {},
   "source": [
    "Palindrome String Project"
   ]
  },
  {
   "cell_type": "code",
   "execution_count": 115,
   "id": "016ed0a9",
   "metadata": {},
   "outputs": [
    {
     "name": "stdout",
     "output_type": "stream",
     "text": [
      "madam\n",
      "madam is a palindrome\n"
     ]
    }
   ],
   "source": [
    "string = input(\"Enter a string to determine if it's a palindrome: \")\n",
    "string = string.lower() # To ensure consistent comparison\n",
    "\n",
    "reversed_string = string[::-1]\n",
    "print(reversed_string)\n",
    "\n",
    "if string == reversed_string:\n",
    "    print(f\"{string} is a palindrome\")\n",
    "else:\n",
    "    print(f\"{string} is not a palindrome\")"
   ]
  },
  {
   "cell_type": "code",
   "execution_count": 118,
   "id": "b8d3ebe4",
   "metadata": {},
   "outputs": [
    {
     "name": "stdout",
     "output_type": "stream",
     "text": [
      "namenowoneman\n",
      "namenowoneman is a palindrome\n"
     ]
    }
   ],
   "source": [
    "# Palindrom Phrase\n",
    "\n",
    "phrase = \"Name now one man\"\n",
    "phrase = phrase.replace(\" \", \"\")\n",
    "phrase = phrase.casefold() # To ensure consistent comparison\n",
    "\n",
    "reversed_phrase = phrase[::-1]\n",
    "print(reversed_phrase)\n",
    "\n",
    "if phrase == reversed_phrase:\n",
    "    print(f\"{phrase} is a palindrome\")\n",
    "else:\n",
    "    print(f\"{string} is not a palindrome\")"
   ]
  },
  {
   "cell_type": "code",
   "execution_count": 123,
   "id": "8d932dc5",
   "metadata": {},
   "outputs": [
    {
     "name": "stdout",
     "output_type": "stream",
     "text": [
      "sracecar\n",
      "racecarssracecar\n"
     ]
    }
   ],
   "source": [
    "phrase = \"Race cars\"\n",
    "phrase = phrase.replace(\" \", \"\")\n",
    "phrase = phrase.casefold() # To ensure consistent comparison\n",
    "\n",
    "reversed_phrase = phrase[::-1]\n",
    "print(reversed_phrase)\n",
    "\n",
    "if phrase == reversed_phrase:\n",
    "    print(f\"{phrase} is a palindrome\")\n",
    "else:\n",
    "    palindrome = phrase + reversed_phrase\n",
    "    print(palindrome)"
   ]
  }
 ],
 "metadata": {
  "kernelspec": {
   "display_name": "conda_env",
   "language": "python",
   "name": "conda_env"
  },
  "language_info": {
   "codemirror_mode": {
    "name": "ipython",
    "version": 3
   },
   "file_extension": ".py",
   "mimetype": "text/x-python",
   "name": "python",
   "nbconvert_exporter": "python",
   "pygments_lexer": "ipython3",
   "version": "3.10.16"
  }
 },
 "nbformat": 4,
 "nbformat_minor": 5
}
