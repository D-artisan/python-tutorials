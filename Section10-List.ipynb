{
 "cells": [
  {
   "cell_type": "markdown",
   "id": "756b04a6",
   "metadata": {},
   "source": [
    "A list is a collection of elements.\n",
    "- It is ordered\n",
    "\n",
    "Ordered collection of heterogenous elements\n",
    "- Mutable\n",
    "- can have duplicates"
   ]
  },
  {
   "cell_type": "code",
   "execution_count": 2,
   "id": "59ba0606",
   "metadata": {},
   "outputs": [
    {
     "data": {
      "text/plain": [
       "[1, 2, 3, 4, 5, 6]"
      ]
     },
     "execution_count": 2,
     "metadata": {},
     "output_type": "execute_result"
    }
   ],
   "source": [
    "L1 = [1, 2, 3, 4, 5, 6]\n",
    "L1"
   ]
  },
  {
   "cell_type": "code",
   "execution_count": 4,
   "id": "6abe4c50",
   "metadata": {},
   "outputs": [
    {
     "data": {
      "text/plain": [
       "[3, 5, 7, 9]"
      ]
     },
     "execution_count": 4,
     "metadata": {},
     "output_type": "execute_result"
    }
   ],
   "source": [
    "L2 = list((3,5,7,9))\n",
    "L2"
   ]
  },
  {
   "cell_type": "code",
   "execution_count": null,
   "id": "ad0730ef",
   "metadata": {},
   "outputs": [
    {
     "name": "stdout",
     "output_type": "stream",
     "text": [
      "1\n",
      "2\n",
      "3\n",
      "4\n",
      "5\n",
      "6\n"
     ]
    }
   ],
   "source": [
    "L3 = list('abcde')\n",
    "L3\n",
    "\n",
    "for x in L1: # Traversing a list\n",
    "    print(x)"
   ]
  },
  {
   "cell_type": "code",
   "execution_count": null,
   "id": "f71c934a",
   "metadata": {},
   "outputs": [],
   "source": [
    "int_list = list()"
   ]
  },
  {
   "cell_type": "code",
   "execution_count": null,
   "id": "45f87980",
   "metadata": {},
   "outputs": [],
   "source": [
    "L2 = [1.8, 1.8, 3.5, 4.6, 5.7]"
   ]
  },
  {
   "cell_type": "markdown",
   "id": "efc8bdeb",
   "metadata": {},
   "source": [
    "List can contain heterogenous elements (different data types)"
   ]
  },
  {
   "cell_type": "code",
   "execution_count": 7,
   "id": "99a0d4d8",
   "metadata": {},
   "outputs": [
    {
     "data": {
      "text/plain": [
       "[4, 3, 'John', True, (5+6j)]"
      ]
     },
     "execution_count": 7,
     "metadata": {},
     "output_type": "execute_result"
    }
   ],
   "source": [
    "L1 = [4,3,'John',True,5+6j]\n",
    "L1"
   ]
  },
  {
   "cell_type": "markdown",
   "id": "bf0e0411",
   "metadata": {},
   "source": [
    "Lists are mutable"
   ]
  },
  {
   "cell_type": "code",
   "execution_count": 11,
   "id": "8fc45759",
   "metadata": {},
   "outputs": [
    {
     "name": "stdout",
     "output_type": "stream",
     "text": [
      "[1.8, 1.8, 3.5, 4.6, 5.7, 10, 50]\n",
      "[1.8, 500, 4.6, 5.7, 10, 50, 25]\n"
     ]
    }
   ],
   "source": [
    "my_list = [1.8, 1.8, 3.5, 4.6, 5.7, 10, 50]\n",
    "print(my_list)\n",
    "my_list[2]=500\n",
    "my_list.append(25)\n",
    "my_list.remove(1.8)\n",
    "print(my_list)"
   ]
  },
  {
   "cell_type": "markdown",
   "id": "ff282517",
   "metadata": {},
   "source": [
    "Indexing & Slicing"
   ]
  },
  {
   "cell_type": "code",
   "execution_count": 12,
   "id": "43d0864f",
   "metadata": {},
   "outputs": [
    {
     "data": {
      "text/plain": [
       "15"
      ]
     },
     "execution_count": 12,
     "metadata": {},
     "output_type": "execute_result"
    }
   ],
   "source": [
    "my_list = [1, 2, 31, 4, 15, 6]\n",
    "my_list[4]"
   ]
  },
  {
   "cell_type": "code",
   "execution_count": 29,
   "id": "f2334ab0",
   "metadata": {},
   "outputs": [
    {
     "name": "stdout",
     "output_type": "stream",
     "text": [
      "[3, 6, 9, 12, 15, 18, 21]\n",
      "[9, 12, 15, 18, 21]\n",
      "[9, 12, 15]\n",
      "[9, 12, 15]\n",
      "[3, 6, 9, 12, 15, 18, 21]\n",
      "[3, 9, 15, 21]\n",
      "[3, 12, 21]\n",
      "[21, 18, 15, 12, 9, 6, 3]\n",
      "[15, 12, 9, 6, 3]\n",
      "[15, 12, 9, 6]\n",
      "[15, 12, 9, 6]\n"
     ]
    }
   ],
   "source": [
    "that_list = [3, 6, 9, 12, 15, 18, 21]\n",
    "print(that_list[ : ]) # If you don't specify start, stop, step, it gives entire list\n",
    "print(that_list[2:])\n",
    "print(that_list[2:5]) # The stop index is not inclusive\n",
    "print(that_list[-5:-2])\n",
    "\n",
    "print(that_list[ : : ])\n",
    "print(that_list[ : : 2]) # step of 2\n",
    "print(that_list[ : : 3]) # step of 3\n",
    "print(that_list[ : : -1]) # reverse order\n",
    "\n",
    "print(that_list[4: : -1]) # Starts at the 4th index and traverses backwards\n",
    "print(that_list[4: 0 : -1]) # This will traverse backwards and stop right before index 0 (stop index is not inclusive)\n",
    "\n",
    "print(that_list[-3:-7:-1])"
   ]
  },
  {
   "cell_type": "code",
   "execution_count": null,
   "id": "31611e49",
   "metadata": {},
   "outputs": [
    {
     "name": "stdout",
     "output_type": "stream",
     "text": [
      "[15, 12, 9, 6, 3]\n"
     ]
    }
   ],
   "source": [
    "that_list = [3, 6, 9, 12, 15, 18, 21]\n",
    "\n",
    "'''\n",
    "List:    [3,  6,  9, 12, 15, 18, 21]\n",
    "Indices: [0,  1,  2,  3,  4,  5,  6]\n",
    "Negative:[-7,-6, -5, -4, -3, -2, -1]\n",
    "'''\n",
    "\n",
    "print(that_list[-3:-18:-1])\n",
    "\n",
    "'''\n",
    "Even though -18 is out of bounds:\n",
    "\n",
    "Python treats it as \"go as far as possible in that direction\"\n",
    "Since we're going backwards (step -1), -18 becomes \"go to the very beginning\"\n",
    "It's equivalent to using None as the stop index\n",
    "\n",
    "This behavior applies to slicing only:\n",
    "'''\n",
    "\n",
    "# These all work the same way:\n",
    "that_list[-3:-18:-1]  # Out of bounds, goes to beginning\n",
    "that_list[-3::-1]     # Explicit \"go to beginning\"  \n",
    "that_list[-3:None:-1] # Same thing"
   ]
  },
  {
   "cell_type": "code",
   "execution_count": 33,
   "id": "3c760916",
   "metadata": {},
   "outputs": [
    {
     "name": "stdout",
     "output_type": "stream",
     "text": [
      "[1, 2, 3, 10, 5]\n",
      "[1, 2, 3, [10, 11], 5]\n"
     ]
    }
   ],
   "source": [
    "my_list = [1, 2, 3, 4, 5]\n",
    "my_list[3] = 10\n",
    "print(my_list)\n",
    "\n",
    "my_list[3] = [10,11] # This adds  the value as a nested list at index 3\n",
    "print(my_list)"
   ]
  },
  {
   "cell_type": "markdown",
   "id": "e2e396ce",
   "metadata": {},
   "source": [
    "Slicing: Start and Stop"
   ]
  },
  {
   "cell_type": "code",
   "execution_count": null,
   "id": "27267649",
   "metadata": {},
   "outputs": [
    {
     "name": "stdout",
     "output_type": "stream",
     "text": [
      "[10, 1, 2, 3, 4, 5]\n",
      "[10, 1, 2, 10, 3, 4, 5]\n",
      "[10, 1, 2, 10, 3, 4, 5, 10]\n"
     ]
    }
   ],
   "source": [
    "my_list = [1, 2, 3, 4, 5]\n",
    "\n",
    "my_list[0:0] = [10] # Insert at index 0 and shift elements to the right\n",
    "print(my_list)"
   ]
  },
  {
   "cell_type": "code",
   "execution_count": 42,
   "id": "708f3486",
   "metadata": {},
   "outputs": [
    {
     "name": "stdout",
     "output_type": "stream",
     "text": [
      "[1, 2, 3, 10, 4, 5]\n"
     ]
    }
   ],
   "source": [
    "my_list = [1, 2, 3, 4, 5]\n",
    "my_list[3:3] = [10] # Insert at index 3 and shift elements to the right\n",
    "print(my_list)"
   ]
  },
  {
   "cell_type": "code",
   "execution_count": 46,
   "id": "40888ffb",
   "metadata": {},
   "outputs": [],
   "source": [
    "my_list = [1, 2, 3, 4, 5]\n",
    "my_list[4:4] = [10] # Insert at the last index: it will push the last item at the last index to the right"
   ]
  },
  {
   "cell_type": "code",
   "execution_count": 43,
   "id": "1a24c46b",
   "metadata": {},
   "outputs": [
    {
     "name": "stdout",
     "output_type": "stream",
     "text": [
      "[1, 2, 3, 4, 5, 10]\n"
     ]
    }
   ],
   "source": [
    "my_list = [1, 2, 3, 4, 5]\n",
    "my_list[15:15] = [10] # If you provide any index outside the range, it will append to the end of the list\n",
    "print(my_list)"
   ]
  },
  {
   "cell_type": "code",
   "execution_count": 47,
   "id": "cf180f43",
   "metadata": {},
   "outputs": [
    {
     "name": "stdout",
     "output_type": "stream",
     "text": [
      "[1, 2, 3, 10, 11, 12, 4, 5]\n"
     ]
    }
   ],
   "source": [
    "my_list = [1, 2, 3, 4, 5]\n",
    "\n",
    "my_list[3:3] = [10,11,12] # When you mention start and stop, you can insert as many elements as you want\n",
    "\n",
    "print(my_list)"
   ]
  },
  {
   "cell_type": "code",
   "execution_count": null,
   "id": "2c92424a",
   "metadata": {},
   "outputs": [
    {
     "name": "stdout",
     "output_type": "stream",
     "text": [
      "[1, 10, 5]\n"
     ]
    }
   ],
   "source": [
    "my_list = [1, 2, 3, 4, 5]\n",
    "\n",
    "my_list[1:4] = [10] # This will remove the items at the specified range and insert just 10\n",
    "print(my_list)\n",
    "\n",
    "'''\n",
    "the stop index is not included in the removal - it follows the same \"stop index excluded\" rule as regular slicing.\n",
    "'''"
   ]
  },
  {
   "cell_type": "code",
   "execution_count": 50,
   "id": "66682c04",
   "metadata": {},
   "outputs": [
    {
     "name": "stdout",
     "output_type": "stream",
     "text": [
      "[1, 10, 188, 5, 545, 5]\n"
     ]
    }
   ],
   "source": [
    "my_list = [1, 2, 3, 4, 5]\n",
    "\n",
    "my_list[1:4] = [10, 188, 5, 545]\n",
    "print(my_list)"
   ]
  },
  {
   "cell_type": "markdown",
   "id": "f674fad0",
   "metadata": {},
   "source": [
    "Slicing: Start, Stop, Step"
   ]
  },
  {
   "cell_type": "code",
   "execution_count": 52,
   "id": "4aa4cee0",
   "metadata": {},
   "outputs": [
    {
     "ename": "ValueError",
     "evalue": "attempt to assign sequence of size 1 to extended slice of size 2",
     "output_type": "error",
     "traceback": [
      "\u001b[0;31m---------------------------------------------------------------------------\u001b[0m",
      "\u001b[0;31mValueError\u001b[0m                                Traceback (most recent call last)",
      "Cell \u001b[0;32mIn[52], line 2\u001b[0m\n\u001b[1;32m      1\u001b[0m my_list \u001b[38;5;241m=\u001b[39m [\u001b[38;5;241m1\u001b[39m, \u001b[38;5;241m2\u001b[39m, \u001b[38;5;241m3\u001b[39m, \u001b[38;5;241m4\u001b[39m, \u001b[38;5;241m5\u001b[39m]\n\u001b[0;32m----> 2\u001b[0m \u001b[43mmy_list\u001b[49m\u001b[43m[\u001b[49m\u001b[43m:\u001b[49m\u001b[43m:\u001b[49m\u001b[38;5;241;43m4\u001b[39;49m\u001b[43m]\u001b[49m \u001b[38;5;241m=\u001b[39m [\u001b[38;5;241m10\u001b[39m]\n",
      "\u001b[0;31mValueError\u001b[0m: attempt to assign sequence of size 1 to extended slice of size 2"
     ]
    }
   ],
   "source": [
    "my_list = [1, 2, 3, 4, 5]\n",
    "my_list[::4] = [10]"
   ]
  },
  {
   "cell_type": "code",
   "execution_count": null,
   "id": "9e753e3c",
   "metadata": {},
   "outputs": [],
   "source": [
    "my_list = [1, 2, 3, 4, 5]\n",
    "my_list[::2] = [10,11,12] # Replace three elements with three elements"
   ]
  },
  {
   "cell_type": "code",
   "execution_count": 53,
   "id": "2f46425d",
   "metadata": {},
   "outputs": [
    {
     "name": "stdout",
     "output_type": "stream",
     "text": [
      "[14, 13, 12, 11, 10]\n"
     ]
    }
   ],
   "source": [
    "my_list = [1, 2, 3, 4, 5]\n",
    "my_list[::-1] = [10,11,12,13,14] # This fills the list with the new elements in reverse order\n",
    "print(my_list)"
   ]
  },
  {
   "cell_type": "code",
   "execution_count": null,
   "id": "31a99c84",
   "metadata": {},
   "outputs": [
    {
     "name": "stdout",
     "output_type": "stream",
     "text": [
      "[1, 14, 13, 12, 5]\n"
     ]
    }
   ],
   "source": [
    "my_list = [1, 2, 3, 4, 5]\n",
    "my_list[3:0:-1] = [12,13,14] # Start at index 3, stop at the beginning, in reverse order\n",
    "print(my_list)"
   ]
  },
  {
   "cell_type": "markdown",
   "id": "5c770582",
   "metadata": {},
   "source": [
    "Operations on List\n",
    "- Concatenation\n",
    "- Repetition\n",
    "- Membership\n",
    "- List Comparison"
   ]
  },
  {
   "cell_type": "markdown",
   "id": "09fc448d",
   "metadata": {},
   "source": [
    "Concatenation"
   ]
  },
  {
   "cell_type": "code",
   "execution_count": null,
   "id": "723ed984",
   "metadata": {},
   "outputs": [
    {
     "name": "stdout",
     "output_type": "stream",
     "text": [
      "[1, 2, 3, 8, 9, 10]\n"
     ]
    }
   ],
   "source": [
    "# + Operator doesn't modify the original list\n",
    "L1 = [1,2,3]\n",
    "L2 = [8,9,10]\n",
    "L3 = L1+L2\n",
    "print(L3)"
   ]
  },
  {
   "cell_type": "code",
   "execution_count": null,
   "id": "c01cf7e9",
   "metadata": {},
   "outputs": [
    {
     "name": "stdout",
     "output_type": "stream",
     "text": [
      "[1, 2, 3, 4]\n",
      "[1, 2, 3]\n"
     ]
    }
   ],
   "source": [
    "L1 = [1,2,3]\n",
    "num = 4\n",
    "L2 = L1 + [num]\n",
    "print(L2)"
   ]
  },
  {
   "cell_type": "code",
   "execution_count": 66,
   "id": "a2427065",
   "metadata": {},
   "outputs": [
    {
     "name": "stdout",
     "output_type": "stream",
     "text": [
      "[1, 2, 3, 4, 88, 2]\n"
     ]
    }
   ],
   "source": [
    "# The extend method modifies the original list\n",
    "\n",
    "L1 = [1,2,3]\n",
    "L1.extend([4,88,2])\n",
    "print(L1)"
   ]
  },
  {
   "cell_type": "markdown",
   "id": "e73acd1b",
   "metadata": {},
   "source": [
    "Repitition"
   ]
  },
  {
   "cell_type": "code",
   "execution_count": 67,
   "id": "7b3cf991",
   "metadata": {},
   "outputs": [
    {
     "name": "stdout",
     "output_type": "stream",
     "text": [
      "[1, 2, 3, 1, 2, 3, 1, 2, 3]\n"
     ]
    }
   ],
   "source": [
    "L1 = [1,2,3]\n",
    "L2 = L1 * 3\n",
    "print(L2)"
   ]
  },
  {
   "cell_type": "markdown",
   "id": "ee87ea88",
   "metadata": {},
   "source": [
    "Membership"
   ]
  },
  {
   "cell_type": "code",
   "execution_count": 68,
   "id": "b6b35abc",
   "metadata": {},
   "outputs": [
    {
     "data": {
      "text/plain": [
       "True"
      ]
     },
     "execution_count": 68,
     "metadata": {},
     "output_type": "execute_result"
    }
   ],
   "source": [
    "l1 = [1,2,3]\n",
    "3 in l1"
   ]
  },
  {
   "cell_type": "code",
   "execution_count": 70,
   "id": "6847f4c0",
   "metadata": {},
   "outputs": [
    {
     "data": {
      "text/plain": [
       "True"
      ]
     },
     "execution_count": 70,
     "metadata": {},
     "output_type": "execute_result"
    }
   ],
   "source": [
    "nested_list = [[1,2],[3,4],5]\n",
    "[3,4] in nested_list"
   ]
  },
  {
   "cell_type": "code",
   "execution_count": 72,
   "id": "dfd62882",
   "metadata": {},
   "outputs": [
    {
     "name": "stdout",
     "output_type": "stream",
     "text": [
      "red\n",
      "yellow\n",
      "green\n"
     ]
    }
   ],
   "source": [
    "l1 = [\"red\", \"yellow\", \"green\"]\n",
    "\n",
    "for x in l1:\n",
    "    print(x)"
   ]
  },
  {
   "cell_type": "markdown",
   "id": "1eaf2823",
   "metadata": {},
   "source": [
    "List Comparison"
   ]
  },
  {
   "cell_type": "code",
   "execution_count": 74,
   "id": "f17439a2",
   "metadata": {},
   "outputs": [
    {
     "data": {
      "text/plain": [
       "True"
      ]
     },
     "execution_count": 74,
     "metadata": {},
     "output_type": "execute_result"
    }
   ],
   "source": [
    "l1 = [1,2,3]\n",
    "l2 = [1,2,3]\n",
    "l3 = [3,2,1]\n",
    "\n",
    "l1==l2"
   ]
  },
  {
   "cell_type": "code",
   "execution_count": 75,
   "id": "bf0a5cf3",
   "metadata": {},
   "outputs": [
    {
     "data": {
      "text/plain": [
       "False"
      ]
     },
     "execution_count": 75,
     "metadata": {},
     "output_type": "execute_result"
    }
   ],
   "source": [
    "l1==l3"
   ]
  },
  {
   "cell_type": "code",
   "execution_count": 76,
   "id": "3b31b3fa",
   "metadata": {},
   "outputs": [
    {
     "data": {
      "text/plain": [
       "True"
      ]
     },
     "execution_count": 76,
     "metadata": {},
     "output_type": "execute_result"
    }
   ],
   "source": [
    "l2!=l3"
   ]
  },
  {
   "cell_type": "code",
   "execution_count": 77,
   "id": "06d0e897",
   "metadata": {},
   "outputs": [
    {
     "data": {
      "text/plain": [
       "False"
      ]
     },
     "execution_count": 77,
     "metadata": {},
     "output_type": "execute_result"
    }
   ],
   "source": [
    "l1 = [1,2,3]\n",
    "l2 = [1,2,3,4]\n",
    "l3 = [1,2,1]\n",
    "\n",
    "l1 > l2"
   ]
  },
  {
   "cell_type": "code",
   "execution_count": 78,
   "id": "1ab39199",
   "metadata": {},
   "outputs": [
    {
     "data": {
      "text/plain": [
       "True"
      ]
     },
     "execution_count": 78,
     "metadata": {},
     "output_type": "execute_result"
    }
   ],
   "source": [
    "l1 > l3"
   ]
  },
  {
   "cell_type": "markdown",
   "id": "ae783469",
   "metadata": {},
   "source": [
    "List Traversals"
   ]
  },
  {
   "cell_type": "code",
   "execution_count": null,
   "id": "c2a1f673",
   "metadata": {},
   "outputs": [
    {
     "name": "stdout",
     "output_type": "stream",
     "text": [
      "5\n",
      "6\n",
      "7\n",
      "8\n",
      "9\n"
     ]
    }
   ],
   "source": [
    "l1 = [5,6,7,8,9]\n",
    "\n",
    "for x in l1: # We access the values directly\n",
    "    print(x)"
   ]
  },
  {
   "cell_type": "code",
   "execution_count": null,
   "id": "8262136b",
   "metadata": {},
   "outputs": [
    {
     "name": "stdout",
     "output_type": "stream",
     "text": [
      "0: 5\n",
      "1: 6\n",
      "2: 7\n",
      "3: 8\n",
      "4: 9\n"
     ]
    }
   ],
   "source": [
    "l1 = [5,6,7,8,9]\n",
    "\n",
    "for i in range(len(l1)): # We use range to access the indices\n",
    "    print(f\"{i}: {l1[i]}\")"
   ]
  },
  {
   "cell_type": "code",
   "execution_count": 90,
   "id": "1cc124ae",
   "metadata": {},
   "outputs": [
    {
     "name": "stdout",
     "output_type": "stream",
     "text": [
      "5\n",
      "6\n",
      "7\n",
      "8\n",
      "9\n"
     ]
    }
   ],
   "source": [
    "# Using while loop\n",
    "\n",
    "l1 = [5,6,7,8,9]\n",
    "\n",
    "i = 0\n",
    "\n",
    "while (i < len(l1)):\n",
    "    print(l1[i])\n",
    "    i+=1"
   ]
  },
  {
   "cell_type": "markdown",
   "id": "351652f6",
   "metadata": {},
   "source": [
    "Built-in Methods"
   ]
  },
  {
   "cell_type": "markdown",
   "id": "ecbf1736",
   "metadata": {},
   "source": [
    "Adding Elements\n",
    "- append(element)\n",
    "- extend(iterable)\n",
    "-  insert(index, element)\n",
    "- copy()"
   ]
  },
  {
   "cell_type": "markdown",
   "id": "dff02315",
   "metadata": {},
   "source": [
    "Append: for adding single values"
   ]
  },
  {
   "cell_type": "code",
   "execution_count": null,
   "id": "af2fd0b6",
   "metadata": {},
   "outputs": [
    {
     "name": "stdout",
     "output_type": "stream",
     "text": [
      "[5, 6, 7, 8, 9, 6]\n"
     ]
    }
   ],
   "source": [
    "l1 = [5,6,7,8,9]\n",
    "l1.append(6) # Takes exactly one argument\n",
    "print(l1)"
   ]
  },
  {
   "cell_type": "code",
   "execution_count": 95,
   "id": "b3f6ed60",
   "metadata": {},
   "outputs": [
    {
     "ename": "TypeError",
     "evalue": "list.append() takes exactly one argument (2 given)",
     "output_type": "error",
     "traceback": [
      "\u001b[0;31m---------------------------------------------------------------------------\u001b[0m",
      "\u001b[0;31mTypeError\u001b[0m                                 Traceback (most recent call last)",
      "Cell \u001b[0;32mIn[95], line 2\u001b[0m\n\u001b[1;32m      1\u001b[0m l1 \u001b[38;5;241m=\u001b[39m [\u001b[38;5;241m5\u001b[39m,\u001b[38;5;241m6\u001b[39m,\u001b[38;5;241m7\u001b[39m,\u001b[38;5;241m8\u001b[39m,\u001b[38;5;241m9\u001b[39m]\n\u001b[0;32m----> 2\u001b[0m \u001b[43ml1\u001b[49m\u001b[38;5;241;43m.\u001b[39;49m\u001b[43mappend\u001b[49m\u001b[43m(\u001b[49m\u001b[38;5;241;43m6\u001b[39;49m\u001b[43m,\u001b[49m\u001b[38;5;241;43m7\u001b[39;49m\u001b[43m)\u001b[49m \u001b[38;5;66;03m# This isn't allowed\u001b[39;00m\n\u001b[1;32m      3\u001b[0m \u001b[38;5;28mprint\u001b[39m(l1)\n",
      "\u001b[0;31mTypeError\u001b[0m: list.append() takes exactly one argument (2 given)"
     ]
    }
   ],
   "source": [
    "l1 = [5,6,7,8,9]\n",
    "l1.append(6,7) # This isn't allowed\n",
    "print(l1)"
   ]
  },
  {
   "cell_type": "code",
   "execution_count": 94,
   "id": "8185e88f",
   "metadata": {},
   "outputs": [
    {
     "name": "stdout",
     "output_type": "stream",
     "text": [
      "[10, 'Text', [1, 2]]\n"
     ]
    }
   ],
   "source": [
    "l1 = []\n",
    "l1.append(10)\n",
    "l1.append(\"Text\")\n",
    "l1.append([1,2]) # This is treated as a single list element\n",
    "\n",
    "print(l1)"
   ]
  },
  {
   "cell_type": "markdown",
   "id": "21c471af",
   "metadata": {},
   "source": [
    "Append with Slicing"
   ]
  },
  {
   "cell_type": "code",
   "execution_count": 96,
   "id": "1b701d14",
   "metadata": {},
   "outputs": [
    {
     "name": "stdout",
     "output_type": "stream",
     "text": [
      "[5, 6, 7, 8, 9, 10]\n"
     ]
    }
   ],
   "source": [
    "l1 = [5,6,7,8,9]\n",
    "l1[5:5] = [10]\n",
    "print(l1)"
   ]
  },
  {
   "cell_type": "markdown",
   "id": "db37355f",
   "metadata": {},
   "source": [
    "extend: for adding multiple values"
   ]
  },
  {
   "cell_type": "code",
   "execution_count": 98,
   "id": "c3254a7c",
   "metadata": {},
   "outputs": [
    {
     "name": "stdout",
     "output_type": "stream",
     "text": [
      "[5, 6, 7, 8, 9, 5, 6, 7]\n"
     ]
    }
   ],
   "source": [
    "l1 = [5,6,7,8,9]\n",
    "l1.extend([5,6,7])\n",
    "print(l1)"
   ]
  },
  {
   "cell_type": "code",
   "execution_count": 1,
   "id": "c01b8c3c",
   "metadata": {},
   "outputs": [
    {
     "name": "stdout",
     "output_type": "stream",
     "text": [
      "[5, 6, 7, 8, 9, 'p', 'y', 't', 'h', 'o', 'n']\n"
     ]
    }
   ],
   "source": [
    "# It iterates through the string and appends it each time\n",
    "l1 = [5,6,7,8,9]\n",
    "l1.extend('python') # Every indidual character will be taken and appended to the existing list. Deals with iterables\n",
    "print(l1) "
   ]
  },
  {
   "cell_type": "code",
   "execution_count": null,
   "id": "3df7d4ed",
   "metadata": {},
   "outputs": [
    {
     "name": "stdout",
     "output_type": "stream",
     "text": [
      "[1, 2, 3, 4, 5, 6, 7]\n"
     ]
    }
   ],
   "source": [
    "l1 = [1,2,3,4]\n",
    "l1.extend(range(5,8)) # Since range is iterables\n",
    "print(l1)"
   ]
  },
  {
   "cell_type": "markdown",
   "id": "2d6aec5a",
   "metadata": {},
   "source": [
    "Insert"
   ]
  },
  {
   "cell_type": "code",
   "execution_count": 102,
   "id": "2385c498",
   "metadata": {},
   "outputs": [
    {
     "name": "stdout",
     "output_type": "stream",
     "text": [
      "[1, 2, 50, 3, 4]\n"
     ]
    }
   ],
   "source": [
    "# Inserts an element at a given index\n",
    "l1 = [1,2,3,4]\n",
    "l1.insert(2, 50)\n",
    "print(l1)"
   ]
  },
  {
   "cell_type": "code",
   "execution_count": 103,
   "id": "b0efef23",
   "metadata": {},
   "outputs": [
    {
     "name": "stdout",
     "output_type": "stream",
     "text": [
      "[1, 2, 3, 4, 50]\n"
     ]
    }
   ],
   "source": [
    "#  Any invallid index is inserted at the endd\n",
    "l1 = [1,2,3,4]\n",
    "l1.insert(50, 50)\n",
    "print(l1)"
   ]
  },
  {
   "cell_type": "markdown",
   "id": "84aba8ad",
   "metadata": {},
   "source": [
    "Copy"
   ]
  },
  {
   "cell_type": "code",
   "execution_count": null,
   "id": "8e6715fd",
   "metadata": {},
   "outputs": [],
   "source": [
    "l1 = [1,2,3,4]\n",
    "l2 = l1.copy # Shallow copy"
   ]
  },
  {
   "cell_type": "markdown",
   "id": "51c1cf8b",
   "metadata": {},
   "source": [
    "Removing elements from a list:\n",
    "- pop(index) # index arg is optional\n",
    "- remove(index) # value (not indexf) arg is required\n",
    "- clear()\n",
    "- del"
   ]
  },
  {
   "cell_type": "code",
   "execution_count": 4,
   "id": "68eeda5a",
   "metadata": {},
   "outputs": [
    {
     "data": {
      "text/plain": [
       "5"
      ]
     },
     "execution_count": 4,
     "metadata": {},
     "output_type": "execute_result"
    }
   ],
   "source": [
    "l1 = [1,2,3,4,5]\n",
    "\n",
    "l1.pop() # Removes the last element and returns it"
   ]
  },
  {
   "cell_type": "code",
   "execution_count": 5,
   "id": "ab8ba389",
   "metadata": {},
   "outputs": [
    {
     "name": "stdout",
     "output_type": "stream",
     "text": [
      "[1, 2, 4, 5]\n"
     ]
    }
   ],
   "source": [
    "l1 = [1,2,3,4,5]\n",
    "l1.pop(2)\n",
    "\n",
    "print(l1)"
   ]
  },
  {
   "cell_type": "code",
   "execution_count": 6,
   "id": "8918ec95",
   "metadata": {},
   "outputs": [
    {
     "ename": "IndexError",
     "evalue": "pop index out of range",
     "output_type": "error",
     "traceback": [
      "\u001b[1;31m---------------------------------------------------------------------------\u001b[0m",
      "\u001b[1;31mIndexError\u001b[0m                                Traceback (most recent call last)",
      "Cell \u001b[1;32mIn[6], line 2\u001b[0m\n\u001b[0;32m      1\u001b[0m l1 \u001b[38;5;241m=\u001b[39m [\u001b[38;5;241m1\u001b[39m,\u001b[38;5;241m2\u001b[39m,\u001b[38;5;241m3\u001b[39m,\u001b[38;5;241m4\u001b[39m,\u001b[38;5;241m5\u001b[39m]\n\u001b[1;32m----> 2\u001b[0m \u001b[43ml1\u001b[49m\u001b[38;5;241;43m.\u001b[39;49m\u001b[43mpop\u001b[49m\u001b[43m(\u001b[49m\u001b[38;5;241;43m7\u001b[39;49m\u001b[43m)\u001b[49m \u001b[38;5;66;03m# If you provide an index that is out of bounds, it will raise an IndexError\u001b[39;00m\n",
      "\u001b[1;31mIndexError\u001b[0m: pop index out of range"
     ]
    }
   ],
   "source": [
    "l1 = [1,2,3,4,5]\n",
    "l1.pop(7) # If you provide an index that is out of bounds, it will raise an IndexError"
   ]
  },
  {
   "cell_type": "code",
   "execution_count": 8,
   "id": "dd6be522",
   "metadata": {},
   "outputs": [
    {
     "name": "stdout",
     "output_type": "stream",
     "text": [
      "[1, 2, 4, 5]\n"
     ]
    }
   ],
   "source": [
    "l1 = [1,2,3,4,5]\n",
    "l1.remove(3) # removes the first occurrence of the value 3\n",
    "print(l1)"
   ]
  },
  {
   "cell_type": "code",
   "execution_count": 9,
   "id": "ab42b462",
   "metadata": {},
   "outputs": [
    {
     "name": "stdout",
     "output_type": "stream",
     "text": [
      "[]\n"
     ]
    }
   ],
   "source": [
    "l1 = [1,2,3,4,5]\n",
    "l1.clear() # Removes all elements from the list\n",
    "print(l1)"
   ]
  },
  {
   "cell_type": "code",
   "execution_count": 10,
   "id": "a0ff8e94",
   "metadata": {},
   "outputs": [
    {
     "name": "stdout",
     "output_type": "stream",
     "text": [
      "[1, 2, 4, 5]\n"
     ]
    }
   ],
   "source": [
    "l1 = [1,2,3,4,5]\n",
    "del l1[2] # Deletes the element at index 2. Similar to pop but doesn't return the value\n",
    "print(l1)"
   ]
  },
  {
   "cell_type": "code",
   "execution_count": 12,
   "id": "9af8ab57",
   "metadata": {},
   "outputs": [
    {
     "name": "stdout",
     "output_type": "stream",
     "text": [
      "[1, 5]\n"
     ]
    }
   ],
   "source": [
    "l1 = [1,2,3,4,5]\n",
    "del l1[1:4] # Deletes the elements from index 1 to index 4 (exclusive)\n",
    "print(l1)"
   ]
  },
  {
   "cell_type": "code",
   "execution_count": 14,
   "id": "7be56ff9",
   "metadata": {},
   "outputs": [
    {
     "ename": "NameError",
     "evalue": "name 'l1' is not defined",
     "output_type": "error",
     "traceback": [
      "\u001b[1;31m---------------------------------------------------------------------------\u001b[0m",
      "\u001b[1;31mNameError\u001b[0m                                 Traceback (most recent call last)",
      "Cell \u001b[1;32mIn[14], line 3\u001b[0m\n\u001b[0;32m      1\u001b[0m l1 \u001b[38;5;241m=\u001b[39m [\u001b[38;5;241m1\u001b[39m,\u001b[38;5;241m2\u001b[39m,\u001b[38;5;241m3\u001b[39m,\u001b[38;5;241m4\u001b[39m,\u001b[38;5;241m5\u001b[39m]\n\u001b[0;32m      2\u001b[0m \u001b[38;5;28;01mdel\u001b[39;00m l1\n\u001b[1;32m----> 3\u001b[0m \u001b[38;5;28mprint\u001b[39m(\u001b[43ml1\u001b[49m) \u001b[38;5;66;03m# This will raise a NameError since l1 is deleted and variable no longer exists\u001b[39;00m\n",
      "\u001b[1;31mNameError\u001b[0m: name 'l1' is not defined"
     ]
    }
   ],
   "source": [
    "l1 = [1,2,3,4,5]\n",
    "del l1\n",
    "print(l1) # This will raise a NameError since l1 is deleted and variable no longer exists"
   ]
  },
  {
   "cell_type": "markdown",
   "id": "9cb5924a",
   "metadata": {},
   "source": [
    "The `del` statement in Python is valuable because it allows you to remove elements from a list, slices of a list, or even entire variables from memory. When you use `del` on a variable, it deletes the reference to the object, freeing up memory and preventing further access to that variable. This is especially useful for managing resources and ensuring that unused variables do not consume memory unnecessarily."
   ]
  },
  {
   "cell_type": "code",
   "execution_count": null,
   "id": "d0826789",
   "metadata": {},
   "outputs": [],
   "source": []
  }
 ],
 "metadata": {
  "kernelspec": {
   "display_name": "conda_env",
   "language": "python",
   "name": "conda_env"
  },
  "language_info": {
   "codemirror_mode": {
    "name": "ipython",
    "version": 3
   },
   "file_extension": ".py",
   "mimetype": "text/x-python",
   "name": "python",
   "nbconvert_exporter": "python",
   "pygments_lexer": "ipython3",
   "version": "3.10.16"
  }
 },
 "nbformat": 4,
 "nbformat_minor": 5
}
