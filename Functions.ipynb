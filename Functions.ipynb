{
 "cells": [
  {
   "cell_type": "markdown",
   "id": "b857828b",
   "metadata": {},
   "source": [
    "Functions"
   ]
  },
  {
   "cell_type": "code",
   "execution_count": null,
   "id": "be10b257",
   "metadata": {},
   "outputs": [
    {
     "name": "stdout",
     "output_type": "stream",
     "text": [
      "150\n"
     ]
    }
   ],
   "source": [
    "'''\n",
    "Function simply refers to a piece of code that performs a specific task.\n",
    "\n",
    "Functions are resuable: write once, use many times\n",
    "- Supports team-based development\n",
    "\n",
    "They take parameters as input and return output.\n",
    "\n",
    "Built-in: Frequently used functions\n",
    "\n",
    "\n",
    "def fun_name(<parameters>):\n",
    "    statement 1\n",
    "    statement two\n",
    "    return value --> The output or results of a function\n",
    "\n",
    "'''\n",
    "\n",
    "def volume(length, breadth, height): # formal parameters/arguments\n",
    "    vol = length * breadth * height\n",
    "    return vol\n",
    "\n",
    "v = volume(10,5,3) # actual parameters/arguments\n",
    "print(v)\n"
   ]
  }
 ],
 "metadata": {
  "kernelspec": {
   "display_name": "venv",
   "language": "python",
   "name": "python3"
  },
  "language_info": {
   "codemirror_mode": {
    "name": "ipython",
    "version": 3
   },
   "file_extension": ".py",
   "mimetype": "text/x-python",
   "name": "python",
   "nbconvert_exporter": "python",
   "pygments_lexer": "ipython3",
   "version": "3.10.12"
  }
 },
 "nbformat": 4,
 "nbformat_minor": 5
}
