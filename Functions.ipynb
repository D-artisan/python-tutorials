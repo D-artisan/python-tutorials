{
 "cells": [
  {
   "cell_type": "markdown",
   "id": "b857828b",
   "metadata": {},
   "source": [
    "Functions\n",
    "\n",
    "![Variables](/home/dnti/dartisan/tutorials/python/images/functions.png)"
   ]
  },
  {
   "cell_type": "code",
   "execution_count": 20,
   "id": "be10b257",
   "metadata": {},
   "outputs": [
    {
     "name": "stdout",
     "output_type": "stream",
     "text": [
      "150\n"
     ]
    }
   ],
   "source": [
    "'''\n",
    "Function simply refers to a piece of code that performs a specific task.\n",
    "\n",
    "Functions are resuable: write once, use many times\n",
    "- Supports team-based development\n",
    "\n",
    "They take parameters as input and return output.\n",
    "\n",
    "Built-in: Frequently used functions\n",
    "\n",
    "\n",
    "def fun_name(<parameters>):\n",
    "    statement 1\n",
    "    statement two\n",
    "    return value --> The output or results of a function\n",
    "\n",
    "'''\n",
    "\n",
    "def volume(length, breadth, height): # formal parameters/arguments\n",
    "    vol = length * breadth * height\n",
    "    return vol\n",
    "\n",
    "v = volume(10,5,3) # actual parameters/arguments\n",
    "print(v)\n"
   ]
  },
  {
   "cell_type": "markdown",
   "id": "93d05764",
   "metadata": {},
   "source": [
    "Positional vs Keyword Arguments\n",
    "\n",
    "# Positional Arguments\n",
    "- Parameters are passed in the order in which they are written.\n",
    "v = volume(10,5,3)\n",
    "\n",
    "# Keyword Arguments\n",
    "v = volume(length=10,breadth=5,height=3) \n",
    "Keyword arguments can be passed in any order\n",
    "e.g.\n",
    "v = volume(breadth=5, length=10, height=3) \n",
    "\n",
    "\n",
    "# Mixed Arguments\n",
    "v = volume(10, 5, height=3)\n",
    "\n",
    "- Either use positional or keyword arguments, but not both\n",
    "\n",
    "- You can't write keyword arguments before positional argument (Positional on left, keyword on right)\n"
   ]
  },
  {
   "cell_type": "code",
   "execution_count": 21,
   "id": "a08a8766",
   "metadata": {},
   "outputs": [
    {
     "data": {
      "text/plain": [
       "20"
      ]
     },
     "execution_count": 21,
     "metadata": {},
     "output_type": "execute_result"
    }
   ],
   "source": [
    "# Default Arguments\n",
    "# If no arguments are passed, functionas pass the default values they have\n",
    "\n",
    "L1 = [10,20,30,40,20,50,20]\n",
    "L1.index(20)\n",
    "\n",
    "L1.pop() # over here, pop() passes the index() functional pop(index=len(l)-1)"
   ]
  },
  {
   "cell_type": "markdown",
   "id": "4a613805",
   "metadata": {},
   "source": [
    "- You can have default arguments of any type\n",
    "\n",
    "![Variables](/home/dnti/dartisan/tutorials/python/images/default_arguments.png)"
   ]
  },
  {
   "cell_type": "code",
   "execution_count": 22,
   "id": "9a299d83",
   "metadata": {},
   "outputs": [],
   "source": [
    "def volume(l,b=1,h=1):\n",
    "    v = 1*b*h\n",
    "    return v\n",
    "\n",
    "\n",
    "v = volume(10,5,3)\n",
    "v1 = volume(10,5)\n",
    "v3 = volume(10)\n",
    "# v4 = volume() # This won't work as default argument isn't provided for l \n",
    "\n",
    "# Default arguments must be filled from the right hand side\n",
    "\n"
   ]
  },
  {
   "cell_type": "code",
   "execution_count": 23,
   "id": "4610ed07",
   "metadata": {},
   "outputs": [
    {
     "name": "stdout",
     "output_type": "stream",
     "text": [
      "3 1 (2, 3, 4)\n"
     ]
    }
   ],
   "source": [
    "# Default arguments can be of any type: you can even pass list or tuples\n",
    "\n",
    "def fun(a=3,b=1,c=(2,3,4)):\n",
    "    print(a, b, c)\n",
    "\n",
    "\n",
    "fun()"
   ]
  },
  {
   "cell_type": "code",
   "execution_count": null,
   "id": "84f57cc5",
   "metadata": {},
   "outputs": [
    {
     "name": "stdout",
     "output_type": "stream",
     "text": [
      "[1, 2, 3, 3]\n",
      "[1, 2, 3, 3, 4]\n",
      "[10, 11, 2]\n",
      "[1, 2, 3, 3, 4, 5]\n"
     ]
    }
   ],
   "source": [
    "# default arguments are created only once (first time)\n",
    "def fun(l=[1,2,3]):\n",
    "    l.append(len(l))\n",
    "    print(l)\n",
    "\n",
    "fun()\n",
    "fun()\n",
    "fun([10,11])\n",
    "fun()"
   ]
  },
  {
   "cell_type": "markdown",
   "id": "dddccd7c",
   "metadata": {},
   "source": [
    "Positional-Only Arguments\n",
    "\n",
    "![Variables](/home/dnti/dartisan/tutorials/python/images/positional_only.png)\n",
    "\n",
    "![Variables](/home/dnti/dartisan/tutorials/python/images/pos_only_args.png)"
   ]
  },
  {
   "cell_type": "code",
   "execution_count": 35,
   "id": "6e2cab5d",
   "metadata": {},
   "outputs": [
    {
     "name": "stdout",
     "output_type": "stream",
     "text": [
      "6 10 15 20\n"
     ]
    }
   ],
   "source": [
    "def fun(a, b, /,  c, d):\n",
    "    print(a, b, c, d)\n",
    "\n",
    "fun(6,10,15, 20)"
   ]
  },
  {
   "cell_type": "code",
   "execution_count": null,
   "id": "f7a5ef72",
   "metadata": {},
   "outputs": [],
   "source": [
    "def fun(a, b, c, /, d): #a,b,c must be positional only, d can be positional or keyword arg\n",
    "    print(a, b, c, d)\n",
    "\n",
    "def fun2(a, b, c, d, /): #all must be positional only args\n",
    "    print(a, b, c, d)\n",
    "\n",
    "def fun3(a, /, b, c, d): # only a must be strictly positional arg\n",
    "    print(a, b, c, d)\n",
    "\n",
    "def fun4(/, a, b, c, d): # This isn't allowed\n",
    "    print(a, b, c, d)"
   ]
  },
  {
   "cell_type": "markdown",
   "id": "7861bd4d",
   "metadata": {},
   "source": [
    "Keyword-Only Arguments\n",
    "\n",
    "![Variables](/home/dnti/dartisan/tutorials/python/images/keyword_only.png)\n",
    "![Variables](/home/dnti/dartisan/tutorials/python/images/keyword_only1.png)\n",
    "![Variables](/home/dnti/dartisan/tutorials/python/images/keyword_only2.png)"
   ]
  },
  {
   "cell_type": "markdown",
   "id": "63290561",
   "metadata": {},
   "source": [
    "Variable length arguments"
   ]
  },
  {
   "cell_type": "code",
   "execution_count": null,
   "id": "99220882",
   "metadata": {},
   "outputs": [
    {
     "name": "stdout",
     "output_type": "stream",
     "text": [
      "(10, 20, 30)\n",
      "(5, 1.25, 'hello', 15)\n"
     ]
    }
   ],
   "source": [
    "def fun(*args): # Variable length positional arguments\n",
    "    print(args)\n",
    "\n",
    "fun(10, 20, 30) # * args takes actual parameters as tuples \n",
    "fun(5, 1.25, \"hello\", 15)"
   ]
  },
  {
   "cell_type": "code",
   "execution_count": 38,
   "id": "4f3a8893",
   "metadata": {},
   "outputs": [
    {
     "name": "stdout",
     "output_type": "stream",
     "text": [
      "5\n",
      "15\n"
     ]
    }
   ],
   "source": [
    "def fun(*args):\n",
    "    for x in args: \n",
    "        if type(x)==int:\n",
    "            print(x)\n",
    "            \n",
    "fun(5, 1.25, \"hello\", 15)"
   ]
  },
  {
   "cell_type": "markdown",
   "id": "86a8568e",
   "metadata": {},
   "source": [
    "Multiple Returns"
   ]
  },
  {
   "cell_type": "code",
   "execution_count": 39,
   "id": "d0b990d0",
   "metadata": {},
   "outputs": [
    {
     "data": {
      "text/plain": [
       "(19, 240)"
      ]
     },
     "execution_count": 39,
     "metadata": {},
     "output_type": "execute_result"
    }
   ],
   "source": [
    "def fun(a, b, c):\n",
    "    sum = a + b + c\n",
    "    product = a * b * c\n",
    "    return sum, product\n",
    "\n",
    "fun(5,8,6)"
   ]
  },
  {
   "cell_type": "code",
   "execution_count": 40,
   "id": "dc3d029d",
   "metadata": {},
   "outputs": [
    {
     "name": "stdout",
     "output_type": "stream",
     "text": [
      "(190, 63.333333333333336, 'Pass')\n"
     ]
    }
   ],
   "source": [
    "def result(mark1, mark2, mark3):\n",
    "    total = mark1+mark2+mark3\n",
    "    average = total/3\n",
    "    if average >=45:\n",
    "        grade = 'Pass'\n",
    "    else:\n",
    "        grade = 'Fail'\n",
    "\n",
    "    return total, average, grade\n",
    "\n",
    "print(result(55,60,75))"
   ]
  },
  {
   "cell_type": "markdown",
   "id": "ff4c008f",
   "metadata": {},
   "source": [
    "Iterators & Generators"
   ]
  },
  {
   "cell_type": "code",
   "execution_count": null,
   "id": "c56fec22",
   "metadata": {},
   "outputs": [
    {
     "name": "stdout",
     "output_type": "stream",
     "text": [
      "5\n",
      "6\n",
      "10\n",
      "11\n",
      "15\n"
     ]
    }
   ],
   "source": [
    "L1 = [5,6,10,11,15]\n",
    "\n",
    "# for x in L1:\n",
    "#     print(x)\n",
    "\n",
    "it = iter(L1)\n",
    "next(it)"
   ]
  },
  {
   "cell_type": "code",
   "execution_count": 47,
   "id": "ee779ac0",
   "metadata": {},
   "outputs": [
    {
     "name": "stdout",
     "output_type": "stream",
     "text": [
      "0\n",
      "1\n",
      "2\n",
      "3\n"
     ]
    }
   ],
   "source": [
    "# Generators\n",
    "\n",
    "def myrange(n):\n",
    "    i = 0\n",
    "    while i < n:\n",
    "        yield i\n",
    "        i += 1\n",
    "\n",
    "m = myrange(4)\n",
    "print(next(m))\n",
    "print(next(m))\n",
    "print(next(m))\n",
    "print(next(m))"
   ]
  },
  {
   "cell_type": "code",
   "execution_count": null,
   "id": "11e8c8b8",
   "metadata": {},
   "outputs": [
    {
     "name": "stdout",
     "output_type": "stream",
     "text": [
      "Sun\n",
      "Mon\n"
     ]
    }
   ],
   "source": [
    "# Generators\n",
    "\n",
    "def days():\n",
    "    days_of_the_week = ['Sun', 'Mon', 'Tue', 'Wed', 'Thu', 'Fri', 'Sat']\n",
    "    i = 0\n",
    "    while True:\n",
    "        yield days_of_the_week[i]\n",
    "        i = (i+1) % 7\n",
    "\n",
    "day = days()\n",
    "print(next(day))\n",
    "print(next(day))"
   ]
  }
 ],
 "metadata": {
  "kernelspec": {
   "display_name": "venv",
   "language": "python",
   "name": "python3"
  },
  "language_info": {
   "codemirror_mode": {
    "name": "ipython",
    "version": 3
   },
   "file_extension": ".py",
   "mimetype": "text/x-python",
   "name": "python",
   "nbconvert_exporter": "python",
   "pygments_lexer": "ipython3",
   "version": "3.10.12"
  }
 },
 "nbformat": 4,
 "nbformat_minor": 5
}
